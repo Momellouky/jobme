{
 "cells": [
  {
   "metadata": {
    "ExecuteTime": {
     "end_time": "2024-10-26T13:30:12.999798Z",
     "start_time": "2024-10-26T13:30:12.996748Z"
    }
   },
   "cell_type": "code",
   "source": [
    "import pandas as pd\n",
    "import mlflow\n",
    "from mlflow.tracking import MlflowClient\n",
    "\n",
    "import os \n",
    "import sklearn\n",
    "import pickle\n",
    "import yaml\n"
   ],
   "id": "e0b64abe38f9bd0d",
   "outputs": [],
   "execution_count": 22
  },
  {
   "metadata": {
    "ExecuteTime": {
     "end_time": "2024-10-26T13:31:37.105648Z",
     "start_time": "2024-10-26T13:31:37.101869Z"
    }
   },
   "cell_type": "code",
   "source": [
    "MLFLOW_TRACKING_URI = '../models/mlruns'\n",
    "MLFLOW_RUN_ID = \"88dd333d1e6a46029a6910bef05c43f3\"\n",
    "\n",
    "LOG_DATA_PKL    =  \"data.pkl\"\n",
    "LOG_MODEL_PKL   =  \"model.pkl\"\n",
    "LOG_METRICS_PKL =  \"metrics.pkl\"\n",
    "\n",
    "CLUSTERS_YAML_PATH = \"../data/processed/feature_engineering/features_skills_clusters_description.yaml\""
   ],
   "id": "9180a1b3c10d227a",
   "outputs": [],
   "execution_count": 33
  },
  {
   "metadata": {
    "ExecuteTime": {
     "end_time": "2024-10-26T13:30:13.065525Z",
     "start_time": "2024-10-26T13:30:13.054908Z"
    }
   },
   "cell_type": "code",
   "source": [
    "mlflow.set_tracking_uri(MLFLOW_TRACKING_URI)\n",
    "client = MlflowClient()\n",
    "\n",
    "run = mlflow.get_run(MLFLOW_RUN_ID)\n",
    "artificats_path = run.info.artifact_uri\n",
    "artificats_path"
   ],
   "id": "460cfec34f28f175",
   "outputs": [
    {
     "data": {
      "text/plain": [
       "'file:///C:/Users/wannatry/Documents/Mellouky/Projects/jobme/notebooks/../models/mlruns/826215840783647024/88dd333d1e6a46029a6910bef05c43f3/artifacts'"
      ]
     },
     "execution_count": 24,
     "metadata": {},
     "output_type": "execute_result"
    }
   ],
   "execution_count": 24
  },
  {
   "metadata": {},
   "cell_type": "markdown",
   "source": "# Load Model",
   "id": "4f368c32fbd1048a"
  },
  {
   "metadata": {
    "ExecuteTime": {
     "end_time": "2024-10-26T13:30:13.080376Z",
     "start_time": "2024-10-26T13:30:13.076759Z"
    }
   },
   "cell_type": "code",
   "source": "artificats_path",
   "id": "7f3098c5b18a15f4",
   "outputs": [
    {
     "data": {
      "text/plain": [
       "'file:///C:/Users/wannatry/Documents/Mellouky/Projects/jobme/notebooks/../models/mlruns/826215840783647024/88dd333d1e6a46029a6910bef05c43f3/artifacts'"
      ]
     },
     "execution_count": 25,
     "metadata": {},
     "output_type": "execute_result"
    }
   ],
   "execution_count": 25
  },
  {
   "metadata": {
    "ExecuteTime": {
     "end_time": "2024-10-26T13:30:13.169625Z",
     "start_time": "2024-10-26T13:30:13.166286Z"
    }
   },
   "cell_type": "code",
   "source": [
    "# remove the work file\n",
    "\n",
    "artificats_path = artificats_path[8:]"
   ],
   "id": "856d01c5d85acaf4",
   "outputs": [],
   "execution_count": 26
  },
  {
   "metadata": {
    "ExecuteTime": {
     "end_time": "2024-10-26T13:42:29.803235Z",
     "start_time": "2024-10-26T13:42:29.799100Z"
    }
   },
   "cell_type": "code",
   "source": "LOG_MODEL_PKL",
   "id": "4c8aba4590ea197e",
   "outputs": [
    {
     "data": {
      "text/plain": [
       "'model.pkl'"
      ]
     },
     "execution_count": 76,
     "metadata": {},
     "output_type": "execute_result"
    }
   ],
   "execution_count": 76
  },
  {
   "metadata": {
    "ExecuteTime": {
     "end_time": "2024-10-26T13:30:13.453747Z",
     "start_time": "2024-10-26T13:30:13.196713Z"
    }
   },
   "cell_type": "code",
   "source": [
    "model_path = os.path.join(artificats_path, LOG_MODEL_PKL)\n",
    "print(model_path)\n",
    "with open(model_path, \"rb\") as f:\n",
    "    model = pickle.load(f)\n",
    "# \n",
    "# model"
   ],
   "id": "7b6febc4270a8310",
   "outputs": [
    {
     "name": "stdout",
     "output_type": "stream",
     "text": [
      "C:/Users/wannatry/Documents/Mellouky/Projects/jobme/notebooks/../models/mlruns/826215840783647024/88dd333d1e6a46029a6910bef05c43f3/artifacts\\model.pkl\n"
     ]
    }
   ],
   "execution_count": 27
  },
  {
   "metadata": {
    "ExecuteTime": {
     "end_time": "2024-10-26T13:42:50.972182Z",
     "start_time": "2024-10-26T13:42:50.963874Z"
    }
   },
   "cell_type": "code",
   "source": "model",
   "id": "9b0a43a475c2c8c8",
   "outputs": [
    {
     "data": {
      "text/plain": [
       "{'model_description': 'Random Forest: with PCA - Basic',\n",
       " 'model_details': \"Pipeline(steps=[('robustscaler', RobustScaler()),\\n                ('pca', PCA(n_components=0.95)),\\n                ('randomforestclassifier',\\n                 RandomForestClassifier(n_jobs=8, random_state=0, verbose=1))])\",\n",
       " 'model_object': Pipeline(steps=[('robustscaler', RobustScaler()),\n",
       "                 ('pca', PCA(n_components=0.95)),\n",
       "                 ('randomforestclassifier',\n",
       "                  RandomForestClassifier(n_jobs=8, random_state=0, verbose=1))])}"
      ]
     },
     "execution_count": 77,
     "metadata": {},
     "output_type": "execute_result"
    }
   ],
   "execution_count": 77
  },
  {
   "metadata": {
    "ExecuteTime": {
     "end_time": "2024-10-26T13:30:13.553703Z",
     "start_time": "2024-10-26T13:30:13.546693Z"
    }
   },
   "cell_type": "code",
   "source": [
    "data_path  = os.path.join(artificats_path, LOG_DATA_PKL)\n",
    "with open(data_path, 'rb') as handle:\n",
    "    data = pickle.load(handle)\n",
    "\n",
    "data.keys()"
   ],
   "id": "b19ce1096b1ecc76",
   "outputs": [
    {
     "data": {
      "text/plain": [
       "dict_keys(['data_path', 'training_indices', 'test_indices', 'features_names', 'targets_names'])"
      ]
     },
     "execution_count": 29,
     "metadata": {},
     "output_type": "execute_result"
    }
   ],
   "execution_count": 29
  },
  {
   "metadata": {
    "ExecuteTime": {
     "end_time": "2024-10-26T13:30:42.085304Z",
     "start_time": "2024-10-26T13:30:42.080181Z"
    }
   },
   "cell_type": "code",
   "source": [
    "features_names = pd.Series(data[\"features_names\"])\n",
    "targets_names  = pd.Series(data['targets_names'])\n",
    "classifier = model['model_object']"
   ],
   "id": "1eefd17877eb81a9",
   "outputs": [],
   "execution_count": 30
  },
  {
   "metadata": {
    "ExecuteTime": {
     "end_time": "2024-10-26T13:43:52.498700Z",
     "start_time": "2024-10-26T13:43:52.486852Z"
    }
   },
   "cell_type": "code",
   "source": "classifier",
   "id": "87f2b90f93a1bdc5",
   "outputs": [
    {
     "data": {
      "text/plain": [
       "Pipeline(steps=[('robustscaler', RobustScaler()),\n",
       "                ('pca', PCA(n_components=0.95)),\n",
       "                ('randomforestclassifier',\n",
       "                 RandomForestClassifier(n_jobs=8, random_state=0, verbose=1))])"
      ],
      "text/html": [
       "<style>#sk-container-id-2 {\n",
       "  /* Definition of color scheme common for light and dark mode */\n",
       "  --sklearn-color-text: black;\n",
       "  --sklearn-color-line: gray;\n",
       "  /* Definition of color scheme for unfitted estimators */\n",
       "  --sklearn-color-unfitted-level-0: #fff5e6;\n",
       "  --sklearn-color-unfitted-level-1: #f6e4d2;\n",
       "  --sklearn-color-unfitted-level-2: #ffe0b3;\n",
       "  --sklearn-color-unfitted-level-3: chocolate;\n",
       "  /* Definition of color scheme for fitted estimators */\n",
       "  --sklearn-color-fitted-level-0: #f0f8ff;\n",
       "  --sklearn-color-fitted-level-1: #d4ebff;\n",
       "  --sklearn-color-fitted-level-2: #b3dbfd;\n",
       "  --sklearn-color-fitted-level-3: cornflowerblue;\n",
       "\n",
       "  /* Specific color for light theme */\n",
       "  --sklearn-color-text-on-default-background: var(--sg-text-color, var(--theme-code-foreground, var(--jp-content-font-color1, black)));\n",
       "  --sklearn-color-background: var(--sg-background-color, var(--theme-background, var(--jp-layout-color0, white)));\n",
       "  --sklearn-color-border-box: var(--sg-text-color, var(--theme-code-foreground, var(--jp-content-font-color1, black)));\n",
       "  --sklearn-color-icon: #696969;\n",
       "\n",
       "  @media (prefers-color-scheme: dark) {\n",
       "    /* Redefinition of color scheme for dark theme */\n",
       "    --sklearn-color-text-on-default-background: var(--sg-text-color, var(--theme-code-foreground, var(--jp-content-font-color1, white)));\n",
       "    --sklearn-color-background: var(--sg-background-color, var(--theme-background, var(--jp-layout-color0, #111)));\n",
       "    --sklearn-color-border-box: var(--sg-text-color, var(--theme-code-foreground, var(--jp-content-font-color1, white)));\n",
       "    --sklearn-color-icon: #878787;\n",
       "  }\n",
       "}\n",
       "\n",
       "#sk-container-id-2 {\n",
       "  color: var(--sklearn-color-text);\n",
       "}\n",
       "\n",
       "#sk-container-id-2 pre {\n",
       "  padding: 0;\n",
       "}\n",
       "\n",
       "#sk-container-id-2 input.sk-hidden--visually {\n",
       "  border: 0;\n",
       "  clip: rect(1px 1px 1px 1px);\n",
       "  clip: rect(1px, 1px, 1px, 1px);\n",
       "  height: 1px;\n",
       "  margin: -1px;\n",
       "  overflow: hidden;\n",
       "  padding: 0;\n",
       "  position: absolute;\n",
       "  width: 1px;\n",
       "}\n",
       "\n",
       "#sk-container-id-2 div.sk-dashed-wrapped {\n",
       "  border: 1px dashed var(--sklearn-color-line);\n",
       "  margin: 0 0.4em 0.5em 0.4em;\n",
       "  box-sizing: border-box;\n",
       "  padding-bottom: 0.4em;\n",
       "  background-color: var(--sklearn-color-background);\n",
       "}\n",
       "\n",
       "#sk-container-id-2 div.sk-container {\n",
       "  /* jupyter's `normalize.less` sets `[hidden] { display: none; }`\n",
       "     but bootstrap.min.css set `[hidden] { display: none !important; }`\n",
       "     so we also need the `!important` here to be able to override the\n",
       "     default hidden behavior on the sphinx rendered scikit-learn.org.\n",
       "     See: https://github.com/scikit-learn/scikit-learn/issues/21755 */\n",
       "  display: inline-block !important;\n",
       "  position: relative;\n",
       "}\n",
       "\n",
       "#sk-container-id-2 div.sk-text-repr-fallback {\n",
       "  display: none;\n",
       "}\n",
       "\n",
       "div.sk-parallel-item,\n",
       "div.sk-serial,\n",
       "div.sk-item {\n",
       "  /* draw centered vertical line to link estimators */\n",
       "  background-image: linear-gradient(var(--sklearn-color-text-on-default-background), var(--sklearn-color-text-on-default-background));\n",
       "  background-size: 2px 100%;\n",
       "  background-repeat: no-repeat;\n",
       "  background-position: center center;\n",
       "}\n",
       "\n",
       "/* Parallel-specific style estimator block */\n",
       "\n",
       "#sk-container-id-2 div.sk-parallel-item::after {\n",
       "  content: \"\";\n",
       "  width: 100%;\n",
       "  border-bottom: 2px solid var(--sklearn-color-text-on-default-background);\n",
       "  flex-grow: 1;\n",
       "}\n",
       "\n",
       "#sk-container-id-2 div.sk-parallel {\n",
       "  display: flex;\n",
       "  align-items: stretch;\n",
       "  justify-content: center;\n",
       "  background-color: var(--sklearn-color-background);\n",
       "  position: relative;\n",
       "}\n",
       "\n",
       "#sk-container-id-2 div.sk-parallel-item {\n",
       "  display: flex;\n",
       "  flex-direction: column;\n",
       "}\n",
       "\n",
       "#sk-container-id-2 div.sk-parallel-item:first-child::after {\n",
       "  align-self: flex-end;\n",
       "  width: 50%;\n",
       "}\n",
       "\n",
       "#sk-container-id-2 div.sk-parallel-item:last-child::after {\n",
       "  align-self: flex-start;\n",
       "  width: 50%;\n",
       "}\n",
       "\n",
       "#sk-container-id-2 div.sk-parallel-item:only-child::after {\n",
       "  width: 0;\n",
       "}\n",
       "\n",
       "/* Serial-specific style estimator block */\n",
       "\n",
       "#sk-container-id-2 div.sk-serial {\n",
       "  display: flex;\n",
       "  flex-direction: column;\n",
       "  align-items: center;\n",
       "  background-color: var(--sklearn-color-background);\n",
       "  padding-right: 1em;\n",
       "  padding-left: 1em;\n",
       "}\n",
       "\n",
       "\n",
       "/* Toggleable style: style used for estimator/Pipeline/ColumnTransformer box that is\n",
       "clickable and can be expanded/collapsed.\n",
       "- Pipeline and ColumnTransformer use this feature and define the default style\n",
       "- Estimators will overwrite some part of the style using the `sk-estimator` class\n",
       "*/\n",
       "\n",
       "/* Pipeline and ColumnTransformer style (default) */\n",
       "\n",
       "#sk-container-id-2 div.sk-toggleable {\n",
       "  /* Default theme specific background. It is overwritten whether we have a\n",
       "  specific estimator or a Pipeline/ColumnTransformer */\n",
       "  background-color: var(--sklearn-color-background);\n",
       "}\n",
       "\n",
       "/* Toggleable label */\n",
       "#sk-container-id-2 label.sk-toggleable__label {\n",
       "  cursor: pointer;\n",
       "  display: block;\n",
       "  width: 100%;\n",
       "  margin-bottom: 0;\n",
       "  padding: 0.5em;\n",
       "  box-sizing: border-box;\n",
       "  text-align: center;\n",
       "}\n",
       "\n",
       "#sk-container-id-2 label.sk-toggleable__label-arrow:before {\n",
       "  /* Arrow on the left of the label */\n",
       "  content: \"▸\";\n",
       "  float: left;\n",
       "  margin-right: 0.25em;\n",
       "  color: var(--sklearn-color-icon);\n",
       "}\n",
       "\n",
       "#sk-container-id-2 label.sk-toggleable__label-arrow:hover:before {\n",
       "  color: var(--sklearn-color-text);\n",
       "}\n",
       "\n",
       "/* Toggleable content - dropdown */\n",
       "\n",
       "#sk-container-id-2 div.sk-toggleable__content {\n",
       "  max-height: 0;\n",
       "  max-width: 0;\n",
       "  overflow: hidden;\n",
       "  text-align: left;\n",
       "  /* unfitted */\n",
       "  background-color: var(--sklearn-color-unfitted-level-0);\n",
       "}\n",
       "\n",
       "#sk-container-id-2 div.sk-toggleable__content.fitted {\n",
       "  /* fitted */\n",
       "  background-color: var(--sklearn-color-fitted-level-0);\n",
       "}\n",
       "\n",
       "#sk-container-id-2 div.sk-toggleable__content pre {\n",
       "  margin: 0.2em;\n",
       "  border-radius: 0.25em;\n",
       "  color: var(--sklearn-color-text);\n",
       "  /* unfitted */\n",
       "  background-color: var(--sklearn-color-unfitted-level-0);\n",
       "}\n",
       "\n",
       "#sk-container-id-2 div.sk-toggleable__content.fitted pre {\n",
       "  /* unfitted */\n",
       "  background-color: var(--sklearn-color-fitted-level-0);\n",
       "}\n",
       "\n",
       "#sk-container-id-2 input.sk-toggleable__control:checked~div.sk-toggleable__content {\n",
       "  /* Expand drop-down */\n",
       "  max-height: 200px;\n",
       "  max-width: 100%;\n",
       "  overflow: auto;\n",
       "}\n",
       "\n",
       "#sk-container-id-2 input.sk-toggleable__control:checked~label.sk-toggleable__label-arrow:before {\n",
       "  content: \"▾\";\n",
       "}\n",
       "\n",
       "/* Pipeline/ColumnTransformer-specific style */\n",
       "\n",
       "#sk-container-id-2 div.sk-label input.sk-toggleable__control:checked~label.sk-toggleable__label {\n",
       "  color: var(--sklearn-color-text);\n",
       "  background-color: var(--sklearn-color-unfitted-level-2);\n",
       "}\n",
       "\n",
       "#sk-container-id-2 div.sk-label.fitted input.sk-toggleable__control:checked~label.sk-toggleable__label {\n",
       "  background-color: var(--sklearn-color-fitted-level-2);\n",
       "}\n",
       "\n",
       "/* Estimator-specific style */\n",
       "\n",
       "/* Colorize estimator box */\n",
       "#sk-container-id-2 div.sk-estimator input.sk-toggleable__control:checked~label.sk-toggleable__label {\n",
       "  /* unfitted */\n",
       "  background-color: var(--sklearn-color-unfitted-level-2);\n",
       "}\n",
       "\n",
       "#sk-container-id-2 div.sk-estimator.fitted input.sk-toggleable__control:checked~label.sk-toggleable__label {\n",
       "  /* fitted */\n",
       "  background-color: var(--sklearn-color-fitted-level-2);\n",
       "}\n",
       "\n",
       "#sk-container-id-2 div.sk-label label.sk-toggleable__label,\n",
       "#sk-container-id-2 div.sk-label label {\n",
       "  /* The background is the default theme color */\n",
       "  color: var(--sklearn-color-text-on-default-background);\n",
       "}\n",
       "\n",
       "/* On hover, darken the color of the background */\n",
       "#sk-container-id-2 div.sk-label:hover label.sk-toggleable__label {\n",
       "  color: var(--sklearn-color-text);\n",
       "  background-color: var(--sklearn-color-unfitted-level-2);\n",
       "}\n",
       "\n",
       "/* Label box, darken color on hover, fitted */\n",
       "#sk-container-id-2 div.sk-label.fitted:hover label.sk-toggleable__label.fitted {\n",
       "  color: var(--sklearn-color-text);\n",
       "  background-color: var(--sklearn-color-fitted-level-2);\n",
       "}\n",
       "\n",
       "/* Estimator label */\n",
       "\n",
       "#sk-container-id-2 div.sk-label label {\n",
       "  font-family: monospace;\n",
       "  font-weight: bold;\n",
       "  display: inline-block;\n",
       "  line-height: 1.2em;\n",
       "}\n",
       "\n",
       "#sk-container-id-2 div.sk-label-container {\n",
       "  text-align: center;\n",
       "}\n",
       "\n",
       "/* Estimator-specific */\n",
       "#sk-container-id-2 div.sk-estimator {\n",
       "  font-family: monospace;\n",
       "  border: 1px dotted var(--sklearn-color-border-box);\n",
       "  border-radius: 0.25em;\n",
       "  box-sizing: border-box;\n",
       "  margin-bottom: 0.5em;\n",
       "  /* unfitted */\n",
       "  background-color: var(--sklearn-color-unfitted-level-0);\n",
       "}\n",
       "\n",
       "#sk-container-id-2 div.sk-estimator.fitted {\n",
       "  /* fitted */\n",
       "  background-color: var(--sklearn-color-fitted-level-0);\n",
       "}\n",
       "\n",
       "/* on hover */\n",
       "#sk-container-id-2 div.sk-estimator:hover {\n",
       "  /* unfitted */\n",
       "  background-color: var(--sklearn-color-unfitted-level-2);\n",
       "}\n",
       "\n",
       "#sk-container-id-2 div.sk-estimator.fitted:hover {\n",
       "  /* fitted */\n",
       "  background-color: var(--sklearn-color-fitted-level-2);\n",
       "}\n",
       "\n",
       "/* Specification for estimator info (e.g. \"i\" and \"?\") */\n",
       "\n",
       "/* Common style for \"i\" and \"?\" */\n",
       "\n",
       ".sk-estimator-doc-link,\n",
       "a:link.sk-estimator-doc-link,\n",
       "a:visited.sk-estimator-doc-link {\n",
       "  float: right;\n",
       "  font-size: smaller;\n",
       "  line-height: 1em;\n",
       "  font-family: monospace;\n",
       "  background-color: var(--sklearn-color-background);\n",
       "  border-radius: 1em;\n",
       "  height: 1em;\n",
       "  width: 1em;\n",
       "  text-decoration: none !important;\n",
       "  margin-left: 1ex;\n",
       "  /* unfitted */\n",
       "  border: var(--sklearn-color-unfitted-level-1) 1pt solid;\n",
       "  color: var(--sklearn-color-unfitted-level-1);\n",
       "}\n",
       "\n",
       ".sk-estimator-doc-link.fitted,\n",
       "a:link.sk-estimator-doc-link.fitted,\n",
       "a:visited.sk-estimator-doc-link.fitted {\n",
       "  /* fitted */\n",
       "  border: var(--sklearn-color-fitted-level-1) 1pt solid;\n",
       "  color: var(--sklearn-color-fitted-level-1);\n",
       "}\n",
       "\n",
       "/* On hover */\n",
       "div.sk-estimator:hover .sk-estimator-doc-link:hover,\n",
       ".sk-estimator-doc-link:hover,\n",
       "div.sk-label-container:hover .sk-estimator-doc-link:hover,\n",
       ".sk-estimator-doc-link:hover {\n",
       "  /* unfitted */\n",
       "  background-color: var(--sklearn-color-unfitted-level-3);\n",
       "  color: var(--sklearn-color-background);\n",
       "  text-decoration: none;\n",
       "}\n",
       "\n",
       "div.sk-estimator.fitted:hover .sk-estimator-doc-link.fitted:hover,\n",
       ".sk-estimator-doc-link.fitted:hover,\n",
       "div.sk-label-container:hover .sk-estimator-doc-link.fitted:hover,\n",
       ".sk-estimator-doc-link.fitted:hover {\n",
       "  /* fitted */\n",
       "  background-color: var(--sklearn-color-fitted-level-3);\n",
       "  color: var(--sklearn-color-background);\n",
       "  text-decoration: none;\n",
       "}\n",
       "\n",
       "/* Span, style for the box shown on hovering the info icon */\n",
       ".sk-estimator-doc-link span {\n",
       "  display: none;\n",
       "  z-index: 9999;\n",
       "  position: relative;\n",
       "  font-weight: normal;\n",
       "  right: .2ex;\n",
       "  padding: .5ex;\n",
       "  margin: .5ex;\n",
       "  width: min-content;\n",
       "  min-width: 20ex;\n",
       "  max-width: 50ex;\n",
       "  color: var(--sklearn-color-text);\n",
       "  box-shadow: 2pt 2pt 4pt #999;\n",
       "  /* unfitted */\n",
       "  background: var(--sklearn-color-unfitted-level-0);\n",
       "  border: .5pt solid var(--sklearn-color-unfitted-level-3);\n",
       "}\n",
       "\n",
       ".sk-estimator-doc-link.fitted span {\n",
       "  /* fitted */\n",
       "  background: var(--sklearn-color-fitted-level-0);\n",
       "  border: var(--sklearn-color-fitted-level-3);\n",
       "}\n",
       "\n",
       ".sk-estimator-doc-link:hover span {\n",
       "  display: block;\n",
       "}\n",
       "\n",
       "/* \"?\"-specific style due to the `<a>` HTML tag */\n",
       "\n",
       "#sk-container-id-2 a.estimator_doc_link {\n",
       "  float: right;\n",
       "  font-size: 1rem;\n",
       "  line-height: 1em;\n",
       "  font-family: monospace;\n",
       "  background-color: var(--sklearn-color-background);\n",
       "  border-radius: 1rem;\n",
       "  height: 1rem;\n",
       "  width: 1rem;\n",
       "  text-decoration: none;\n",
       "  /* unfitted */\n",
       "  color: var(--sklearn-color-unfitted-level-1);\n",
       "  border: var(--sklearn-color-unfitted-level-1) 1pt solid;\n",
       "}\n",
       "\n",
       "#sk-container-id-2 a.estimator_doc_link.fitted {\n",
       "  /* fitted */\n",
       "  border: var(--sklearn-color-fitted-level-1) 1pt solid;\n",
       "  color: var(--sklearn-color-fitted-level-1);\n",
       "}\n",
       "\n",
       "/* On hover */\n",
       "#sk-container-id-2 a.estimator_doc_link:hover {\n",
       "  /* unfitted */\n",
       "  background-color: var(--sklearn-color-unfitted-level-3);\n",
       "  color: var(--sklearn-color-background);\n",
       "  text-decoration: none;\n",
       "}\n",
       "\n",
       "#sk-container-id-2 a.estimator_doc_link.fitted:hover {\n",
       "  /* fitted */\n",
       "  background-color: var(--sklearn-color-fitted-level-3);\n",
       "}\n",
       "</style><div id=\"sk-container-id-2\" class=\"sk-top-container\"><div class=\"sk-text-repr-fallback\"><pre>Pipeline(steps=[(&#x27;robustscaler&#x27;, RobustScaler()),\n",
       "                (&#x27;pca&#x27;, PCA(n_components=0.95)),\n",
       "                (&#x27;randomforestclassifier&#x27;,\n",
       "                 RandomForestClassifier(n_jobs=8, random_state=0, verbose=1))])</pre><b>In a Jupyter environment, please rerun this cell to show the HTML representation or trust the notebook. <br />On GitHub, the HTML representation is unable to render, please try loading this page with nbviewer.org.</b></div><div class=\"sk-container\" hidden><div class=\"sk-item sk-dashed-wrapped\"><div class=\"sk-label-container\"><div class=\"sk-label fitted sk-toggleable\"><input class=\"sk-toggleable__control sk-hidden--visually\" id=\"sk-estimator-id-5\" type=\"checkbox\" ><label for=\"sk-estimator-id-5\" class=\"sk-toggleable__label fitted sk-toggleable__label-arrow fitted\">&nbsp;&nbsp;Pipeline<a class=\"sk-estimator-doc-link fitted\" rel=\"noreferrer\" target=\"_blank\" href=\"https://scikit-learn.org/1.5/modules/generated/sklearn.pipeline.Pipeline.html\">?<span>Documentation for Pipeline</span></a><span class=\"sk-estimator-doc-link fitted\">i<span>Fitted</span></span></label><div class=\"sk-toggleable__content fitted\"><pre>Pipeline(steps=[(&#x27;robustscaler&#x27;, RobustScaler()),\n",
       "                (&#x27;pca&#x27;, PCA(n_components=0.95)),\n",
       "                (&#x27;randomforestclassifier&#x27;,\n",
       "                 RandomForestClassifier(n_jobs=8, random_state=0, verbose=1))])</pre></div> </div></div><div class=\"sk-serial\"><div class=\"sk-item\"><div class=\"sk-estimator fitted sk-toggleable\"><input class=\"sk-toggleable__control sk-hidden--visually\" id=\"sk-estimator-id-6\" type=\"checkbox\" ><label for=\"sk-estimator-id-6\" class=\"sk-toggleable__label fitted sk-toggleable__label-arrow fitted\">&nbsp;RobustScaler<a class=\"sk-estimator-doc-link fitted\" rel=\"noreferrer\" target=\"_blank\" href=\"https://scikit-learn.org/1.5/modules/generated/sklearn.preprocessing.RobustScaler.html\">?<span>Documentation for RobustScaler</span></a></label><div class=\"sk-toggleable__content fitted\"><pre>RobustScaler()</pre></div> </div></div><div class=\"sk-item\"><div class=\"sk-estimator fitted sk-toggleable\"><input class=\"sk-toggleable__control sk-hidden--visually\" id=\"sk-estimator-id-7\" type=\"checkbox\" ><label for=\"sk-estimator-id-7\" class=\"sk-toggleable__label fitted sk-toggleable__label-arrow fitted\">&nbsp;PCA<a class=\"sk-estimator-doc-link fitted\" rel=\"noreferrer\" target=\"_blank\" href=\"https://scikit-learn.org/1.5/modules/generated/sklearn.decomposition.PCA.html\">?<span>Documentation for PCA</span></a></label><div class=\"sk-toggleable__content fitted\"><pre>PCA(n_components=0.95)</pre></div> </div></div><div class=\"sk-item\"><div class=\"sk-estimator fitted sk-toggleable\"><input class=\"sk-toggleable__control sk-hidden--visually\" id=\"sk-estimator-id-8\" type=\"checkbox\" ><label for=\"sk-estimator-id-8\" class=\"sk-toggleable__label fitted sk-toggleable__label-arrow fitted\">&nbsp;RandomForestClassifier<a class=\"sk-estimator-doc-link fitted\" rel=\"noreferrer\" target=\"_blank\" href=\"https://scikit-learn.org/1.5/modules/generated/sklearn.ensemble.RandomForestClassifier.html\">?<span>Documentation for RandomForestClassifier</span></a></label><div class=\"sk-toggleable__content fitted\"><pre>RandomForestClassifier(n_jobs=8, random_state=0, verbose=1)</pre></div> </div></div></div></div></div></div>"
      ]
     },
     "execution_count": 81,
     "metadata": {},
     "output_type": "execute_result"
    }
   ],
   "execution_count": 81
  },
  {
   "metadata": {
    "ExecuteTime": {
     "end_time": "2024-10-26T13:30:46.158349Z",
     "start_time": "2024-10-26T13:30:46.147919Z"
    }
   },
   "cell_type": "code",
   "source": "classifier",
   "id": "95467b94ead6c741",
   "outputs": [
    {
     "data": {
      "text/plain": [
       "Pipeline(steps=[('robustscaler', RobustScaler()),\n",
       "                ('pca', PCA(n_components=0.95)),\n",
       "                ('randomforestclassifier',\n",
       "                 RandomForestClassifier(n_jobs=8, random_state=0, verbose=1))])"
      ],
      "text/html": [
       "<style>#sk-container-id-1 {\n",
       "  /* Definition of color scheme common for light and dark mode */\n",
       "  --sklearn-color-text: black;\n",
       "  --sklearn-color-line: gray;\n",
       "  /* Definition of color scheme for unfitted estimators */\n",
       "  --sklearn-color-unfitted-level-0: #fff5e6;\n",
       "  --sklearn-color-unfitted-level-1: #f6e4d2;\n",
       "  --sklearn-color-unfitted-level-2: #ffe0b3;\n",
       "  --sklearn-color-unfitted-level-3: chocolate;\n",
       "  /* Definition of color scheme for fitted estimators */\n",
       "  --sklearn-color-fitted-level-0: #f0f8ff;\n",
       "  --sklearn-color-fitted-level-1: #d4ebff;\n",
       "  --sklearn-color-fitted-level-2: #b3dbfd;\n",
       "  --sklearn-color-fitted-level-3: cornflowerblue;\n",
       "\n",
       "  /* Specific color for light theme */\n",
       "  --sklearn-color-text-on-default-background: var(--sg-text-color, var(--theme-code-foreground, var(--jp-content-font-color1, black)));\n",
       "  --sklearn-color-background: var(--sg-background-color, var(--theme-background, var(--jp-layout-color0, white)));\n",
       "  --sklearn-color-border-box: var(--sg-text-color, var(--theme-code-foreground, var(--jp-content-font-color1, black)));\n",
       "  --sklearn-color-icon: #696969;\n",
       "\n",
       "  @media (prefers-color-scheme: dark) {\n",
       "    /* Redefinition of color scheme for dark theme */\n",
       "    --sklearn-color-text-on-default-background: var(--sg-text-color, var(--theme-code-foreground, var(--jp-content-font-color1, white)));\n",
       "    --sklearn-color-background: var(--sg-background-color, var(--theme-background, var(--jp-layout-color0, #111)));\n",
       "    --sklearn-color-border-box: var(--sg-text-color, var(--theme-code-foreground, var(--jp-content-font-color1, white)));\n",
       "    --sklearn-color-icon: #878787;\n",
       "  }\n",
       "}\n",
       "\n",
       "#sk-container-id-1 {\n",
       "  color: var(--sklearn-color-text);\n",
       "}\n",
       "\n",
       "#sk-container-id-1 pre {\n",
       "  padding: 0;\n",
       "}\n",
       "\n",
       "#sk-container-id-1 input.sk-hidden--visually {\n",
       "  border: 0;\n",
       "  clip: rect(1px 1px 1px 1px);\n",
       "  clip: rect(1px, 1px, 1px, 1px);\n",
       "  height: 1px;\n",
       "  margin: -1px;\n",
       "  overflow: hidden;\n",
       "  padding: 0;\n",
       "  position: absolute;\n",
       "  width: 1px;\n",
       "}\n",
       "\n",
       "#sk-container-id-1 div.sk-dashed-wrapped {\n",
       "  border: 1px dashed var(--sklearn-color-line);\n",
       "  margin: 0 0.4em 0.5em 0.4em;\n",
       "  box-sizing: border-box;\n",
       "  padding-bottom: 0.4em;\n",
       "  background-color: var(--sklearn-color-background);\n",
       "}\n",
       "\n",
       "#sk-container-id-1 div.sk-container {\n",
       "  /* jupyter's `normalize.less` sets `[hidden] { display: none; }`\n",
       "     but bootstrap.min.css set `[hidden] { display: none !important; }`\n",
       "     so we also need the `!important` here to be able to override the\n",
       "     default hidden behavior on the sphinx rendered scikit-learn.org.\n",
       "     See: https://github.com/scikit-learn/scikit-learn/issues/21755 */\n",
       "  display: inline-block !important;\n",
       "  position: relative;\n",
       "}\n",
       "\n",
       "#sk-container-id-1 div.sk-text-repr-fallback {\n",
       "  display: none;\n",
       "}\n",
       "\n",
       "div.sk-parallel-item,\n",
       "div.sk-serial,\n",
       "div.sk-item {\n",
       "  /* draw centered vertical line to link estimators */\n",
       "  background-image: linear-gradient(var(--sklearn-color-text-on-default-background), var(--sklearn-color-text-on-default-background));\n",
       "  background-size: 2px 100%;\n",
       "  background-repeat: no-repeat;\n",
       "  background-position: center center;\n",
       "}\n",
       "\n",
       "/* Parallel-specific style estimator block */\n",
       "\n",
       "#sk-container-id-1 div.sk-parallel-item::after {\n",
       "  content: \"\";\n",
       "  width: 100%;\n",
       "  border-bottom: 2px solid var(--sklearn-color-text-on-default-background);\n",
       "  flex-grow: 1;\n",
       "}\n",
       "\n",
       "#sk-container-id-1 div.sk-parallel {\n",
       "  display: flex;\n",
       "  align-items: stretch;\n",
       "  justify-content: center;\n",
       "  background-color: var(--sklearn-color-background);\n",
       "  position: relative;\n",
       "}\n",
       "\n",
       "#sk-container-id-1 div.sk-parallel-item {\n",
       "  display: flex;\n",
       "  flex-direction: column;\n",
       "}\n",
       "\n",
       "#sk-container-id-1 div.sk-parallel-item:first-child::after {\n",
       "  align-self: flex-end;\n",
       "  width: 50%;\n",
       "}\n",
       "\n",
       "#sk-container-id-1 div.sk-parallel-item:last-child::after {\n",
       "  align-self: flex-start;\n",
       "  width: 50%;\n",
       "}\n",
       "\n",
       "#sk-container-id-1 div.sk-parallel-item:only-child::after {\n",
       "  width: 0;\n",
       "}\n",
       "\n",
       "/* Serial-specific style estimator block */\n",
       "\n",
       "#sk-container-id-1 div.sk-serial {\n",
       "  display: flex;\n",
       "  flex-direction: column;\n",
       "  align-items: center;\n",
       "  background-color: var(--sklearn-color-background);\n",
       "  padding-right: 1em;\n",
       "  padding-left: 1em;\n",
       "}\n",
       "\n",
       "\n",
       "/* Toggleable style: style used for estimator/Pipeline/ColumnTransformer box that is\n",
       "clickable and can be expanded/collapsed.\n",
       "- Pipeline and ColumnTransformer use this feature and define the default style\n",
       "- Estimators will overwrite some part of the style using the `sk-estimator` class\n",
       "*/\n",
       "\n",
       "/* Pipeline and ColumnTransformer style (default) */\n",
       "\n",
       "#sk-container-id-1 div.sk-toggleable {\n",
       "  /* Default theme specific background. It is overwritten whether we have a\n",
       "  specific estimator or a Pipeline/ColumnTransformer */\n",
       "  background-color: var(--sklearn-color-background);\n",
       "}\n",
       "\n",
       "/* Toggleable label */\n",
       "#sk-container-id-1 label.sk-toggleable__label {\n",
       "  cursor: pointer;\n",
       "  display: block;\n",
       "  width: 100%;\n",
       "  margin-bottom: 0;\n",
       "  padding: 0.5em;\n",
       "  box-sizing: border-box;\n",
       "  text-align: center;\n",
       "}\n",
       "\n",
       "#sk-container-id-1 label.sk-toggleable__label-arrow:before {\n",
       "  /* Arrow on the left of the label */\n",
       "  content: \"▸\";\n",
       "  float: left;\n",
       "  margin-right: 0.25em;\n",
       "  color: var(--sklearn-color-icon);\n",
       "}\n",
       "\n",
       "#sk-container-id-1 label.sk-toggleable__label-arrow:hover:before {\n",
       "  color: var(--sklearn-color-text);\n",
       "}\n",
       "\n",
       "/* Toggleable content - dropdown */\n",
       "\n",
       "#sk-container-id-1 div.sk-toggleable__content {\n",
       "  max-height: 0;\n",
       "  max-width: 0;\n",
       "  overflow: hidden;\n",
       "  text-align: left;\n",
       "  /* unfitted */\n",
       "  background-color: var(--sklearn-color-unfitted-level-0);\n",
       "}\n",
       "\n",
       "#sk-container-id-1 div.sk-toggleable__content.fitted {\n",
       "  /* fitted */\n",
       "  background-color: var(--sklearn-color-fitted-level-0);\n",
       "}\n",
       "\n",
       "#sk-container-id-1 div.sk-toggleable__content pre {\n",
       "  margin: 0.2em;\n",
       "  border-radius: 0.25em;\n",
       "  color: var(--sklearn-color-text);\n",
       "  /* unfitted */\n",
       "  background-color: var(--sklearn-color-unfitted-level-0);\n",
       "}\n",
       "\n",
       "#sk-container-id-1 div.sk-toggleable__content.fitted pre {\n",
       "  /* unfitted */\n",
       "  background-color: var(--sklearn-color-fitted-level-0);\n",
       "}\n",
       "\n",
       "#sk-container-id-1 input.sk-toggleable__control:checked~div.sk-toggleable__content {\n",
       "  /* Expand drop-down */\n",
       "  max-height: 200px;\n",
       "  max-width: 100%;\n",
       "  overflow: auto;\n",
       "}\n",
       "\n",
       "#sk-container-id-1 input.sk-toggleable__control:checked~label.sk-toggleable__label-arrow:before {\n",
       "  content: \"▾\";\n",
       "}\n",
       "\n",
       "/* Pipeline/ColumnTransformer-specific style */\n",
       "\n",
       "#sk-container-id-1 div.sk-label input.sk-toggleable__control:checked~label.sk-toggleable__label {\n",
       "  color: var(--sklearn-color-text);\n",
       "  background-color: var(--sklearn-color-unfitted-level-2);\n",
       "}\n",
       "\n",
       "#sk-container-id-1 div.sk-label.fitted input.sk-toggleable__control:checked~label.sk-toggleable__label {\n",
       "  background-color: var(--sklearn-color-fitted-level-2);\n",
       "}\n",
       "\n",
       "/* Estimator-specific style */\n",
       "\n",
       "/* Colorize estimator box */\n",
       "#sk-container-id-1 div.sk-estimator input.sk-toggleable__control:checked~label.sk-toggleable__label {\n",
       "  /* unfitted */\n",
       "  background-color: var(--sklearn-color-unfitted-level-2);\n",
       "}\n",
       "\n",
       "#sk-container-id-1 div.sk-estimator.fitted input.sk-toggleable__control:checked~label.sk-toggleable__label {\n",
       "  /* fitted */\n",
       "  background-color: var(--sklearn-color-fitted-level-2);\n",
       "}\n",
       "\n",
       "#sk-container-id-1 div.sk-label label.sk-toggleable__label,\n",
       "#sk-container-id-1 div.sk-label label {\n",
       "  /* The background is the default theme color */\n",
       "  color: var(--sklearn-color-text-on-default-background);\n",
       "}\n",
       "\n",
       "/* On hover, darken the color of the background */\n",
       "#sk-container-id-1 div.sk-label:hover label.sk-toggleable__label {\n",
       "  color: var(--sklearn-color-text);\n",
       "  background-color: var(--sklearn-color-unfitted-level-2);\n",
       "}\n",
       "\n",
       "/* Label box, darken color on hover, fitted */\n",
       "#sk-container-id-1 div.sk-label.fitted:hover label.sk-toggleable__label.fitted {\n",
       "  color: var(--sklearn-color-text);\n",
       "  background-color: var(--sklearn-color-fitted-level-2);\n",
       "}\n",
       "\n",
       "/* Estimator label */\n",
       "\n",
       "#sk-container-id-1 div.sk-label label {\n",
       "  font-family: monospace;\n",
       "  font-weight: bold;\n",
       "  display: inline-block;\n",
       "  line-height: 1.2em;\n",
       "}\n",
       "\n",
       "#sk-container-id-1 div.sk-label-container {\n",
       "  text-align: center;\n",
       "}\n",
       "\n",
       "/* Estimator-specific */\n",
       "#sk-container-id-1 div.sk-estimator {\n",
       "  font-family: monospace;\n",
       "  border: 1px dotted var(--sklearn-color-border-box);\n",
       "  border-radius: 0.25em;\n",
       "  box-sizing: border-box;\n",
       "  margin-bottom: 0.5em;\n",
       "  /* unfitted */\n",
       "  background-color: var(--sklearn-color-unfitted-level-0);\n",
       "}\n",
       "\n",
       "#sk-container-id-1 div.sk-estimator.fitted {\n",
       "  /* fitted */\n",
       "  background-color: var(--sklearn-color-fitted-level-0);\n",
       "}\n",
       "\n",
       "/* on hover */\n",
       "#sk-container-id-1 div.sk-estimator:hover {\n",
       "  /* unfitted */\n",
       "  background-color: var(--sklearn-color-unfitted-level-2);\n",
       "}\n",
       "\n",
       "#sk-container-id-1 div.sk-estimator.fitted:hover {\n",
       "  /* fitted */\n",
       "  background-color: var(--sklearn-color-fitted-level-2);\n",
       "}\n",
       "\n",
       "/* Specification for estimator info (e.g. \"i\" and \"?\") */\n",
       "\n",
       "/* Common style for \"i\" and \"?\" */\n",
       "\n",
       ".sk-estimator-doc-link,\n",
       "a:link.sk-estimator-doc-link,\n",
       "a:visited.sk-estimator-doc-link {\n",
       "  float: right;\n",
       "  font-size: smaller;\n",
       "  line-height: 1em;\n",
       "  font-family: monospace;\n",
       "  background-color: var(--sklearn-color-background);\n",
       "  border-radius: 1em;\n",
       "  height: 1em;\n",
       "  width: 1em;\n",
       "  text-decoration: none !important;\n",
       "  margin-left: 1ex;\n",
       "  /* unfitted */\n",
       "  border: var(--sklearn-color-unfitted-level-1) 1pt solid;\n",
       "  color: var(--sklearn-color-unfitted-level-1);\n",
       "}\n",
       "\n",
       ".sk-estimator-doc-link.fitted,\n",
       "a:link.sk-estimator-doc-link.fitted,\n",
       "a:visited.sk-estimator-doc-link.fitted {\n",
       "  /* fitted */\n",
       "  border: var(--sklearn-color-fitted-level-1) 1pt solid;\n",
       "  color: var(--sklearn-color-fitted-level-1);\n",
       "}\n",
       "\n",
       "/* On hover */\n",
       "div.sk-estimator:hover .sk-estimator-doc-link:hover,\n",
       ".sk-estimator-doc-link:hover,\n",
       "div.sk-label-container:hover .sk-estimator-doc-link:hover,\n",
       ".sk-estimator-doc-link:hover {\n",
       "  /* unfitted */\n",
       "  background-color: var(--sklearn-color-unfitted-level-3);\n",
       "  color: var(--sklearn-color-background);\n",
       "  text-decoration: none;\n",
       "}\n",
       "\n",
       "div.sk-estimator.fitted:hover .sk-estimator-doc-link.fitted:hover,\n",
       ".sk-estimator-doc-link.fitted:hover,\n",
       "div.sk-label-container:hover .sk-estimator-doc-link.fitted:hover,\n",
       ".sk-estimator-doc-link.fitted:hover {\n",
       "  /* fitted */\n",
       "  background-color: var(--sklearn-color-fitted-level-3);\n",
       "  color: var(--sklearn-color-background);\n",
       "  text-decoration: none;\n",
       "}\n",
       "\n",
       "/* Span, style for the box shown on hovering the info icon */\n",
       ".sk-estimator-doc-link span {\n",
       "  display: none;\n",
       "  z-index: 9999;\n",
       "  position: relative;\n",
       "  font-weight: normal;\n",
       "  right: .2ex;\n",
       "  padding: .5ex;\n",
       "  margin: .5ex;\n",
       "  width: min-content;\n",
       "  min-width: 20ex;\n",
       "  max-width: 50ex;\n",
       "  color: var(--sklearn-color-text);\n",
       "  box-shadow: 2pt 2pt 4pt #999;\n",
       "  /* unfitted */\n",
       "  background: var(--sklearn-color-unfitted-level-0);\n",
       "  border: .5pt solid var(--sklearn-color-unfitted-level-3);\n",
       "}\n",
       "\n",
       ".sk-estimator-doc-link.fitted span {\n",
       "  /* fitted */\n",
       "  background: var(--sklearn-color-fitted-level-0);\n",
       "  border: var(--sklearn-color-fitted-level-3);\n",
       "}\n",
       "\n",
       ".sk-estimator-doc-link:hover span {\n",
       "  display: block;\n",
       "}\n",
       "\n",
       "/* \"?\"-specific style due to the `<a>` HTML tag */\n",
       "\n",
       "#sk-container-id-1 a.estimator_doc_link {\n",
       "  float: right;\n",
       "  font-size: 1rem;\n",
       "  line-height: 1em;\n",
       "  font-family: monospace;\n",
       "  background-color: var(--sklearn-color-background);\n",
       "  border-radius: 1rem;\n",
       "  height: 1rem;\n",
       "  width: 1rem;\n",
       "  text-decoration: none;\n",
       "  /* unfitted */\n",
       "  color: var(--sklearn-color-unfitted-level-1);\n",
       "  border: var(--sklearn-color-unfitted-level-1) 1pt solid;\n",
       "}\n",
       "\n",
       "#sk-container-id-1 a.estimator_doc_link.fitted {\n",
       "  /* fitted */\n",
       "  border: var(--sklearn-color-fitted-level-1) 1pt solid;\n",
       "  color: var(--sklearn-color-fitted-level-1);\n",
       "}\n",
       "\n",
       "/* On hover */\n",
       "#sk-container-id-1 a.estimator_doc_link:hover {\n",
       "  /* unfitted */\n",
       "  background-color: var(--sklearn-color-unfitted-level-3);\n",
       "  color: var(--sklearn-color-background);\n",
       "  text-decoration: none;\n",
       "}\n",
       "\n",
       "#sk-container-id-1 a.estimator_doc_link.fitted:hover {\n",
       "  /* fitted */\n",
       "  background-color: var(--sklearn-color-fitted-level-3);\n",
       "}\n",
       "</style><div id=\"sk-container-id-1\" class=\"sk-top-container\"><div class=\"sk-text-repr-fallback\"><pre>Pipeline(steps=[(&#x27;robustscaler&#x27;, RobustScaler()),\n",
       "                (&#x27;pca&#x27;, PCA(n_components=0.95)),\n",
       "                (&#x27;randomforestclassifier&#x27;,\n",
       "                 RandomForestClassifier(n_jobs=8, random_state=0, verbose=1))])</pre><b>In a Jupyter environment, please rerun this cell to show the HTML representation or trust the notebook. <br />On GitHub, the HTML representation is unable to render, please try loading this page with nbviewer.org.</b></div><div class=\"sk-container\" hidden><div class=\"sk-item sk-dashed-wrapped\"><div class=\"sk-label-container\"><div class=\"sk-label fitted sk-toggleable\"><input class=\"sk-toggleable__control sk-hidden--visually\" id=\"sk-estimator-id-1\" type=\"checkbox\" ><label for=\"sk-estimator-id-1\" class=\"sk-toggleable__label fitted sk-toggleable__label-arrow fitted\">&nbsp;&nbsp;Pipeline<a class=\"sk-estimator-doc-link fitted\" rel=\"noreferrer\" target=\"_blank\" href=\"https://scikit-learn.org/1.5/modules/generated/sklearn.pipeline.Pipeline.html\">?<span>Documentation for Pipeline</span></a><span class=\"sk-estimator-doc-link fitted\">i<span>Fitted</span></span></label><div class=\"sk-toggleable__content fitted\"><pre>Pipeline(steps=[(&#x27;robustscaler&#x27;, RobustScaler()),\n",
       "                (&#x27;pca&#x27;, PCA(n_components=0.95)),\n",
       "                (&#x27;randomforestclassifier&#x27;,\n",
       "                 RandomForestClassifier(n_jobs=8, random_state=0, verbose=1))])</pre></div> </div></div><div class=\"sk-serial\"><div class=\"sk-item\"><div class=\"sk-estimator fitted sk-toggleable\"><input class=\"sk-toggleable__control sk-hidden--visually\" id=\"sk-estimator-id-2\" type=\"checkbox\" ><label for=\"sk-estimator-id-2\" class=\"sk-toggleable__label fitted sk-toggleable__label-arrow fitted\">&nbsp;RobustScaler<a class=\"sk-estimator-doc-link fitted\" rel=\"noreferrer\" target=\"_blank\" href=\"https://scikit-learn.org/1.5/modules/generated/sklearn.preprocessing.RobustScaler.html\">?<span>Documentation for RobustScaler</span></a></label><div class=\"sk-toggleable__content fitted\"><pre>RobustScaler()</pre></div> </div></div><div class=\"sk-item\"><div class=\"sk-estimator fitted sk-toggleable\"><input class=\"sk-toggleable__control sk-hidden--visually\" id=\"sk-estimator-id-3\" type=\"checkbox\" ><label for=\"sk-estimator-id-3\" class=\"sk-toggleable__label fitted sk-toggleable__label-arrow fitted\">&nbsp;PCA<a class=\"sk-estimator-doc-link fitted\" rel=\"noreferrer\" target=\"_blank\" href=\"https://scikit-learn.org/1.5/modules/generated/sklearn.decomposition.PCA.html\">?<span>Documentation for PCA</span></a></label><div class=\"sk-toggleable__content fitted\"><pre>PCA(n_components=0.95)</pre></div> </div></div><div class=\"sk-item\"><div class=\"sk-estimator fitted sk-toggleable\"><input class=\"sk-toggleable__control sk-hidden--visually\" id=\"sk-estimator-id-4\" type=\"checkbox\" ><label for=\"sk-estimator-id-4\" class=\"sk-toggleable__label fitted sk-toggleable__label-arrow fitted\">&nbsp;RandomForestClassifier<a class=\"sk-estimator-doc-link fitted\" rel=\"noreferrer\" target=\"_blank\" href=\"https://scikit-learn.org/1.5/modules/generated/sklearn.ensemble.RandomForestClassifier.html\">?<span>Documentation for RandomForestClassifier</span></a></label><div class=\"sk-toggleable__content fitted\"><pre>RandomForestClassifier(n_jobs=8, random_state=0, verbose=1)</pre></div> </div></div></div></div></div></div>"
      ]
     },
     "execution_count": 31,
     "metadata": {},
     "output_type": "execute_result"
    }
   ],
   "execution_count": 31
  },
  {
   "metadata": {},
   "cell_type": "markdown",
   "source": "# Load features cluster",
   "id": "893f5ba17f02e3b1"
  },
  {
   "metadata": {
    "ExecuteTime": {
     "end_time": "2024-10-26T13:37:21.525321Z",
     "start_time": "2024-10-26T13:37:21.498904Z"
    }
   },
   "cell_type": "code",
   "source": [
    "with open(CLUSTERS_YAML_PATH, \"r\") as stream:\n",
    "    clusters_config = yaml.unsafe_load(stream)\n",
    "\n",
    "clusters_config"
   ],
   "id": "4108d90165cebdaa",
   "outputs": [
    {
     "data": {
      "text/plain": [
       "{'skills_group_0': array(['C#', 'VBA', 'Microsoft SQL Server', 'Microsoft Azure', 'Windows',\n",
       "        'ASP.NET', 'ASP.NET Core', '.NET', '.NET Core', 'Xamarin'],\n",
       "       dtype=object),\n",
       " 'skills_group_1': array(['Python', 'R', 'Django', 'Flask', 'Keras', 'Pandas', 'TensorFlow',\n",
       "        'Torch/PyTorch'], dtype=object),\n",
       " 'skills_group_10': array(['Kotlin', 'Firebase', 'SQLite', 'Android', 'Google Cloud Platform'],\n",
       "       dtype=object),\n",
       " 'skills_group_11': array(['Unity 3D', 'Unreal Engine'], dtype=object),\n",
       " 'skills_group_12': array(['TypeScript', 'Angular', 'Angular.js', 'Cordova'], dtype=object),\n",
       " 'skills_group_13': array(['Ruby', 'Ruby on Rails'], dtype=object),\n",
       " 'skills_group_14': array(['Bash/Shell/PowerShell', 'Perl', 'Linux'], dtype=object),\n",
       " 'skills_group_15': array(['Haskell', 'Julia', 'Rust'], dtype=object),\n",
       " 'skills_group_16': array(['Objective-C', 'Swift', 'MacOS', 'iOS'], dtype=object),\n",
       " 'skills_group_17': array(['Dart', 'Flutter'], dtype=object),\n",
       " 'skills_group_18': array(['DynamoDB', 'AWS', 'Slack Apps and Integrations'], dtype=object),\n",
       " 'skills_group_2': array(['Scala', 'Cassandra', 'Couchbase', 'Apache Spark', 'Hadoop'],\n",
       "       dtype=object),\n",
       " 'skills_group_3': array(['Assembly', 'C', 'C++', 'Arduino', 'Raspberry Pi'], dtype=object),\n",
       " 'skills_group_4': array(['MongoDB', 'Heroku', 'Express', 'Gatsby', 'React.js', 'Node.js',\n",
       "        'React Native'], dtype=object),\n",
       " 'skills_group_5': array(['Go', 'Elasticsearch', 'PostgreSQL', 'Redis', 'Docker',\n",
       "        'Kubernetes'], dtype=object),\n",
       " 'skills_group_6': array(['PHP', 'MariaDB', 'MySQL', 'WordPress', 'Drupal', 'Laravel',\n",
       "        'Symfony', 'Vue.js'], dtype=object),\n",
       " 'skills_group_7': array(['Ansible', 'Chef', 'Puppet', 'Teraform'], dtype=object),\n",
       " 'skills_group_8': array(['Java', 'IBM DB2', 'Oracle', 'IBM Cloud or Watson', 'Spring'],\n",
       "       dtype=object),\n",
       " 'skills_group_9': array(['HTML/CSS', 'JavaScript', 'SQL', 'jQuery'], dtype=object)}"
      ]
     },
     "execution_count": 47,
     "metadata": {},
     "output_type": "execute_result"
    }
   ],
   "execution_count": 47
  },
  {
   "metadata": {
    "ExecuteTime": {
     "end_time": "2024-10-26T13:45:05.964695Z",
     "start_time": "2024-10-26T13:45:05.956885Z"
    }
   },
   "cell_type": "code",
   "source": [
    "# Reformat into data frame\n",
    "cluster_skill_map = [(cluster_name, cluster_skill)\n",
    "                   for cluster_name, cluster_skills in clusters_config.items()\n",
    "                   for cluster_skill in cluster_skills]\n",
    "\n",
    "cluster_skill_map"
   ],
   "id": "1804b85cd1aa3889",
   "outputs": [
    {
     "data": {
      "text/plain": [
       "[('skills_group_0', 'C#'),\n",
       " ('skills_group_0', 'VBA'),\n",
       " ('skills_group_0', 'Microsoft SQL Server'),\n",
       " ('skills_group_0', 'Microsoft Azure'),\n",
       " ('skills_group_0', 'Windows'),\n",
       " ('skills_group_0', 'ASP.NET'),\n",
       " ('skills_group_0', 'ASP.NET Core'),\n",
       " ('skills_group_0', '.NET'),\n",
       " ('skills_group_0', '.NET Core'),\n",
       " ('skills_group_0', 'Xamarin'),\n",
       " ('skills_group_1', 'Python'),\n",
       " ('skills_group_1', 'R'),\n",
       " ('skills_group_1', 'Django'),\n",
       " ('skills_group_1', 'Flask'),\n",
       " ('skills_group_1', 'Keras'),\n",
       " ('skills_group_1', 'Pandas'),\n",
       " ('skills_group_1', 'TensorFlow'),\n",
       " ('skills_group_1', 'Torch/PyTorch'),\n",
       " ('skills_group_10', 'Kotlin'),\n",
       " ('skills_group_10', 'Firebase'),\n",
       " ('skills_group_10', 'SQLite'),\n",
       " ('skills_group_10', 'Android'),\n",
       " ('skills_group_10', 'Google Cloud Platform'),\n",
       " ('skills_group_11', 'Unity 3D'),\n",
       " ('skills_group_11', 'Unreal Engine'),\n",
       " ('skills_group_12', 'TypeScript'),\n",
       " ('skills_group_12', 'Angular'),\n",
       " ('skills_group_12', 'Angular.js'),\n",
       " ('skills_group_12', 'Cordova'),\n",
       " ('skills_group_13', 'Ruby'),\n",
       " ('skills_group_13', 'Ruby on Rails'),\n",
       " ('skills_group_14', 'Bash/Shell/PowerShell'),\n",
       " ('skills_group_14', 'Perl'),\n",
       " ('skills_group_14', 'Linux'),\n",
       " ('skills_group_15', 'Haskell'),\n",
       " ('skills_group_15', 'Julia'),\n",
       " ('skills_group_15', 'Rust'),\n",
       " ('skills_group_16', 'Objective-C'),\n",
       " ('skills_group_16', 'Swift'),\n",
       " ('skills_group_16', 'MacOS'),\n",
       " ('skills_group_16', 'iOS'),\n",
       " ('skills_group_17', 'Dart'),\n",
       " ('skills_group_17', 'Flutter'),\n",
       " ('skills_group_18', 'DynamoDB'),\n",
       " ('skills_group_18', 'AWS'),\n",
       " ('skills_group_18', 'Slack Apps and Integrations'),\n",
       " ('skills_group_2', 'Scala'),\n",
       " ('skills_group_2', 'Cassandra'),\n",
       " ('skills_group_2', 'Couchbase'),\n",
       " ('skills_group_2', 'Apache Spark'),\n",
       " ('skills_group_2', 'Hadoop'),\n",
       " ('skills_group_3', 'Assembly'),\n",
       " ('skills_group_3', 'C'),\n",
       " ('skills_group_3', 'C++'),\n",
       " ('skills_group_3', 'Arduino'),\n",
       " ('skills_group_3', 'Raspberry Pi'),\n",
       " ('skills_group_4', 'MongoDB'),\n",
       " ('skills_group_4', 'Heroku'),\n",
       " ('skills_group_4', 'Express'),\n",
       " ('skills_group_4', 'Gatsby'),\n",
       " ('skills_group_4', 'React.js'),\n",
       " ('skills_group_4', 'Node.js'),\n",
       " ('skills_group_4', 'React Native'),\n",
       " ('skills_group_5', 'Go'),\n",
       " ('skills_group_5', 'Elasticsearch'),\n",
       " ('skills_group_5', 'PostgreSQL'),\n",
       " ('skills_group_5', 'Redis'),\n",
       " ('skills_group_5', 'Docker'),\n",
       " ('skills_group_5', 'Kubernetes'),\n",
       " ('skills_group_6', 'PHP'),\n",
       " ('skills_group_6', 'MariaDB'),\n",
       " ('skills_group_6', 'MySQL'),\n",
       " ('skills_group_6', 'WordPress'),\n",
       " ('skills_group_6', 'Drupal'),\n",
       " ('skills_group_6', 'Laravel'),\n",
       " ('skills_group_6', 'Symfony'),\n",
       " ('skills_group_6', 'Vue.js'),\n",
       " ('skills_group_7', 'Ansible'),\n",
       " ('skills_group_7', 'Chef'),\n",
       " ('skills_group_7', 'Puppet'),\n",
       " ('skills_group_7', 'Teraform'),\n",
       " ('skills_group_8', 'Java'),\n",
       " ('skills_group_8', 'IBM DB2'),\n",
       " ('skills_group_8', 'Oracle'),\n",
       " ('skills_group_8', 'IBM Cloud or Watson'),\n",
       " ('skills_group_8', 'Spring'),\n",
       " ('skills_group_9', 'HTML/CSS'),\n",
       " ('skills_group_9', 'JavaScript'),\n",
       " ('skills_group_9', 'SQL'),\n",
       " ('skills_group_9', 'jQuery')]"
      ]
     },
     "execution_count": 83,
     "metadata": {},
     "output_type": "execute_result"
    }
   ],
   "execution_count": 83
  },
  {
   "metadata": {
    "ExecuteTime": {
     "end_time": "2024-10-26T13:45:13.299630Z",
     "start_time": "2024-10-26T13:45:13.291241Z"
    }
   },
   "cell_type": "code",
   "source": [
    "clusters_df = pd.DataFrame(cluster_skill_map, columns=[\"cluster_name\", \"skill\"])\n",
    "clusters_df"
   ],
   "id": "f0bc2354358545d2",
   "outputs": [
    {
     "data": {
      "text/plain": [
       "      cluster_name                 skill\n",
       "0   skills_group_0                    C#\n",
       "1   skills_group_0                   VBA\n",
       "2   skills_group_0  Microsoft SQL Server\n",
       "3   skills_group_0       Microsoft Azure\n",
       "4   skills_group_0               Windows\n",
       "..             ...                   ...\n",
       "85  skills_group_8                Spring\n",
       "86  skills_group_9              HTML/CSS\n",
       "87  skills_group_9            JavaScript\n",
       "88  skills_group_9                   SQL\n",
       "89  skills_group_9                jQuery\n",
       "\n",
       "[90 rows x 2 columns]"
      ],
      "text/html": [
       "<div>\n",
       "<style scoped>\n",
       "    .dataframe tbody tr th:only-of-type {\n",
       "        vertical-align: middle;\n",
       "    }\n",
       "\n",
       "    .dataframe tbody tr th {\n",
       "        vertical-align: top;\n",
       "    }\n",
       "\n",
       "    .dataframe thead th {\n",
       "        text-align: right;\n",
       "    }\n",
       "</style>\n",
       "<table border=\"1\" class=\"dataframe\">\n",
       "  <thead>\n",
       "    <tr style=\"text-align: right;\">\n",
       "      <th></th>\n",
       "      <th>cluster_name</th>\n",
       "      <th>skill</th>\n",
       "    </tr>\n",
       "  </thead>\n",
       "  <tbody>\n",
       "    <tr>\n",
       "      <th>0</th>\n",
       "      <td>skills_group_0</td>\n",
       "      <td>C#</td>\n",
       "    </tr>\n",
       "    <tr>\n",
       "      <th>1</th>\n",
       "      <td>skills_group_0</td>\n",
       "      <td>VBA</td>\n",
       "    </tr>\n",
       "    <tr>\n",
       "      <th>2</th>\n",
       "      <td>skills_group_0</td>\n",
       "      <td>Microsoft SQL Server</td>\n",
       "    </tr>\n",
       "    <tr>\n",
       "      <th>3</th>\n",
       "      <td>skills_group_0</td>\n",
       "      <td>Microsoft Azure</td>\n",
       "    </tr>\n",
       "    <tr>\n",
       "      <th>4</th>\n",
       "      <td>skills_group_0</td>\n",
       "      <td>Windows</td>\n",
       "    </tr>\n",
       "    <tr>\n",
       "      <th>...</th>\n",
       "      <td>...</td>\n",
       "      <td>...</td>\n",
       "    </tr>\n",
       "    <tr>\n",
       "      <th>85</th>\n",
       "      <td>skills_group_8</td>\n",
       "      <td>Spring</td>\n",
       "    </tr>\n",
       "    <tr>\n",
       "      <th>86</th>\n",
       "      <td>skills_group_9</td>\n",
       "      <td>HTML/CSS</td>\n",
       "    </tr>\n",
       "    <tr>\n",
       "      <th>87</th>\n",
       "      <td>skills_group_9</td>\n",
       "      <td>JavaScript</td>\n",
       "    </tr>\n",
       "    <tr>\n",
       "      <th>88</th>\n",
       "      <td>skills_group_9</td>\n",
       "      <td>SQL</td>\n",
       "    </tr>\n",
       "    <tr>\n",
       "      <th>89</th>\n",
       "      <td>skills_group_9</td>\n",
       "      <td>jQuery</td>\n",
       "    </tr>\n",
       "  </tbody>\n",
       "</table>\n",
       "<p>90 rows × 2 columns</p>\n",
       "</div>"
      ]
     },
     "execution_count": 84,
     "metadata": {},
     "output_type": "execute_result"
    }
   ],
   "execution_count": 84
  },
  {
   "metadata": {},
   "cell_type": "markdown",
   "source": "# Make predictions ",
   "id": "213b1004853009f3"
  },
  {
   "metadata": {
    "ExecuteTime": {
     "end_time": "2024-10-26T13:40:05.470551Z",
     "start_time": "2024-10-26T13:40:05.466736Z"
    }
   },
   "cell_type": "code",
   "source": "sample_skills = ['Python', 'Pandas', 'Numpy', 'Keras']\n",
   "id": "23ed8b82c05ff5fa",
   "outputs": [],
   "execution_count": 63
  },
  {
   "metadata": {
    "ExecuteTime": {
     "end_time": "2024-10-26T13:40:05.874858Z",
     "start_time": "2024-10-26T13:40:05.868475Z"
    }
   },
   "cell_type": "code",
   "source": "pd.Series(sample_skills).isin(features_names)",
   "id": "c683e44d39efe99e",
   "outputs": [
    {
     "data": {
      "text/plain": [
       "0     True\n",
       "1     True\n",
       "2    False\n",
       "3     True\n",
       "dtype: bool"
      ]
     },
     "execution_count": 64,
     "metadata": {},
     "output_type": "execute_result"
    }
   ],
   "execution_count": 64
  },
  {
   "metadata": {
    "ExecuteTime": {
     "end_time": "2024-10-26T13:40:06.467232Z",
     "start_time": "2024-10-26T13:40:06.456967Z"
    }
   },
   "cell_type": "code",
   "source": [
    "sample_clusters = clusters_df.copy()\n",
    "sample_clusters[\"sample_skills\"] = sample_clusters[\"skill\"].isin(sample_skills)\n",
    "sample_clusters"
   ],
   "id": "fd113fcbf2bd0af0",
   "outputs": [
    {
     "data": {
      "text/plain": [
       "      cluster_name                 skill  sample_skills\n",
       "0   skills_group_0                    C#          False\n",
       "1   skills_group_0                   VBA          False\n",
       "2   skills_group_0  Microsoft SQL Server          False\n",
       "3   skills_group_0       Microsoft Azure          False\n",
       "4   skills_group_0               Windows          False\n",
       "..             ...                   ...            ...\n",
       "85  skills_group_8                Spring          False\n",
       "86  skills_group_9              HTML/CSS          False\n",
       "87  skills_group_9            JavaScript          False\n",
       "88  skills_group_9                   SQL          False\n",
       "89  skills_group_9                jQuery          False\n",
       "\n",
       "[90 rows x 3 columns]"
      ],
      "text/html": [
       "<div>\n",
       "<style scoped>\n",
       "    .dataframe tbody tr th:only-of-type {\n",
       "        vertical-align: middle;\n",
       "    }\n",
       "\n",
       "    .dataframe tbody tr th {\n",
       "        vertical-align: top;\n",
       "    }\n",
       "\n",
       "    .dataframe thead th {\n",
       "        text-align: right;\n",
       "    }\n",
       "</style>\n",
       "<table border=\"1\" class=\"dataframe\">\n",
       "  <thead>\n",
       "    <tr style=\"text-align: right;\">\n",
       "      <th></th>\n",
       "      <th>cluster_name</th>\n",
       "      <th>skill</th>\n",
       "      <th>sample_skills</th>\n",
       "    </tr>\n",
       "  </thead>\n",
       "  <tbody>\n",
       "    <tr>\n",
       "      <th>0</th>\n",
       "      <td>skills_group_0</td>\n",
       "      <td>C#</td>\n",
       "      <td>False</td>\n",
       "    </tr>\n",
       "    <tr>\n",
       "      <th>1</th>\n",
       "      <td>skills_group_0</td>\n",
       "      <td>VBA</td>\n",
       "      <td>False</td>\n",
       "    </tr>\n",
       "    <tr>\n",
       "      <th>2</th>\n",
       "      <td>skills_group_0</td>\n",
       "      <td>Microsoft SQL Server</td>\n",
       "      <td>False</td>\n",
       "    </tr>\n",
       "    <tr>\n",
       "      <th>3</th>\n",
       "      <td>skills_group_0</td>\n",
       "      <td>Microsoft Azure</td>\n",
       "      <td>False</td>\n",
       "    </tr>\n",
       "    <tr>\n",
       "      <th>4</th>\n",
       "      <td>skills_group_0</td>\n",
       "      <td>Windows</td>\n",
       "      <td>False</td>\n",
       "    </tr>\n",
       "    <tr>\n",
       "      <th>...</th>\n",
       "      <td>...</td>\n",
       "      <td>...</td>\n",
       "      <td>...</td>\n",
       "    </tr>\n",
       "    <tr>\n",
       "      <th>85</th>\n",
       "      <td>skills_group_8</td>\n",
       "      <td>Spring</td>\n",
       "      <td>False</td>\n",
       "    </tr>\n",
       "    <tr>\n",
       "      <th>86</th>\n",
       "      <td>skills_group_9</td>\n",
       "      <td>HTML/CSS</td>\n",
       "      <td>False</td>\n",
       "    </tr>\n",
       "    <tr>\n",
       "      <th>87</th>\n",
       "      <td>skills_group_9</td>\n",
       "      <td>JavaScript</td>\n",
       "      <td>False</td>\n",
       "    </tr>\n",
       "    <tr>\n",
       "      <th>88</th>\n",
       "      <td>skills_group_9</td>\n",
       "      <td>SQL</td>\n",
       "      <td>False</td>\n",
       "    </tr>\n",
       "    <tr>\n",
       "      <th>89</th>\n",
       "      <td>skills_group_9</td>\n",
       "      <td>jQuery</td>\n",
       "      <td>False</td>\n",
       "    </tr>\n",
       "  </tbody>\n",
       "</table>\n",
       "<p>90 rows × 3 columns</p>\n",
       "</div>"
      ]
     },
     "execution_count": 65,
     "metadata": {},
     "output_type": "execute_result"
    }
   ],
   "execution_count": 65
  },
  {
   "metadata": {
    "ExecuteTime": {
     "end_time": "2024-10-26T13:40:06.986405Z",
     "start_time": "2024-10-26T13:40:06.974776Z"
    }
   },
   "cell_type": "code",
   "source": [
    "cluster_features = sample_clusters.groupby(\"cluster_name\")[\"sample_skills\"].sum()\n",
    "cluster_features"
   ],
   "id": "e8073d20d84cd18f",
   "outputs": [
    {
     "data": {
      "text/plain": [
       "cluster_name\n",
       "skills_group_0     0\n",
       "skills_group_1     3\n",
       "skills_group_10    0\n",
       "skills_group_11    0\n",
       "skills_group_12    0\n",
       "skills_group_13    0\n",
       "skills_group_14    0\n",
       "skills_group_15    0\n",
       "skills_group_16    0\n",
       "skills_group_17    0\n",
       "skills_group_18    0\n",
       "skills_group_2     0\n",
       "skills_group_3     0\n",
       "skills_group_4     0\n",
       "skills_group_5     0\n",
       "skills_group_6     0\n",
       "skills_group_7     0\n",
       "skills_group_8     0\n",
       "skills_group_9     0\n",
       "Name: sample_skills, dtype: int64"
      ]
     },
     "execution_count": 66,
     "metadata": {},
     "output_type": "execute_result"
    }
   ],
   "execution_count": 66
  },
  {
   "metadata": {},
   "cell_type": "markdown",
   "source": "# Onehotencode skills",
   "id": "de0c46dd89a8eb68"
  },
  {
   "metadata": {
    "ExecuteTime": {
     "end_time": "2024-10-26T13:40:08.122499Z",
     "start_time": "2024-10-26T13:40:08.114724Z"
    }
   },
   "cell_type": "code",
   "source": [
    "skills_names = features_names[~features_names.isin(cluster_features.index)]\n",
    "skills_names"
   ],
   "id": "33b2b941d4617119",
   "outputs": [
    {
     "data": {
      "text/plain": [
       "0                  Assembly\n",
       "1     Bash/Shell/PowerShell\n",
       "2                         C\n",
       "3                        C#\n",
       "4                       C++\n",
       "              ...          \n",
       "85                 Teraform\n",
       "86            Torch/PyTorch\n",
       "87                 Unity 3D\n",
       "88            Unreal Engine\n",
       "89                  Xamarin\n",
       "Length: 90, dtype: object"
      ]
     },
     "execution_count": 67,
     "metadata": {},
     "output_type": "execute_result"
    }
   ],
   "execution_count": 67
  },
  {
   "metadata": {
    "ExecuteTime": {
     "end_time": "2024-10-26T13:40:08.728739Z",
     "start_time": "2024-10-26T13:40:08.722791Z"
    }
   },
   "cell_type": "code",
   "source": [
    "ohe_skills = pd.Series(skills_names.isin(sample_skills).astype(int).tolist(), \n",
    "                       index=skills_names)\n",
    "ohe_skills"
   ],
   "id": "ee190fe09736917f",
   "outputs": [
    {
     "data": {
      "text/plain": [
       "Assembly                 0\n",
       "Bash/Shell/PowerShell    0\n",
       "C                        0\n",
       "C#                       0\n",
       "C++                      0\n",
       "                        ..\n",
       "Teraform                 0\n",
       "Torch/PyTorch            0\n",
       "Unity 3D                 0\n",
       "Unreal Engine            0\n",
       "Xamarin                  0\n",
       "Length: 90, dtype: int64"
      ]
     },
     "execution_count": 68,
     "metadata": {},
     "output_type": "execute_result"
    }
   ],
   "execution_count": 68
  },
  {
   "metadata": {
    "ExecuteTime": {
     "end_time": "2024-10-26T13:47:14.140313Z",
     "start_time": "2024-10-26T13:47:14.133322Z"
    }
   },
   "cell_type": "code",
   "source": [
    "features = pd.concat([ohe_skills,\n",
    "                      cluster_features])\n",
    "features"
   ],
   "id": "c241846bfc1d0e33",
   "outputs": [
    {
     "data": {
      "text/plain": [
       "Assembly                 0\n",
       "Bash/Shell/PowerShell    0\n",
       "C                        0\n",
       "C#                       0\n",
       "C++                      0\n",
       "                        ..\n",
       "skills_group_5           0\n",
       "skills_group_6           0\n",
       "skills_group_7           0\n",
       "skills_group_8           0\n",
       "skills_group_9           0\n",
       "Length: 109, dtype: int64"
      ]
     },
     "execution_count": 85,
     "metadata": {},
     "output_type": "execute_result"
    }
   ],
   "execution_count": 85
  },
  {
   "metadata": {
    "ExecuteTime": {
     "end_time": "2024-10-26T13:40:10.072719Z",
     "start_time": "2024-10-26T13:40:10.066042Z"
    }
   },
   "cell_type": "code",
   "source": [
    "features = features.loc[features_names]\n",
    "features"
   ],
   "id": "bf08006ed866de85",
   "outputs": [
    {
     "data": {
      "text/plain": [
       "Assembly                 0\n",
       "Bash/Shell/PowerShell    0\n",
       "C                        0\n",
       "C#                       0\n",
       "C++                      0\n",
       "                        ..\n",
       "skills_group_5           0\n",
       "skills_group_6           0\n",
       "skills_group_7           0\n",
       "skills_group_8           0\n",
       "skills_group_9           0\n",
       "Length: 109, dtype: int64"
      ]
     },
     "execution_count": 70,
     "metadata": {},
     "output_type": "execute_result"
    }
   ],
   "execution_count": 70
  },
  {
   "metadata": {
    "ExecuteTime": {
     "end_time": "2024-10-26T13:40:10.692311Z",
     "start_time": "2024-10-26T13:40:10.655569Z"
    }
   },
   "cell_type": "code",
   "source": [
    "predictions = classifier.predict_proba([features.values])\n",
    "predictions"
   ],
   "id": "74e202963bb6bd15",
   "outputs": [
    {
     "name": "stderr",
     "output_type": "stream",
     "text": [
      "[Parallel(n_jobs=8)]: Using backend ThreadingBackend with 8 concurrent workers.\n",
      "[Parallel(n_jobs=8)]: Done  34 tasks      | elapsed:    0.0s\n",
      "[Parallel(n_jobs=8)]: Done 100 out of 100 | elapsed:    0.0s finished\n"
     ]
    },
    {
     "data": {
      "text/plain": [
       "[array([[0.30443398, 0.69556602]]),\n",
       " array([[0.37920238, 0.62079762]]),\n",
       " array([[0.37, 0.63]]),\n",
       " array([[1., 0.]]),\n",
       " array([[1., 0.]]),\n",
       " array([[1., 0.]]),\n",
       " array([[0.99, 0.01]]),\n",
       " array([[1., 0.]]),\n",
       " array([[1., 0.]]),\n",
       " array([[0.98, 0.02]]),\n",
       " array([[1., 0.]]),\n",
       " array([[1., 0.]]),\n",
       " array([[1., 0.]]),\n",
       " array([[0.99, 0.01]]),\n",
       " array([[0.95, 0.05]]),\n",
       " array([[1., 0.]])]"
      ]
     },
     "execution_count": 71,
     "metadata": {},
     "output_type": "execute_result"
    }
   ],
   "execution_count": 71
  },
  {
   "metadata": {
    "ExecuteTime": {
     "end_time": "2024-10-26T13:40:11.323788Z",
     "start_time": "2024-10-26T13:40:11.317032Z"
    }
   },
   "cell_type": "code",
   "source": [
    "positive_probs = [prob[0][1] for prob in predictions]\n",
    "predictions = pd.Series(positive_probs, \n",
    "          index=targets_names).sort_values(ascending=False)\n",
    "predictions"
   ],
   "id": "47be9fb841341032",
   "outputs": [
    {
     "data": {
      "text/plain": [
       "Academic researcher                              0.695566\n",
       "Data scientist or machine learning specialist    0.630000\n",
       "Data or business analyst                         0.620798\n",
       "Scientist                                        0.050000\n",
       "Developer, front-end                             0.020000\n",
       "Engineer, data                                   0.010000\n",
       "Developer, back-end                              0.010000\n",
       "Database administrator                           0.000000\n",
       "Developer, desktop or enterprise applications    0.000000\n",
       "Developer, QA or test                            0.000000\n",
       "DevOps specialist                                0.000000\n",
       "Developer, embedded applications or devices      0.000000\n",
       "Developer, game or graphics                      0.000000\n",
       "Developer, full-stack                            0.000000\n",
       "Developer, mobile                                0.000000\n",
       "System administrator                             0.000000\n",
       "dtype: float64"
      ]
     },
     "execution_count": 72,
     "metadata": {},
     "output_type": "execute_result"
    }
   ],
   "execution_count": 72
  },
  {
   "metadata": {
    "ExecuteTime": {
     "end_time": "2024-10-26T13:40:57.655710Z",
     "start_time": "2024-10-26T13:40:57.647690Z"
    }
   },
   "cell_type": "code",
   "source": "predictions / predictions.sum(axis=0) * 100",
   "id": "9afad88f275589c3",
   "outputs": [
    {
     "data": {
      "text/plain": [
       "Academic researcher                              34.157260\n",
       "Data scientist or machine learning specialist    30.937500\n",
       "Data or business analyst                         30.485597\n",
       "Scientist                                         2.455357\n",
       "Developer, front-end                              0.982143\n",
       "Engineer, data                                    0.491071\n",
       "Developer, back-end                               0.491071\n",
       "Database administrator                            0.000000\n",
       "Developer, desktop or enterprise applications     0.000000\n",
       "Developer, QA or test                             0.000000\n",
       "DevOps specialist                                 0.000000\n",
       "Developer, embedded applications or devices       0.000000\n",
       "Developer, game or graphics                       0.000000\n",
       "Developer, full-stack                             0.000000\n",
       "Developer, mobile                                 0.000000\n",
       "System administrator                              0.000000\n",
       "dtype: float64"
      ]
     },
     "execution_count": 74,
     "metadata": {},
     "output_type": "execute_result"
    }
   ],
   "execution_count": 74
  },
  {
   "metadata": {
    "ExecuteTime": {
     "end_time": "2024-10-26T13:41:09.492517Z",
     "start_time": "2024-10-26T13:41:09.486365Z"
    }
   },
   "cell_type": "code",
   "source": "(predictions / predictions.sum(axis=0) * 100).sum()",
   "id": "5a355287754ed6a6",
   "outputs": [
    {
     "data": {
      "text/plain": [
       "np.float64(99.99999999999999)"
      ]
     },
     "execution_count": 75,
     "metadata": {},
     "output_type": "execute_result"
    }
   ],
   "execution_count": 75
  }
 ],
 "metadata": {
  "kernelspec": {
   "display_name": "Python 3",
   "language": "python",
   "name": "python3"
  },
  "language_info": {
   "codemirror_mode": {
    "name": "ipython",
    "version": 2
   },
   "file_extension": ".py",
   "mimetype": "text/x-python",
   "name": "python",
   "nbconvert_exporter": "python",
   "pygments_lexer": "ipython2",
   "version": "2.7.6"
  }
 },
 "nbformat": 4,
 "nbformat_minor": 5
}
