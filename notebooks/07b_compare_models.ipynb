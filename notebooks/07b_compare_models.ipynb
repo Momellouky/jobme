{
 "cells": [
  {
   "cell_type": "code",
   "id": "initial_id",
   "metadata": {
    "collapsed": true,
    "ExecuteTime": {
     "end_time": "2024-10-26T13:15:51.778833Z",
     "start_time": "2024-10-26T13:15:50.109608Z"
    }
   },
   "source": [
    "import mlflow\n",
    "from mlflow.tracking import MlflowClient\n",
    "\n",
    "import pandas as pd"
   ],
   "outputs": [],
   "execution_count": 2
  },
  {
   "metadata": {
    "ExecuteTime": {
     "end_time": "2024-10-26T13:15:51.786200Z",
     "start_time": "2024-10-26T13:15:51.782836Z"
    }
   },
   "cell_type": "code",
   "source": [
    "MLFLOW_TRACKING_URI = '../models/mlruns'\n",
    "MLFLOW_EXPERIMENT_NAME = \"skills_jobs_stackoverflow\""
   ],
   "id": "8f9ef71d224dbdd",
   "outputs": [],
   "execution_count": 3
  },
  {
   "metadata": {
    "ExecuteTime": {
     "end_time": "2024-10-26T13:15:57.954603Z",
     "start_time": "2024-10-26T13:15:57.950537Z"
    }
   },
   "cell_type": "code",
   "source": [
    "# Initialize client\n",
    "mlflow.set_tracking_uri(MLFLOW_TRACKING_URI)\n",
    "client = MlflowClient()"
   ],
   "id": "fb909358c62f9999",
   "outputs": [],
   "execution_count": 4
  },
  {
   "metadata": {
    "ExecuteTime": {
     "end_time": "2024-10-26T13:16:06.131694Z",
     "start_time": "2024-10-26T13:16:06.119482Z"
    }
   },
   "cell_type": "code",
   "source": [
    "experiment = client.get_experiment_by_name(MLFLOW_EXPERIMENT_NAME)\n",
    "experiment"
   ],
   "id": "6d6a2fc1f0adb11b",
   "outputs": [
    {
     "data": {
      "text/plain": [
       "<Experiment: artifact_location='file:///C:/Users/wannatry/Documents/Mellouky/Projects/jobme/notebooks/../models/mlruns/826215840783647024', creation_time=1729944268467, experiment_id='826215840783647024', last_update_time=1729944268467, lifecycle_stage='active', name='skills_jobs_stackoverflow', tags={}>"
      ]
     },
     "execution_count": 5,
     "metadata": {},
     "output_type": "execute_result"
    }
   ],
   "execution_count": 5
  },
  {
   "metadata": {
    "ExecuteTime": {
     "end_time": "2024-10-26T13:16:16.292593Z",
     "start_time": "2024-10-26T13:16:16.239589Z"
    }
   },
   "cell_type": "code",
   "source": [
    "# Get all runs\n",
    "runs = mlflow.search_runs([experiment.experiment_id])\n",
    "runs"
   ],
   "id": "9eac90c144d8c3d5",
   "outputs": [
    {
     "data": {
      "text/plain": [
       "                             run_id       experiment_id    status  \\\n",
       "0  85f1ac12f746456e8fe20331f757e69e  826215840783647024  FINISHED   \n",
       "1  88dd333d1e6a46029a6910bef05c43f3  826215840783647024  FINISHED   \n",
       "2  8b97684cf45947a0b29184eddcbc970d  826215840783647024  FINISHED   \n",
       "3  e5e5e1d11c5a451da0d750486efe2b1a  826215840783647024  FINISHED   \n",
       "\n",
       "                                        artifact_uri  \\\n",
       "0  file:///C:/Users/wannatry/Documents/Mellouky/P...   \n",
       "1  file:///C:/Users/wannatry/Documents/Mellouky/P...   \n",
       "2  file:///C:/Users/wannatry/Documents/Mellouky/P...   \n",
       "3  file:///C:/Users/wannatry/Documents/Mellouky/P...   \n",
       "\n",
       "                        start_time                         end_time  \\\n",
       "0 2024-10-26 13:15:08.637000+00:00 2024-10-26 13:15:11.538000+00:00   \n",
       "1 2024-10-26 12:27:07.248000+00:00 2024-10-26 12:27:07.765000+00:00   \n",
       "2 2024-10-26 12:21:10.429000+00:00 2024-10-26 12:21:10.654000+00:00   \n",
       "3 2024-10-26 12:04:35.427000+00:00 2024-10-26 12:04:35.494000+00:00   \n",
       "\n",
       "   metrics.recall_score  metrics.f1_score  metrics.precision_score  \\\n",
       "0             60.621875         72.885625                93.376250   \n",
       "1             60.621875         72.885625                93.376250   \n",
       "2             60.621875         72.885625                93.376250   \n",
       "3             30.849375         40.228750                66.379375   \n",
       "\n",
       "   metrics.accuracy_score                            tags.mlflow.source.name  \\\n",
       "0                 93.3975  C:\\Users\\wannatry\\Documents\\Mellouky\\Projects\\...   \n",
       "1                 93.3975  C:\\Users\\wannatry\\Documents\\Mellouky\\Projects\\...   \n",
       "2                 93.3975  C:\\Users\\wannatry\\Documents\\Mellouky\\Projects\\...   \n",
       "3                 87.5400  C:\\Users\\wannatry\\Documents\\Mellouky\\Projects\\...   \n",
       "\n",
       "  tags.mlflow.user tags.mlflow.source.type  \\\n",
       "0         wannatry                   LOCAL   \n",
       "1         wannatry                   LOCAL   \n",
       "2         wannatry                   LOCAL   \n",
       "3         wannatry                   LOCAL   \n",
       "\n",
       "                              tags.mlflow.runName  \n",
       "0  Random Forest: with PCA + Hyperparamter tuning  \n",
       "1                 Random Forest: with PCA - Basic  \n",
       "2                 Random Forest: with PCA - Basic  \n",
       "3            Baseline model: Logistic Regression   "
      ],
      "text/html": [
       "<div>\n",
       "<style scoped>\n",
       "    .dataframe tbody tr th:only-of-type {\n",
       "        vertical-align: middle;\n",
       "    }\n",
       "\n",
       "    .dataframe tbody tr th {\n",
       "        vertical-align: top;\n",
       "    }\n",
       "\n",
       "    .dataframe thead th {\n",
       "        text-align: right;\n",
       "    }\n",
       "</style>\n",
       "<table border=\"1\" class=\"dataframe\">\n",
       "  <thead>\n",
       "    <tr style=\"text-align: right;\">\n",
       "      <th></th>\n",
       "      <th>run_id</th>\n",
       "      <th>experiment_id</th>\n",
       "      <th>status</th>\n",
       "      <th>artifact_uri</th>\n",
       "      <th>start_time</th>\n",
       "      <th>end_time</th>\n",
       "      <th>metrics.recall_score</th>\n",
       "      <th>metrics.f1_score</th>\n",
       "      <th>metrics.precision_score</th>\n",
       "      <th>metrics.accuracy_score</th>\n",
       "      <th>tags.mlflow.source.name</th>\n",
       "      <th>tags.mlflow.user</th>\n",
       "      <th>tags.mlflow.source.type</th>\n",
       "      <th>tags.mlflow.runName</th>\n",
       "    </tr>\n",
       "  </thead>\n",
       "  <tbody>\n",
       "    <tr>\n",
       "      <th>0</th>\n",
       "      <td>85f1ac12f746456e8fe20331f757e69e</td>\n",
       "      <td>826215840783647024</td>\n",
       "      <td>FINISHED</td>\n",
       "      <td>file:///C:/Users/wannatry/Documents/Mellouky/P...</td>\n",
       "      <td>2024-10-26 13:15:08.637000+00:00</td>\n",
       "      <td>2024-10-26 13:15:11.538000+00:00</td>\n",
       "      <td>60.621875</td>\n",
       "      <td>72.885625</td>\n",
       "      <td>93.376250</td>\n",
       "      <td>93.3975</td>\n",
       "      <td>C:\\Users\\wannatry\\Documents\\Mellouky\\Projects\\...</td>\n",
       "      <td>wannatry</td>\n",
       "      <td>LOCAL</td>\n",
       "      <td>Random Forest: with PCA + Hyperparamter tuning</td>\n",
       "    </tr>\n",
       "    <tr>\n",
       "      <th>1</th>\n",
       "      <td>88dd333d1e6a46029a6910bef05c43f3</td>\n",
       "      <td>826215840783647024</td>\n",
       "      <td>FINISHED</td>\n",
       "      <td>file:///C:/Users/wannatry/Documents/Mellouky/P...</td>\n",
       "      <td>2024-10-26 12:27:07.248000+00:00</td>\n",
       "      <td>2024-10-26 12:27:07.765000+00:00</td>\n",
       "      <td>60.621875</td>\n",
       "      <td>72.885625</td>\n",
       "      <td>93.376250</td>\n",
       "      <td>93.3975</td>\n",
       "      <td>C:\\Users\\wannatry\\Documents\\Mellouky\\Projects\\...</td>\n",
       "      <td>wannatry</td>\n",
       "      <td>LOCAL</td>\n",
       "      <td>Random Forest: with PCA - Basic</td>\n",
       "    </tr>\n",
       "    <tr>\n",
       "      <th>2</th>\n",
       "      <td>8b97684cf45947a0b29184eddcbc970d</td>\n",
       "      <td>826215840783647024</td>\n",
       "      <td>FINISHED</td>\n",
       "      <td>file:///C:/Users/wannatry/Documents/Mellouky/P...</td>\n",
       "      <td>2024-10-26 12:21:10.429000+00:00</td>\n",
       "      <td>2024-10-26 12:21:10.654000+00:00</td>\n",
       "      <td>60.621875</td>\n",
       "      <td>72.885625</td>\n",
       "      <td>93.376250</td>\n",
       "      <td>93.3975</td>\n",
       "      <td>C:\\Users\\wannatry\\Documents\\Mellouky\\Projects\\...</td>\n",
       "      <td>wannatry</td>\n",
       "      <td>LOCAL</td>\n",
       "      <td>Random Forest: with PCA - Basic</td>\n",
       "    </tr>\n",
       "    <tr>\n",
       "      <th>3</th>\n",
       "      <td>e5e5e1d11c5a451da0d750486efe2b1a</td>\n",
       "      <td>826215840783647024</td>\n",
       "      <td>FINISHED</td>\n",
       "      <td>file:///C:/Users/wannatry/Documents/Mellouky/P...</td>\n",
       "      <td>2024-10-26 12:04:35.427000+00:00</td>\n",
       "      <td>2024-10-26 12:04:35.494000+00:00</td>\n",
       "      <td>30.849375</td>\n",
       "      <td>40.228750</td>\n",
       "      <td>66.379375</td>\n",
       "      <td>87.5400</td>\n",
       "      <td>C:\\Users\\wannatry\\Documents\\Mellouky\\Projects\\...</td>\n",
       "      <td>wannatry</td>\n",
       "      <td>LOCAL</td>\n",
       "      <td>Baseline model: Logistic Regression</td>\n",
       "    </tr>\n",
       "  </tbody>\n",
       "</table>\n",
       "</div>"
      ]
     },
     "execution_count": 6,
     "metadata": {},
     "output_type": "execute_result"
    }
   ],
   "execution_count": 6
  },
  {
   "metadata": {},
   "cell_type": "code",
   "outputs": [],
   "execution_count": null,
   "source": "",
   "id": "ee1b1f83041b9f7e"
  }
 ],
 "metadata": {
  "kernelspec": {
   "display_name": "Python 3",
   "language": "python",
   "name": "python3"
  },
  "language_info": {
   "codemirror_mode": {
    "name": "ipython",
    "version": 2
   },
   "file_extension": ".py",
   "mimetype": "text/x-python",
   "name": "python",
   "nbconvert_exporter": "python",
   "pygments_lexer": "ipython2",
   "version": "2.7.6"
  }
 },
 "nbformat": 4,
 "nbformat_minor": 5
}
