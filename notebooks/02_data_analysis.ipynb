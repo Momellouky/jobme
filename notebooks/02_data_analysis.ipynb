{
 "cells": [
  {
   "cell_type": "code",
   "id": "initial_id",
   "metadata": {
    "collapsed": true,
    "ExecuteTime": {
     "end_time": "2024-10-24T14:25:40.456696Z",
     "start_time": "2024-10-24T14:25:40.451618Z"
    }
   },
   "source": [
    "import numpy as np\n",
    "import pandas as pd\n",
    "import matplotlib.pyplot as plt\n",
    "import seaborn as sns"
   ],
   "outputs": [],
   "execution_count": 1
  },
  {
   "metadata": {},
   "cell_type": "markdown",
   "source": "# Load Data",
   "id": "a2f3771e2876a287"
  },
  {
   "metadata": {
    "ExecuteTime": {
     "end_time": "2024-10-24T14:25:42.234587Z",
     "start_time": "2024-10-24T14:25:42.226198Z"
    }
   },
   "cell_type": "code",
   "source": "RAW_DATA_PATH = \"../data/raw/2020/survey_results_public.csv\"",
   "id": "519303c451da5975",
   "outputs": [],
   "execution_count": 2
  },
  {
   "metadata": {
    "ExecuteTime": {
     "end_time": "2024-10-24T14:25:44.304095Z",
     "start_time": "2024-10-24T14:25:42.806342Z"
    }
   },
   "cell_type": "code",
   "source": [
    "raw_df = pd.read_csv(RAW_DATA_PATH)\n",
    "raw_df"
   ],
   "id": "f824294ddce39087",
   "outputs": [
    {
     "data": {
      "text/plain": [
       "       Respondent                                         MainBranch Hobbyist  \\\n",
       "0               1                     I am a developer by profession      Yes   \n",
       "1               2                     I am a developer by profession       No   \n",
       "2               3                        I code primarily as a hobby      Yes   \n",
       "3               4                     I am a developer by profession      Yes   \n",
       "4               5  I used to be a developer by profession, but no...      Yes   \n",
       "...           ...                                                ...      ...   \n",
       "64456       64858                                                NaN      Yes   \n",
       "64457       64867                                                NaN      Yes   \n",
       "64458       64898                                                NaN      Yes   \n",
       "64459       64925                                                NaN      Yes   \n",
       "64460       65112                                                NaN      Yes   \n",
       "\n",
       "        Age Age1stCode CompFreq  CompTotal  ConvertedComp             Country  \\\n",
       "0       NaN         13  Monthly        NaN            NaN             Germany   \n",
       "1       NaN         19      NaN        NaN            NaN      United Kingdom   \n",
       "2       NaN         15      NaN        NaN            NaN  Russian Federation   \n",
       "3      25.0         18      NaN        NaN            NaN             Albania   \n",
       "4      31.0         16      NaN        NaN            NaN       United States   \n",
       "...     ...        ...      ...        ...            ...                 ...   \n",
       "64456   NaN         16      NaN        NaN            NaN       United States   \n",
       "64457   NaN        NaN      NaN        NaN            NaN             Morocco   \n",
       "64458   NaN        NaN      NaN        NaN            NaN            Viet Nam   \n",
       "64459   NaN        NaN      NaN        NaN            NaN              Poland   \n",
       "64460   NaN        NaN      NaN        NaN            NaN               Spain   \n",
       "\n",
       "         CurrencyDesc  ...                  SurveyEase           SurveyLength  \\\n",
       "0       European Euro  ...  Neither easy nor difficult  Appropriate in length   \n",
       "1      Pound sterling  ...                         NaN                    NaN   \n",
       "2                 NaN  ...  Neither easy nor difficult  Appropriate in length   \n",
       "3        Albanian lek  ...                         NaN                    NaN   \n",
       "4                 NaN  ...                        Easy              Too short   \n",
       "...               ...  ...                         ...                    ...   \n",
       "64456             NaN  ...                         NaN                    NaN   \n",
       "64457             NaN  ...                         NaN                    NaN   \n",
       "64458             NaN  ...                         NaN                    NaN   \n",
       "64459             NaN  ...                         NaN                    NaN   \n",
       "64460             NaN  ...                         NaN                    NaN   \n",
       "\n",
       "      Trans                                     UndergradMajor  \\\n",
       "0        No  Computer science, computer engineering, or sof...   \n",
       "1       NaN  Computer science, computer engineering, or sof...   \n",
       "2       NaN                                                NaN   \n",
       "3        No  Computer science, computer engineering, or sof...   \n",
       "4        No  Computer science, computer engineering, or sof...   \n",
       "...     ...                                                ...   \n",
       "64456   NaN  Computer science, computer engineering, or sof...   \n",
       "64457   NaN                                                NaN   \n",
       "64458   NaN                                                NaN   \n",
       "64459   NaN                                                NaN   \n",
       "64460   NaN  Computer science, computer engineering, or sof...   \n",
       "\n",
       "            WebframeDesireNextYear                      WebframeWorkedWith  \\\n",
       "0                     ASP.NET Core                    ASP.NET;ASP.NET Core   \n",
       "1                              NaN                                     NaN   \n",
       "2                              NaN                                     NaN   \n",
       "3                              NaN                                     NaN   \n",
       "4             Django;Ruby on Rails                           Ruby on Rails   \n",
       "...                            ...                                     ...   \n",
       "64456                          NaN                                     NaN   \n",
       "64457                          NaN                                     NaN   \n",
       "64458                          NaN                                     NaN   \n",
       "64459  Angular;Angular.js;React.js                                     NaN   \n",
       "64460          ASP.NET Core;jQuery  Angular;Angular.js;ASP.NET Core;jQuery   \n",
       "\n",
       "                                  WelcomeChange WorkWeekHrs YearsCode  \\\n",
       "0       Just as welcome now as I felt last year        50.0        36   \n",
       "1      Somewhat more welcome now than last year         NaN         7   \n",
       "2      Somewhat more welcome now than last year         NaN         4   \n",
       "3      Somewhat less welcome now than last year        40.0         7   \n",
       "4       Just as welcome now as I felt last year         NaN        15   \n",
       "...                                         ...         ...       ...   \n",
       "64456                                       NaN         NaN        10   \n",
       "64457                                       NaN         NaN       NaN   \n",
       "64458                                       NaN         NaN       NaN   \n",
       "64459                                       NaN         NaN       NaN   \n",
       "64460                                       NaN         NaN       NaN   \n",
       "\n",
       "           YearsCodePro  \n",
       "0                    27  \n",
       "1                     4  \n",
       "2                   NaN  \n",
       "3                     4  \n",
       "4                     8  \n",
       "...                 ...  \n",
       "64456  Less than 1 year  \n",
       "64457               NaN  \n",
       "64458               NaN  \n",
       "64459               NaN  \n",
       "64460               NaN  \n",
       "\n",
       "[64461 rows x 61 columns]"
      ],
      "text/html": [
       "<div>\n",
       "<style scoped>\n",
       "    .dataframe tbody tr th:only-of-type {\n",
       "        vertical-align: middle;\n",
       "    }\n",
       "\n",
       "    .dataframe tbody tr th {\n",
       "        vertical-align: top;\n",
       "    }\n",
       "\n",
       "    .dataframe thead th {\n",
       "        text-align: right;\n",
       "    }\n",
       "</style>\n",
       "<table border=\"1\" class=\"dataframe\">\n",
       "  <thead>\n",
       "    <tr style=\"text-align: right;\">\n",
       "      <th></th>\n",
       "      <th>Respondent</th>\n",
       "      <th>MainBranch</th>\n",
       "      <th>Hobbyist</th>\n",
       "      <th>Age</th>\n",
       "      <th>Age1stCode</th>\n",
       "      <th>CompFreq</th>\n",
       "      <th>CompTotal</th>\n",
       "      <th>ConvertedComp</th>\n",
       "      <th>Country</th>\n",
       "      <th>CurrencyDesc</th>\n",
       "      <th>...</th>\n",
       "      <th>SurveyEase</th>\n",
       "      <th>SurveyLength</th>\n",
       "      <th>Trans</th>\n",
       "      <th>UndergradMajor</th>\n",
       "      <th>WebframeDesireNextYear</th>\n",
       "      <th>WebframeWorkedWith</th>\n",
       "      <th>WelcomeChange</th>\n",
       "      <th>WorkWeekHrs</th>\n",
       "      <th>YearsCode</th>\n",
       "      <th>YearsCodePro</th>\n",
       "    </tr>\n",
       "  </thead>\n",
       "  <tbody>\n",
       "    <tr>\n",
       "      <th>0</th>\n",
       "      <td>1</td>\n",
       "      <td>I am a developer by profession</td>\n",
       "      <td>Yes</td>\n",
       "      <td>NaN</td>\n",
       "      <td>13</td>\n",
       "      <td>Monthly</td>\n",
       "      <td>NaN</td>\n",
       "      <td>NaN</td>\n",
       "      <td>Germany</td>\n",
       "      <td>European Euro</td>\n",
       "      <td>...</td>\n",
       "      <td>Neither easy nor difficult</td>\n",
       "      <td>Appropriate in length</td>\n",
       "      <td>No</td>\n",
       "      <td>Computer science, computer engineering, or sof...</td>\n",
       "      <td>ASP.NET Core</td>\n",
       "      <td>ASP.NET;ASP.NET Core</td>\n",
       "      <td>Just as welcome now as I felt last year</td>\n",
       "      <td>50.0</td>\n",
       "      <td>36</td>\n",
       "      <td>27</td>\n",
       "    </tr>\n",
       "    <tr>\n",
       "      <th>1</th>\n",
       "      <td>2</td>\n",
       "      <td>I am a developer by profession</td>\n",
       "      <td>No</td>\n",
       "      <td>NaN</td>\n",
       "      <td>19</td>\n",
       "      <td>NaN</td>\n",
       "      <td>NaN</td>\n",
       "      <td>NaN</td>\n",
       "      <td>United Kingdom</td>\n",
       "      <td>Pound sterling</td>\n",
       "      <td>...</td>\n",
       "      <td>NaN</td>\n",
       "      <td>NaN</td>\n",
       "      <td>NaN</td>\n",
       "      <td>Computer science, computer engineering, or sof...</td>\n",
       "      <td>NaN</td>\n",
       "      <td>NaN</td>\n",
       "      <td>Somewhat more welcome now than last year</td>\n",
       "      <td>NaN</td>\n",
       "      <td>7</td>\n",
       "      <td>4</td>\n",
       "    </tr>\n",
       "    <tr>\n",
       "      <th>2</th>\n",
       "      <td>3</td>\n",
       "      <td>I code primarily as a hobby</td>\n",
       "      <td>Yes</td>\n",
       "      <td>NaN</td>\n",
       "      <td>15</td>\n",
       "      <td>NaN</td>\n",
       "      <td>NaN</td>\n",
       "      <td>NaN</td>\n",
       "      <td>Russian Federation</td>\n",
       "      <td>NaN</td>\n",
       "      <td>...</td>\n",
       "      <td>Neither easy nor difficult</td>\n",
       "      <td>Appropriate in length</td>\n",
       "      <td>NaN</td>\n",
       "      <td>NaN</td>\n",
       "      <td>NaN</td>\n",
       "      <td>NaN</td>\n",
       "      <td>Somewhat more welcome now than last year</td>\n",
       "      <td>NaN</td>\n",
       "      <td>4</td>\n",
       "      <td>NaN</td>\n",
       "    </tr>\n",
       "    <tr>\n",
       "      <th>3</th>\n",
       "      <td>4</td>\n",
       "      <td>I am a developer by profession</td>\n",
       "      <td>Yes</td>\n",
       "      <td>25.0</td>\n",
       "      <td>18</td>\n",
       "      <td>NaN</td>\n",
       "      <td>NaN</td>\n",
       "      <td>NaN</td>\n",
       "      <td>Albania</td>\n",
       "      <td>Albanian lek</td>\n",
       "      <td>...</td>\n",
       "      <td>NaN</td>\n",
       "      <td>NaN</td>\n",
       "      <td>No</td>\n",
       "      <td>Computer science, computer engineering, or sof...</td>\n",
       "      <td>NaN</td>\n",
       "      <td>NaN</td>\n",
       "      <td>Somewhat less welcome now than last year</td>\n",
       "      <td>40.0</td>\n",
       "      <td>7</td>\n",
       "      <td>4</td>\n",
       "    </tr>\n",
       "    <tr>\n",
       "      <th>4</th>\n",
       "      <td>5</td>\n",
       "      <td>I used to be a developer by profession, but no...</td>\n",
       "      <td>Yes</td>\n",
       "      <td>31.0</td>\n",
       "      <td>16</td>\n",
       "      <td>NaN</td>\n",
       "      <td>NaN</td>\n",
       "      <td>NaN</td>\n",
       "      <td>United States</td>\n",
       "      <td>NaN</td>\n",
       "      <td>...</td>\n",
       "      <td>Easy</td>\n",
       "      <td>Too short</td>\n",
       "      <td>No</td>\n",
       "      <td>Computer science, computer engineering, or sof...</td>\n",
       "      <td>Django;Ruby on Rails</td>\n",
       "      <td>Ruby on Rails</td>\n",
       "      <td>Just as welcome now as I felt last year</td>\n",
       "      <td>NaN</td>\n",
       "      <td>15</td>\n",
       "      <td>8</td>\n",
       "    </tr>\n",
       "    <tr>\n",
       "      <th>...</th>\n",
       "      <td>...</td>\n",
       "      <td>...</td>\n",
       "      <td>...</td>\n",
       "      <td>...</td>\n",
       "      <td>...</td>\n",
       "      <td>...</td>\n",
       "      <td>...</td>\n",
       "      <td>...</td>\n",
       "      <td>...</td>\n",
       "      <td>...</td>\n",
       "      <td>...</td>\n",
       "      <td>...</td>\n",
       "      <td>...</td>\n",
       "      <td>...</td>\n",
       "      <td>...</td>\n",
       "      <td>...</td>\n",
       "      <td>...</td>\n",
       "      <td>...</td>\n",
       "      <td>...</td>\n",
       "      <td>...</td>\n",
       "      <td>...</td>\n",
       "    </tr>\n",
       "    <tr>\n",
       "      <th>64456</th>\n",
       "      <td>64858</td>\n",
       "      <td>NaN</td>\n",
       "      <td>Yes</td>\n",
       "      <td>NaN</td>\n",
       "      <td>16</td>\n",
       "      <td>NaN</td>\n",
       "      <td>NaN</td>\n",
       "      <td>NaN</td>\n",
       "      <td>United States</td>\n",
       "      <td>NaN</td>\n",
       "      <td>...</td>\n",
       "      <td>NaN</td>\n",
       "      <td>NaN</td>\n",
       "      <td>NaN</td>\n",
       "      <td>Computer science, computer engineering, or sof...</td>\n",
       "      <td>NaN</td>\n",
       "      <td>NaN</td>\n",
       "      <td>NaN</td>\n",
       "      <td>NaN</td>\n",
       "      <td>10</td>\n",
       "      <td>Less than 1 year</td>\n",
       "    </tr>\n",
       "    <tr>\n",
       "      <th>64457</th>\n",
       "      <td>64867</td>\n",
       "      <td>NaN</td>\n",
       "      <td>Yes</td>\n",
       "      <td>NaN</td>\n",
       "      <td>NaN</td>\n",
       "      <td>NaN</td>\n",
       "      <td>NaN</td>\n",
       "      <td>NaN</td>\n",
       "      <td>Morocco</td>\n",
       "      <td>NaN</td>\n",
       "      <td>...</td>\n",
       "      <td>NaN</td>\n",
       "      <td>NaN</td>\n",
       "      <td>NaN</td>\n",
       "      <td>NaN</td>\n",
       "      <td>NaN</td>\n",
       "      <td>NaN</td>\n",
       "      <td>NaN</td>\n",
       "      <td>NaN</td>\n",
       "      <td>NaN</td>\n",
       "      <td>NaN</td>\n",
       "    </tr>\n",
       "    <tr>\n",
       "      <th>64458</th>\n",
       "      <td>64898</td>\n",
       "      <td>NaN</td>\n",
       "      <td>Yes</td>\n",
       "      <td>NaN</td>\n",
       "      <td>NaN</td>\n",
       "      <td>NaN</td>\n",
       "      <td>NaN</td>\n",
       "      <td>NaN</td>\n",
       "      <td>Viet Nam</td>\n",
       "      <td>NaN</td>\n",
       "      <td>...</td>\n",
       "      <td>NaN</td>\n",
       "      <td>NaN</td>\n",
       "      <td>NaN</td>\n",
       "      <td>NaN</td>\n",
       "      <td>NaN</td>\n",
       "      <td>NaN</td>\n",
       "      <td>NaN</td>\n",
       "      <td>NaN</td>\n",
       "      <td>NaN</td>\n",
       "      <td>NaN</td>\n",
       "    </tr>\n",
       "    <tr>\n",
       "      <th>64459</th>\n",
       "      <td>64925</td>\n",
       "      <td>NaN</td>\n",
       "      <td>Yes</td>\n",
       "      <td>NaN</td>\n",
       "      <td>NaN</td>\n",
       "      <td>NaN</td>\n",
       "      <td>NaN</td>\n",
       "      <td>NaN</td>\n",
       "      <td>Poland</td>\n",
       "      <td>NaN</td>\n",
       "      <td>...</td>\n",
       "      <td>NaN</td>\n",
       "      <td>NaN</td>\n",
       "      <td>NaN</td>\n",
       "      <td>NaN</td>\n",
       "      <td>Angular;Angular.js;React.js</td>\n",
       "      <td>NaN</td>\n",
       "      <td>NaN</td>\n",
       "      <td>NaN</td>\n",
       "      <td>NaN</td>\n",
       "      <td>NaN</td>\n",
       "    </tr>\n",
       "    <tr>\n",
       "      <th>64460</th>\n",
       "      <td>65112</td>\n",
       "      <td>NaN</td>\n",
       "      <td>Yes</td>\n",
       "      <td>NaN</td>\n",
       "      <td>NaN</td>\n",
       "      <td>NaN</td>\n",
       "      <td>NaN</td>\n",
       "      <td>NaN</td>\n",
       "      <td>Spain</td>\n",
       "      <td>NaN</td>\n",
       "      <td>...</td>\n",
       "      <td>NaN</td>\n",
       "      <td>NaN</td>\n",
       "      <td>NaN</td>\n",
       "      <td>Computer science, computer engineering, or sof...</td>\n",
       "      <td>ASP.NET Core;jQuery</td>\n",
       "      <td>Angular;Angular.js;ASP.NET Core;jQuery</td>\n",
       "      <td>NaN</td>\n",
       "      <td>NaN</td>\n",
       "      <td>NaN</td>\n",
       "      <td>NaN</td>\n",
       "    </tr>\n",
       "  </tbody>\n",
       "</table>\n",
       "<p>64461 rows × 61 columns</p>\n",
       "</div>"
      ]
     },
     "execution_count": 3,
     "metadata": {},
     "output_type": "execute_result"
    }
   ],
   "execution_count": 3
  },
  {
   "metadata": {},
   "cell_type": "markdown",
   "source": "# Data Analysis",
   "id": "e62b8afaa6a9b05a"
  },
  {
   "metadata": {
    "ExecuteTime": {
     "end_time": "2024-10-24T14:25:50.300853Z",
     "start_time": "2024-10-24T14:25:50.286169Z"
    }
   },
   "cell_type": "code",
   "source": [
    "# The portion of students in the dataset \n",
    "# Student is not a job. We will delete this DevType \n",
    "\n",
    "students_df = raw_df[raw_df['DevType'] == 'Student']\n",
    "\n",
    "print(\"Portion of students in the dataset: \")\n",
    "print(f\".. {students_df.shape[0] / raw_df.shape[0] * 100:.2f}%\")"
   ],
   "id": "ab198d4a3e4f9c7",
   "outputs": [
    {
     "name": "stdout",
     "output_type": "stream",
     "text": [
      "Portion of students in the dataset: \n",
      ".. 0.00%\n"
     ]
    }
   ],
   "execution_count": 4
  },
  {
   "metadata": {
    "ExecuteTime": {
     "end_time": "2024-10-24T14:25:57.503010Z",
     "start_time": "2024-10-24T14:25:57.494926Z"
    }
   },
   "cell_type": "code",
   "source": [
    "unique_main_branch = raw_df['MainBranch'].unique()\n",
    "print(f\"unique_main_branch: \\n{unique_main_branch}\")"
   ],
   "id": "3eb257287f6dad37",
   "outputs": [
    {
     "name": "stdout",
     "output_type": "stream",
     "text": [
      "unique_main_branch: \n",
      "['I am a developer by profession' 'I code primarily as a hobby'\n",
      " 'I used to be a developer by profession, but no longer am'\n",
      " 'I am not primarily a developer, but I write code sometimes as part of my work'\n",
      " 'I am a student who is learning to code' nan]\n"
     ]
    }
   ],
   "execution_count": 6
  },
  {
   "metadata": {
    "ExecuteTime": {
     "end_time": "2024-10-24T14:26:02.526542Z",
     "start_time": "2024-10-24T14:26:02.411436Z"
    }
   },
   "cell_type": "code",
   "source": [
    "# How many developers code as a hobby\n",
    "\n",
    "PRO_MAIN_BRANCH = [\"I am a developer by profession\", \n",
    "                   \"I am not primarily a developer, but I write code sometimes as part of my work/studies\", \n",
    "                   \"I used to be a developer by profession, but no longer am\"\n",
    "                   ]\n",
    "\n",
    "portion_sum = 0\n",
    "for branch in PRO_MAIN_BRANCH:\n",
    "    print(f\"Portion of {branch} in the dataset\")\n",
    "    print(f\".. {branch}: {raw_df[raw_df['MainBranch'] == branch].shape[0] / raw_df.shape[0] * 100:.2f}%\")\n",
    "    portion_sum += raw_df[raw_df['MainBranch'] == branch].shape[0] / raw_df.shape[0] * 100\n",
    "    \n",
    "print(f\"------------------------------------------\")\n",
    "print(f\"The sum of these portions is: {portion_sum:.2f}%\")\n",
    "print(f\"The portion of people who code as a hobby: {(100 - portion_sum):.2f}%\")"
   ],
   "id": "529ea126da83f436",
   "outputs": [
    {
     "name": "stdout",
     "output_type": "stream",
     "text": [
      "Portion of I am a developer by profession in the dataset\n",
      ".. I am a developer by profession: 73.21%\n",
      "Portion of I am not primarily a developer, but I write code sometimes as part of my work/studies in the dataset\n",
      ".. I am not primarily a developer, but I write code sometimes as part of my work/studies: 0.00%\n",
      "Portion of I used to be a developer by profession, but no longer am in the dataset\n",
      ".. I used to be a developer by profession, but no longer am: 1.84%\n",
      "------------------------------------------\n",
      "The sum of these portions is: 75.05%\n",
      "The portion of people who code as a hobby: 24.95%\n"
     ]
    }
   ],
   "execution_count": 7
  },
  {
   "metadata": {},
   "cell_type": "markdown",
   "source": [
    "These values insure as that the dataset could be used in our business case. \n",
    "- We have only 7% of students in the dataset\n",
    "- Among professionals, we have 76% of developers that write code as part of their job and only 11% of programmers that code as a hobby\n",
    "These values indicates that the tech stacks will be correlated with the DevType. In addition, they reflect a real relationship."
   ],
   "id": "d29ebdf838f6eb4a"
  },
  {
   "metadata": {
    "ExecuteTime": {
     "end_time": "2024-10-24T14:26:11.019628Z",
     "start_time": "2024-10-24T14:26:10.966280Z"
    }
   },
   "cell_type": "code",
   "source": [
    "FEATS = [\"DatabaseWorkedWith\", \n",
    "         \"LanguageWorkedWith\", \n",
    "         \"MiscTechWorkedWith\", \n",
    "         \"NEWCollabToolsWorkedWith\", \n",
    "         \"PlatformWorkedWith\", \n",
    "         \"WebframeWorkedWith\"\n",
    "         ]\n",
    "\n",
    "LABEL = [\"DevType\"]\n",
    "\n",
    "OTHER_FEATS = []\n",
    "for feature in raw_df.columns:\n",
    "    if feature not in FEATS + LABEL:\n",
    "        OTHER_FEATS.append(feature)\n",
    "        \n",
    "raw_df[OTHER_FEATS].sample(1).iloc[0]\n"
   ],
   "id": "23992c45bb1ff5c9",
   "outputs": [
    {
     "data": {
      "text/plain": [
       "Respondent                                                                  43239\n",
       "MainBranch                                 I am a student who is learning to code\n",
       "Hobbyist                                                                       No\n",
       "Age                                                                           NaN\n",
       "Age1stCode                                                                     18\n",
       "CompFreq                                                                      NaN\n",
       "CompTotal                                                                     NaN\n",
       "ConvertedComp                                                                 NaN\n",
       "Country                                                                     India\n",
       "CurrencyDesc                                                                  NaN\n",
       "CurrencySymbol                                                                NaN\n",
       "DatabaseDesireNextYear                       MariaDB;Microsoft SQL Server;MongoDB\n",
       "EdLevel                           Master’s degree (M.A., M.S., M.Eng., MBA, etc.)\n",
       "Employment                                                     Employed full-time\n",
       "Ethnicity                                                                     NaN\n",
       "Gender                                                                        NaN\n",
       "JobFactors                                                                    NaN\n",
       "JobSat                                                                        NaN\n",
       "JobSeek                                                                       NaN\n",
       "LanguageDesireNextYear                                               Kotlin;Swift\n",
       "MiscTechDesireNextYear                                   Flutter;Unity 3D;Xamarin\n",
       "NEWCollabToolsDesireNextYear    Slack;Microsoft Teams;Microsoft Azure;Stack Ov...\n",
       "NEWDevOps                                                                     NaN\n",
       "NEWDevOpsImpt                                                                 NaN\n",
       "NEWEdImpt                                                                     NaN\n",
       "NEWJobHunt                                                                    NaN\n",
       "NEWJobHuntResearch                                                            NaN\n",
       "NEWLearn                                                         Every few months\n",
       "NEWOffTopic                                                                   NaN\n",
       "NEWOnboardGood                                                                NaN\n",
       "NEWOtherComms                                                                 NaN\n",
       "NEWOvertime                                                                   NaN\n",
       "NEWPurchaseResearch             Start a free trial;Ask developers I know/work ...\n",
       "NEWPurpleLink                                                   Hello, old friend\n",
       "NEWSOSites                                                                    NaN\n",
       "NEWStuck                        Visit Stack Overflow;Watch help / tutorial vid...\n",
       "OpSys                                                                     Windows\n",
       "OrgSize                                                                       NaN\n",
       "PlatformDesireNextYear                            Google Cloud Platform;iOS;MacOS\n",
       "PurchaseWhat                                                                  NaN\n",
       "Sexuality                                                                     NaN\n",
       "SOAccount                                                                     NaN\n",
       "SOComm                                                                        NaN\n",
       "SOPartFreq                                                                    NaN\n",
       "SOVisitFreq                                                                   NaN\n",
       "SurveyEase                                                                    NaN\n",
       "SurveyLength                                                                  NaN\n",
       "Trans                                                                         NaN\n",
       "UndergradMajor                  Information systems, information technology, o...\n",
       "WebframeDesireNextYear                         Angular;Angular.js;Django;React.js\n",
       "WelcomeChange                                                                 NaN\n",
       "WorkWeekHrs                                                                   NaN\n",
       "YearsCode                                                                       5\n",
       "YearsCodePro                                                                  NaN\n",
       "Name: 42481, dtype: object"
      ]
     },
     "execution_count": 8,
     "metadata": {},
     "output_type": "execute_result"
    }
   ],
   "execution_count": 8
  },
  {
   "metadata": {},
   "cell_type": "markdown",
   "source": "## Employment",
   "id": "5195a239fc217462"
  },
  {
   "metadata": {
    "ExecuteTime": {
     "end_time": "2024-10-24T14:26:15.251757Z",
     "start_time": "2024-10-24T14:26:15.236650Z"
    }
   },
   "cell_type": "code",
   "source": [
    "employement_unique_values = raw_df['Employment'].unique()\n",
    "print(f\"employement_unique_values: \\n{employement_unique_values}\")"
   ],
   "id": "1371593dbf6da58c",
   "outputs": [
    {
     "name": "stdout",
     "output_type": "stream",
     "text": [
      "employement_unique_values: \n",
      "['Independent contractor, freelancer, or self-employed'\n",
      " 'Employed full-time' nan 'Student' 'Not employed, but looking for work'\n",
      " 'Employed part-time' 'Retired' 'Not employed, and not looking for work']\n"
     ]
    }
   ],
   "execution_count": 9
  },
  {
   "metadata": {
    "ExecuteTime": {
     "end_time": "2024-10-24T14:35:16.499676Z",
     "start_time": "2024-10-24T14:35:16.495130Z"
    }
   },
   "cell_type": "code",
   "source": [
    "for el in employement_unique_values: \n",
    "    print(f\"{el}, {type(el)} | {str(el)}, {type(str(el))}\")"
   ],
   "id": "5c24af48b2c3cb",
   "outputs": [
    {
     "name": "stdout",
     "output_type": "stream",
     "text": [
      "Independent contractor, freelancer, or self-employed, <class 'str'> | Independent contractor, freelancer, or self-employed, <class 'str'>\n",
      "Employed full-time, <class 'str'> | Employed full-time, <class 'str'>\n",
      "nan, <class 'float'> | nan, <class 'str'>\n",
      "Student, <class 'str'> | Student, <class 'str'>\n",
      "Not employed, but looking for work, <class 'str'> | Not employed, but looking for work, <class 'str'>\n",
      "Employed part-time, <class 'str'> | Employed part-time, <class 'str'>\n",
      "Retired, <class 'str'> | Retired, <class 'str'>\n",
      "Not employed, and not looking for work, <class 'str'> | Not employed, and not looking for work, <class 'str'>\n"
     ]
    }
   ],
   "execution_count": 23
  },
  {
   "metadata": {
    "ExecuteTime": {
     "end_time": "2024-10-24T14:38:50.823665Z",
     "start_time": "2024-10-24T14:38:50.714841Z"
    }
   },
   "cell_type": "code",
   "source": [
    "employement_unique_values_count = []\n",
    "for emp_type in employement_unique_values:\n",
    "    if str(emp_type) != \"nan\": \n",
    "        employement_count = raw_df[raw_df['Employment'] == emp_type].shape[0]\n",
    "        employement_unique_values_count.append(employement_count)\n",
    "    else : \n",
    "        employement_unique_values_count.append(raw_df['Employment'].isna().sum())\n",
    "\n",
    "# employement_unique_values_count.append(raw_df['Employment'].isna().sum())\n",
    "\n",
    "emloyement_count_df = pd.DataFrame([employement_unique_values, employement_unique_values_count]).T\n",
    "emloyement_count_df.columns = ['Employment', 'Frequency']\n",
    "emloyement_count_df"
   ],
   "id": "7b9a8720386e022b",
   "outputs": [
    {
     "data": {
      "text/plain": [
       "                                          Employment Frequency\n",
       "0  Independent contractor, freelancer, or self-em...      5672\n",
       "1                                 Employed full-time     45270\n",
       "2                                                NaN     607.0\n",
       "3                                            Student      7787\n",
       "4                 Not employed, but looking for work      2343\n",
       "5                                 Employed part-time      2217\n",
       "6                                            Retired       243\n",
       "7             Not employed, and not looking for work       322"
      ],
      "text/html": [
       "<div>\n",
       "<style scoped>\n",
       "    .dataframe tbody tr th:only-of-type {\n",
       "        vertical-align: middle;\n",
       "    }\n",
       "\n",
       "    .dataframe tbody tr th {\n",
       "        vertical-align: top;\n",
       "    }\n",
       "\n",
       "    .dataframe thead th {\n",
       "        text-align: right;\n",
       "    }\n",
       "</style>\n",
       "<table border=\"1\" class=\"dataframe\">\n",
       "  <thead>\n",
       "    <tr style=\"text-align: right;\">\n",
       "      <th></th>\n",
       "      <th>Employment</th>\n",
       "      <th>Frequency</th>\n",
       "    </tr>\n",
       "  </thead>\n",
       "  <tbody>\n",
       "    <tr>\n",
       "      <th>0</th>\n",
       "      <td>Independent contractor, freelancer, or self-em...</td>\n",
       "      <td>5672</td>\n",
       "    </tr>\n",
       "    <tr>\n",
       "      <th>1</th>\n",
       "      <td>Employed full-time</td>\n",
       "      <td>45270</td>\n",
       "    </tr>\n",
       "    <tr>\n",
       "      <th>2</th>\n",
       "      <td>NaN</td>\n",
       "      <td>607.0</td>\n",
       "    </tr>\n",
       "    <tr>\n",
       "      <th>3</th>\n",
       "      <td>Student</td>\n",
       "      <td>7787</td>\n",
       "    </tr>\n",
       "    <tr>\n",
       "      <th>4</th>\n",
       "      <td>Not employed, but looking for work</td>\n",
       "      <td>2343</td>\n",
       "    </tr>\n",
       "    <tr>\n",
       "      <th>5</th>\n",
       "      <td>Employed part-time</td>\n",
       "      <td>2217</td>\n",
       "    </tr>\n",
       "    <tr>\n",
       "      <th>6</th>\n",
       "      <td>Retired</td>\n",
       "      <td>243</td>\n",
       "    </tr>\n",
       "    <tr>\n",
       "      <th>7</th>\n",
       "      <td>Not employed, and not looking for work</td>\n",
       "      <td>322</td>\n",
       "    </tr>\n",
       "  </tbody>\n",
       "</table>\n",
       "</div>"
      ]
     },
     "execution_count": 30,
     "metadata": {},
     "output_type": "execute_result"
    }
   ],
   "execution_count": 30
  },
  {
   "metadata": {
    "ExecuteTime": {
     "end_time": "2024-10-24T14:38:43.355595Z",
     "start_time": "2024-10-24T14:38:43.345072Z"
    }
   },
   "cell_type": "code",
   "source": [
    "# sanity check \n",
    "print(f\"employement_unique_values length : {employement_unique_values.shape[0]}\")\n",
    "print(f\"emloyement_count_df shape : {emloyement_count_df.shape}\")\n",
    "\n",
    "print(f\"-----------------------------------------------------\")\n",
    "freq_sum = emloyement_count_df['Frequency'].sum()\n",
    "raw_df_shape = raw_df.shape[0]\n",
    "\n",
    "print(f\"Sum of frequency values: {freq_sum}\")\n",
    "print(f\"raw_shape length: {raw_df_shape}\")\n",
    "\n",
    "\n",
    "if (employement_unique_values.shape[0] == emloyement_count_df.shape[0]) and (freq_sum == raw_df_shape): \n",
    "    print(f\".. Sanity check passed. \")\n",
    "else: \n",
    "    print(f\".. Sanity check failed. \")"
   ],
   "id": "df9d621a4a65b281",
   "outputs": [
    {
     "name": "stdout",
     "output_type": "stream",
     "text": [
      "employement_unique_values length : 8\n",
      "emloyement_count_df shape : (8, 2)\n",
      "-----------------------------------------------------\n",
      "Sum of frequency values: 64461.0\n",
      "raw_shape length: 64461\n",
      ".. Sanity check passed. \n"
     ]
    }
   ],
   "execution_count": 29
  },
  {
   "metadata": {
    "ExecuteTime": {
     "end_time": "2024-10-24T14:39:42.893551Z",
     "start_time": "2024-10-24T14:39:42.685345Z"
    }
   },
   "cell_type": "code",
   "source": [
    "# plot emloyement_count_df\n",
    "\n",
    "plt.figure(figsize=(18, 6))\n",
    "plt.xticks(rotation=90)\n",
    "sns.barplot(y=emloyement_count_df['Employment'], \n",
    "            x=emloyement_count_df['Frequency'], \n",
    "            data=emloyement_count_df)\n",
    "plt.title(\"Employment Frequency Distribution\")"
   ],
   "id": "5f10ed727c55cc01",
   "outputs": [
    {
     "data": {
      "text/plain": [
       "Text(0.5, 1.0, 'Employment Frequency Distribution')"
      ]
     },
     "execution_count": 31,
     "metadata": {},
     "output_type": "execute_result"
    },
    {
     "data": {
      "text/plain": [
       "<Figure size 1800x600 with 1 Axes>"
      ],
      "image/png": "[encoded data removed]"
     },
     "metadata": {},
     "output_type": "display_data"
    }
   ],
   "execution_count": 31
  },
  {
   "metadata": {
    "ExecuteTime": {
     "end_time": "2024-10-24T14:40:24.889042Z",
     "start_time": "2024-10-24T14:40:24.655003Z"
    }
   },
   "cell_type": "code",
   "source": [
    "# Most frequency Employments \n",
    "freq_employments = emloyement_count_df.sort_values(by='Frequency', ascending=False)[0:22]\n",
    "plt.figure(figsize=(18, 12))\n",
    "sns.barplot(y=freq_employments['Employment'], \n",
    "            x=freq_employments['Frequency'], \n",
    "            data=freq_employments)\n",
    "plt.title(\"Most Frequent Employment Frequency Distribution\")"
   ],
   "id": "49cbf1f9bc626baf",
   "outputs": [
    {
     "data": {
      "text/plain": [
       "Text(0.5, 1.0, 'Most Frequent Employment Frequency Distribution')"
      ]
     },
     "execution_count": 32,
     "metadata": {},
     "output_type": "execute_result"
    },
    {
     "data": {
      "text/plain": [
       "<Figure size 1800x1200 with 1 Axes>"
      ],
      "image/png": "[encoded data removed]"
     },
     "metadata": {},
     "output_type": "display_data"
    }
   ],
   "execution_count": 32
  },
  {
   "metadata": {
    "ExecuteTime": {
     "end_time": "2024-10-24T14:40:48.851524Z",
     "start_time": "2024-10-24T14:40:48.744516Z"
    }
   },
   "cell_type": "code",
   "source": [
    "# Number and portion of responses from employed people\n",
    "nbr_employed = raw_df[(raw_df['Employment'].str.contains('Employed full-time')) | (raw_df['Employment'].str.contains('Employed part-time'))].shape[0]\n",
    "print(f\"Number of answers from employed people: {nbr_employed}\")\n",
    "print(f\"Portion of employed people in the survey: {nbr_employed / raw_df.shape[0] * 100:.2f}%\")"
   ],
   "id": "84a3e9df1e971bf",
   "outputs": [
    {
     "name": "stdout",
     "output_type": "stream",
     "text": [
      "Number of answers from employed people: 47487\n",
      "Portion of employed people in the survey: 73.67%\n"
     ]
    }
   ],
   "execution_count": 33
  },
  {
   "metadata": {
    "ExecuteTime": {
     "end_time": "2024-10-24T14:41:12.139716Z",
     "start_time": "2024-10-24T14:41:12.126875Z"
    }
   },
   "cell_type": "code",
   "source": [
    " # Number and portion of retired people \n",
    " nbr_retired = raw_df[(raw_df['Employment'] == 'Retired')].shape[0]\n",
    "print(f\"Number of answers from retired people: {nbr_retired}\")\n",
    "print(f\"Portion of retired people in the survey: {nbr_retired / raw_df.shape[0] * 100:.2f}%\")"
   ],
   "id": "f368820bd88c368c",
   "outputs": [
    {
     "name": "stdout",
     "output_type": "stream",
     "text": [
      "Number of answers from retired people: 243\n",
      "Portion of retired people in the survey: 0.38%\n"
     ]
    }
   ],
   "execution_count": 34
  },
  {
   "metadata": {},
   "cell_type": "markdown",
   "source": "## Educational Level",
   "id": "18dff4bff678a592"
  },
  {
   "metadata": {
    "ExecuteTime": {
     "end_time": "2024-10-24T14:41:22.170015Z",
     "start_time": "2024-10-24T14:41:22.158295Z"
    }
   },
   "cell_type": "code",
   "source": [
    "edLevel_unique_values = raw_df['EdLevel'].unique()\n",
    "edLevel_unique_values"
   ],
   "id": "f9694a745a84b0ff",
   "outputs": [
    {
     "data": {
      "text/plain": [
       "array(['Master’s degree (M.A., M.S., M.Eng., MBA, etc.)',\n",
       "       'Bachelor’s degree (B.A., B.S., B.Eng., etc.)', nan,\n",
       "       'Secondary school (e.g. American high school, German Realschule or Gymnasium, etc.)',\n",
       "       'Professional degree (JD, MD, etc.)',\n",
       "       'Some college/university study without earning a degree',\n",
       "       'Associate degree (A.A., A.S., etc.)',\n",
       "       'Other doctoral degree (Ph.D., Ed.D., etc.)',\n",
       "       'Primary/elementary school',\n",
       "       'I never completed any formal education'], dtype=object)"
      ]
     },
     "execution_count": 35,
     "metadata": {},
     "output_type": "execute_result"
    }
   ],
   "execution_count": 35
  },
  {
   "metadata": {
    "ExecuteTime": {
     "end_time": "2024-10-24T14:42:19.182180Z",
     "start_time": "2024-10-24T14:42:19.073385Z"
    }
   },
   "cell_type": "code",
   "source": [
    "# Calculate the EdLevels Frequency\n",
    "edLevel_unique_values_count = []\n",
    "for value in edLevel_unique_values:\n",
    "    if str(value) != 'nan':\n",
    "        print(f\"value : {value}\")\n",
    "        edLevel_count = raw_df[raw_df['EdLevel'] == value].shape[0]\n",
    "        edLevel_unique_values_count.append(edLevel_count)\n",
    "    else : \n",
    "        edLevel_unique_values_count.append(raw_df['EdLevel'].isna().sum())\n",
    "        \n",
    "edLevel_count_df = pd.DataFrame([edLevel_unique_values, edLevel_unique_values_count]).T\n",
    "edLevel_count_df.columns = ['EdLevel', 'Frequency']\n",
    "edLevel_count_df"
   ],
   "id": "9c403753fa57cc1f",
   "outputs": [
    {
     "name": "stdout",
     "output_type": "stream",
     "text": [
      "value : Master’s degree (M.A., M.S., M.Eng., MBA, etc.)\n",
      "value : Bachelor’s degree (B.A., B.S., B.Eng., etc.)\n",
      "value : Secondary school (e.g. American high school, German Realschule or Gymnasium, etc.)\n",
      "value : Professional degree (JD, MD, etc.)\n",
      "value : Some college/university study without earning a degree\n",
      "value : Associate degree (A.A., A.S., etc.)\n",
      "value : Other doctoral degree (Ph.D., Ed.D., etc.)\n",
      "value : Primary/elementary school\n",
      "value : I never completed any formal education\n"
     ]
    },
    {
     "data": {
      "text/plain": [
       "                                             EdLevel Frequency\n",
       "0    Master’s degree (M.A., M.S., M.Eng., MBA, etc.)     13112\n",
       "1       Bachelor’s degree (B.A., B.S., B.Eng., etc.)     26542\n",
       "2                                                NaN    7030.0\n",
       "3  Secondary school (e.g. American high school, G...      4771\n",
       "4                 Professional degree (JD, MD, etc.)       800\n",
       "5  Some college/university study without earning ...      7239\n",
       "6                Associate degree (A.A., A.S., etc.)      1843\n",
       "7         Other doctoral degree (Ph.D., Ed.D., etc.)      1690\n",
       "8                          Primary/elementary school       941\n",
       "9             I never completed any formal education       493"
      ],
      "text/html": [
       "<div>\n",
       "<style scoped>\n",
       "    .dataframe tbody tr th:only-of-type {\n",
       "        vertical-align: middle;\n",
       "    }\n",
       "\n",
       "    .dataframe tbody tr th {\n",
       "        vertical-align: top;\n",
       "    }\n",
       "\n",
       "    .dataframe thead th {\n",
       "        text-align: right;\n",
       "    }\n",
       "</style>\n",
       "<table border=\"1\" class=\"dataframe\">\n",
       "  <thead>\n",
       "    <tr style=\"text-align: right;\">\n",
       "      <th></th>\n",
       "      <th>EdLevel</th>\n",
       "      <th>Frequency</th>\n",
       "    </tr>\n",
       "  </thead>\n",
       "  <tbody>\n",
       "    <tr>\n",
       "      <th>0</th>\n",
       "      <td>Master’s degree (M.A., M.S., M.Eng., MBA, etc.)</td>\n",
       "      <td>13112</td>\n",
       "    </tr>\n",
       "    <tr>\n",
       "      <th>1</th>\n",
       "      <td>Bachelor’s degree (B.A., B.S., B.Eng., etc.)</td>\n",
       "      <td>26542</td>\n",
       "    </tr>\n",
       "    <tr>\n",
       "      <th>2</th>\n",
       "      <td>NaN</td>\n",
       "      <td>7030.0</td>\n",
       "    </tr>\n",
       "    <tr>\n",
       "      <th>3</th>\n",
       "      <td>Secondary school (e.g. American high school, G...</td>\n",
       "      <td>4771</td>\n",
       "    </tr>\n",
       "    <tr>\n",
       "      <th>4</th>\n",
       "      <td>Professional degree (JD, MD, etc.)</td>\n",
       "      <td>800</td>\n",
       "    </tr>\n",
       "    <tr>\n",
       "      <th>5</th>\n",
       "      <td>Some college/university study without earning ...</td>\n",
       "      <td>7239</td>\n",
       "    </tr>\n",
       "    <tr>\n",
       "      <th>6</th>\n",
       "      <td>Associate degree (A.A., A.S., etc.)</td>\n",
       "      <td>1843</td>\n",
       "    </tr>\n",
       "    <tr>\n",
       "      <th>7</th>\n",
       "      <td>Other doctoral degree (Ph.D., Ed.D., etc.)</td>\n",
       "      <td>1690</td>\n",
       "    </tr>\n",
       "    <tr>\n",
       "      <th>8</th>\n",
       "      <td>Primary/elementary school</td>\n",
       "      <td>941</td>\n",
       "    </tr>\n",
       "    <tr>\n",
       "      <th>9</th>\n",
       "      <td>I never completed any formal education</td>\n",
       "      <td>493</td>\n",
       "    </tr>\n",
       "  </tbody>\n",
       "</table>\n",
       "</div>"
      ]
     },
     "execution_count": 38,
     "metadata": {},
     "output_type": "execute_result"
    }
   ],
   "execution_count": 38
  },
  {
   "metadata": {
    "ExecuteTime": {
     "end_time": "2024-10-24T14:43:11.284653Z",
     "start_time": "2024-10-24T14:43:11.275141Z"
    }
   },
   "cell_type": "code",
   "source": [
    "# sanity check \n",
    "print(f\"EdLevel_unique_values length : {edLevel_unique_values.shape[0]}\")\n",
    "print(f\"edLevel_count_df shape : {edLevel_count_df.shape}\")\n",
    "\n",
    "freq_sum = edLevel_count_df['Frequency'].sum()\n",
    "raw_df_shape = raw_df.shape[0]\n",
    "\n",
    "print(f\"-------------------------------\")\n",
    "print(f\"Frequency sum: {int(freq_sum)}\")\n",
    "print(f\"raw_df_shape[0]: {int(raw_df_shape)}\")\n",
    "\n",
    "\n",
    "if (edLevel_unique_values.shape[0] == edLevel_count_df.shape[0]) and (freq_sum == raw_df_shape): \n",
    "    print(f\".. Sanity check passed. \")\n",
    "else: \n",
    "    print(f\".. Sanity check failed. \")"
   ],
   "id": "a782d4e9db5520c",
   "outputs": [
    {
     "name": "stdout",
     "output_type": "stream",
     "text": [
      "EdLevel_unique_values length : 10\n",
      "edLevel_count_df shape : (10, 2)\n",
      "-------------------------------\n",
      "Frequency sum: 64461\n",
      "raw_df_shape[0]: 64461\n",
      ".. Sanity check passed. \n"
     ]
    }
   ],
   "execution_count": 39
  },
  {
   "metadata": {
    "ExecuteTime": {
     "end_time": "2024-10-24T14:43:14.276521Z",
     "start_time": "2024-10-24T14:43:14.063589Z"
    }
   },
   "cell_type": "code",
   "source": [
    "edLevel_count_sorted_df = edLevel_count_df.sort_values(by='Frequency', ascending=False)\n",
    "\n",
    "sns.barplot(x=edLevel_count_sorted_df['Frequency'], y=edLevel_count_sorted_df['EdLevel'], data=edLevel_count_sorted_df)\n",
    "plt.title(\"Educational level of the population\")"
   ],
   "id": "a2b2a66da0c81b5f",
   "outputs": [
    {
     "data": {
      "text/plain": [
       "Text(0.5, 1.0, 'Educational level of the population')"
      ]
     },
     "execution_count": 40,
     "metadata": {},
     "output_type": "execute_result"
    },
    {
     "data": {
      "text/plain": [
       "<Figure size 640x480 with 1 Axes>"
      ],
      "image/png": "[encoded data removed]"
     },
     "metadata": {},
     "output_type": "display_data"
    }
   ],
   "execution_count": 40
  },
  {
   "metadata": {
    "ExecuteTime": {
     "end_time": "2024-10-24T14:47:06.374669Z",
     "start_time": "2024-10-24T14:47:06.359224Z"
    }
   },
   "cell_type": "code",
   "source": "raw_df[raw_df['EdLevel'] == 'Primary/elementary school']['Age'].unique()",
   "id": "e3dbd89f1d34a412",
   "outputs": [
    {
     "data": {
      "text/plain": [
       "array([38. , 27. , 18. , 28. , 20. , 17. ,  nan, 11. , 16. , 25. , 15. ,\n",
       "       14. , 43. , 13. , 32. , 12. , 49. , 26. , 48. , 36. , 33. , 41. ,\n",
       "       59. , 46. , 30. , 22. , 40. , 44. , 31. , 35. , 19. , 45. , 14.7,\n",
       "       34. , 24. , 34.5, 29. , 53. , 21. , 23. , 51. , 47. , 39. , 56. ,\n",
       "       42. , 54. , 55. , 99. , 37. , 14.5])"
      ]
     },
     "execution_count": 47,
     "metadata": {},
     "output_type": "execute_result"
    }
   ],
   "execution_count": 47
  },
  {
   "metadata": {
    "ExecuteTime": {
     "end_time": "2024-10-24T14:47:50.198802Z",
     "start_time": "2024-10-24T14:47:50.164206Z"
    }
   },
   "cell_type": "code",
   "source": [
    "# What is the age of people with Primary/Elementary School \n",
    "age_df = raw_df[raw_df['EdLevel'] == 'Primary/elementary school']\n",
    "\n",
    "# calculate the age frequency\n",
    "age_freq_lst = []\n",
    "for age in age_df['Age'].unique() : \n",
    "    age_freq = age_df[age_df['Age'] == age].shape[0]\n",
    "    age_freq_lst.append(age_freq)\n",
    "\n",
    "age_freq_serie = pd.Series(age_freq_lst)\n",
    "age_freq_df = pd.DataFrame([age_df.Age.unique().tolist(), age_freq_serie]).T\n",
    "age_freq_df.columns = ['Age', 'Frequency']\n",
    "\n",
    "# clean memory \n",
    "del age_df, age_freq_lst, age_freq_serie\n",
    "\n",
    "age_freq_df"
   ],
   "id": "769d81023622e467",
   "outputs": [
    {
     "data": {
      "text/plain": [
       "     Age  Frequency\n",
       "0   38.0        6.0\n",
       "1   27.0       12.0\n",
       "2   18.0       47.0\n",
       "3   28.0       11.0\n",
       "4   20.0       32.0\n",
       "5   17.0       87.0\n",
       "6    NaN        0.0\n",
       "7   11.0        3.0\n",
       "8   16.0      106.0\n",
       "9   25.0        7.0\n",
       "10  15.0      100.0\n",
       "11  14.0       42.0\n",
       "12  43.0        4.0\n",
       "13  13.0       36.0\n",
       "14  32.0        8.0\n",
       "15  12.0       13.0\n",
       "16  49.0        3.0\n",
       "17  26.0        5.0\n",
       "18  48.0        3.0\n",
       "19  36.0        7.0\n",
       "20  33.0        8.0\n",
       "21  41.0        4.0\n",
       "22  59.0        1.0\n",
       "23  46.0        2.0\n",
       "24  30.0       15.0\n",
       "25  22.0       11.0\n",
       "26  40.0        5.0\n",
       "27  44.0        2.0\n",
       "28  31.0        3.0\n",
       "29  35.0       10.0\n",
       "30  19.0       31.0\n",
       "31  45.0        3.0\n",
       "32  14.7        1.0\n",
       "33  34.0        3.0\n",
       "34  24.0       11.0\n",
       "35  34.5        1.0\n",
       "36  29.0        9.0\n",
       "37  53.0        1.0\n",
       "38  21.0       11.0\n",
       "39  23.0       12.0\n",
       "40  51.0        1.0\n",
       "41  47.0        1.0\n",
       "42  39.0        2.0\n",
       "43  56.0        1.0\n",
       "44  42.0        1.0\n",
       "45  54.0        1.0\n",
       "46  55.0        1.0\n",
       "47  99.0        1.0\n",
       "48  37.0        1.0\n",
       "49  14.5        1.0"
      ],
      "text/html": [
       "<div>\n",
       "<style scoped>\n",
       "    .dataframe tbody tr th:only-of-type {\n",
       "        vertical-align: middle;\n",
       "    }\n",
       "\n",
       "    .dataframe tbody tr th {\n",
       "        vertical-align: top;\n",
       "    }\n",
       "\n",
       "    .dataframe thead th {\n",
       "        text-align: right;\n",
       "    }\n",
       "</style>\n",
       "<table border=\"1\" class=\"dataframe\">\n",
       "  <thead>\n",
       "    <tr style=\"text-align: right;\">\n",
       "      <th></th>\n",
       "      <th>Age</th>\n",
       "      <th>Frequency</th>\n",
       "    </tr>\n",
       "  </thead>\n",
       "  <tbody>\n",
       "    <tr>\n",
       "      <th>0</th>\n",
       "      <td>38.0</td>\n",
       "      <td>6.0</td>\n",
       "    </tr>\n",
       "    <tr>\n",
       "      <th>1</th>\n",
       "      <td>27.0</td>\n",
       "      <td>12.0</td>\n",
       "    </tr>\n",
       "    <tr>\n",
       "      <th>2</th>\n",
       "      <td>18.0</td>\n",
       "      <td>47.0</td>\n",
       "    </tr>\n",
       "    <tr>\n",
       "      <th>3</th>\n",
       "      <td>28.0</td>\n",
       "      <td>11.0</td>\n",
       "    </tr>\n",
       "    <tr>\n",
       "      <th>4</th>\n",
       "      <td>20.0</td>\n",
       "      <td>32.0</td>\n",
       "    </tr>\n",
       "    <tr>\n",
       "      <th>5</th>\n",
       "      <td>17.0</td>\n",
       "      <td>87.0</td>\n",
       "    </tr>\n",
       "    <tr>\n",
       "      <th>6</th>\n",
       "      <td>NaN</td>\n",
       "      <td>0.0</td>\n",
       "    </tr>\n",
       "    <tr>\n",
       "      <th>7</th>\n",
       "      <td>11.0</td>\n",
       "      <td>3.0</td>\n",
       "    </tr>\n",
       "    <tr>\n",
       "      <th>8</th>\n",
       "      <td>16.0</td>\n",
       "      <td>106.0</td>\n",
       "    </tr>\n",
       "    <tr>\n",
       "      <th>9</th>\n",
       "      <td>25.0</td>\n",
       "      <td>7.0</td>\n",
       "    </tr>\n",
       "    <tr>\n",
       "      <th>10</th>\n",
       "      <td>15.0</td>\n",
       "      <td>100.0</td>\n",
       "    </tr>\n",
       "    <tr>\n",
       "      <th>11</th>\n",
       "      <td>14.0</td>\n",
       "      <td>42.0</td>\n",
       "    </tr>\n",
       "    <tr>\n",
       "      <th>12</th>\n",
       "      <td>43.0</td>\n",
       "      <td>4.0</td>\n",
       "    </tr>\n",
       "    <tr>\n",
       "      <th>13</th>\n",
       "      <td>13.0</td>\n",
       "      <td>36.0</td>\n",
       "    </tr>\n",
       "    <tr>\n",
       "      <th>14</th>\n",
       "      <td>32.0</td>\n",
       "      <td>8.0</td>\n",
       "    </tr>\n",
       "    <tr>\n",
       "      <th>15</th>\n",
       "      <td>12.0</td>\n",
       "      <td>13.0</td>\n",
       "    </tr>\n",
       "    <tr>\n",
       "      <th>16</th>\n",
       "      <td>49.0</td>\n",
       "      <td>3.0</td>\n",
       "    </tr>\n",
       "    <tr>\n",
       "      <th>17</th>\n",
       "      <td>26.0</td>\n",
       "      <td>5.0</td>\n",
       "    </tr>\n",
       "    <tr>\n",
       "      <th>18</th>\n",
       "      <td>48.0</td>\n",
       "      <td>3.0</td>\n",
       "    </tr>\n",
       "    <tr>\n",
       "      <th>19</th>\n",
       "      <td>36.0</td>\n",
       "      <td>7.0</td>\n",
       "    </tr>\n",
       "    <tr>\n",
       "      <th>20</th>\n",
       "      <td>33.0</td>\n",
       "      <td>8.0</td>\n",
       "    </tr>\n",
       "    <tr>\n",
       "      <th>21</th>\n",
       "      <td>41.0</td>\n",
       "      <td>4.0</td>\n",
       "    </tr>\n",
       "    <tr>\n",
       "      <th>22</th>\n",
       "      <td>59.0</td>\n",
       "      <td>1.0</td>\n",
       "    </tr>\n",
       "    <tr>\n",
       "      <th>23</th>\n",
       "      <td>46.0</td>\n",
       "      <td>2.0</td>\n",
       "    </tr>\n",
       "    <tr>\n",
       "      <th>24</th>\n",
       "      <td>30.0</td>\n",
       "      <td>15.0</td>\n",
       "    </tr>\n",
       "    <tr>\n",
       "      <th>25</th>\n",
       "      <td>22.0</td>\n",
       "      <td>11.0</td>\n",
       "    </tr>\n",
       "    <tr>\n",
       "      <th>26</th>\n",
       "      <td>40.0</td>\n",
       "      <td>5.0</td>\n",
       "    </tr>\n",
       "    <tr>\n",
       "      <th>27</th>\n",
       "      <td>44.0</td>\n",
       "      <td>2.0</td>\n",
       "    </tr>\n",
       "    <tr>\n",
       "      <th>28</th>\n",
       "      <td>31.0</td>\n",
       "      <td>3.0</td>\n",
       "    </tr>\n",
       "    <tr>\n",
       "      <th>29</th>\n",
       "      <td>35.0</td>\n",
       "      <td>10.0</td>\n",
       "    </tr>\n",
       "    <tr>\n",
       "      <th>30</th>\n",
       "      <td>19.0</td>\n",
       "      <td>31.0</td>\n",
       "    </tr>\n",
       "    <tr>\n",
       "      <th>31</th>\n",
       "      <td>45.0</td>\n",
       "      <td>3.0</td>\n",
       "    </tr>\n",
       "    <tr>\n",
       "      <th>32</th>\n",
       "      <td>14.7</td>\n",
       "      <td>1.0</td>\n",
       "    </tr>\n",
       "    <tr>\n",
       "      <th>33</th>\n",
       "      <td>34.0</td>\n",
       "      <td>3.0</td>\n",
       "    </tr>\n",
       "    <tr>\n",
       "      <th>34</th>\n",
       "      <td>24.0</td>\n",
       "      <td>11.0</td>\n",
       "    </tr>\n",
       "    <tr>\n",
       "      <th>35</th>\n",
       "      <td>34.5</td>\n",
       "      <td>1.0</td>\n",
       "    </tr>\n",
       "    <tr>\n",
       "      <th>36</th>\n",
       "      <td>29.0</td>\n",
       "      <td>9.0</td>\n",
       "    </tr>\n",
       "    <tr>\n",
       "      <th>37</th>\n",
       "      <td>53.0</td>\n",
       "      <td>1.0</td>\n",
       "    </tr>\n",
       "    <tr>\n",
       "      <th>38</th>\n",
       "      <td>21.0</td>\n",
       "      <td>11.0</td>\n",
       "    </tr>\n",
       "    <tr>\n",
       "      <th>39</th>\n",
       "      <td>23.0</td>\n",
       "      <td>12.0</td>\n",
       "    </tr>\n",
       "    <tr>\n",
       "      <th>40</th>\n",
       "      <td>51.0</td>\n",
       "      <td>1.0</td>\n",
       "    </tr>\n",
       "    <tr>\n",
       "      <th>41</th>\n",
       "      <td>47.0</td>\n",
       "      <td>1.0</td>\n",
       "    </tr>\n",
       "    <tr>\n",
       "      <th>42</th>\n",
       "      <td>39.0</td>\n",
       "      <td>2.0</td>\n",
       "    </tr>\n",
       "    <tr>\n",
       "      <th>43</th>\n",
       "      <td>56.0</td>\n",
       "      <td>1.0</td>\n",
       "    </tr>\n",
       "    <tr>\n",
       "      <th>44</th>\n",
       "      <td>42.0</td>\n",
       "      <td>1.0</td>\n",
       "    </tr>\n",
       "    <tr>\n",
       "      <th>45</th>\n",
       "      <td>54.0</td>\n",
       "      <td>1.0</td>\n",
       "    </tr>\n",
       "    <tr>\n",
       "      <th>46</th>\n",
       "      <td>55.0</td>\n",
       "      <td>1.0</td>\n",
       "    </tr>\n",
       "    <tr>\n",
       "      <th>47</th>\n",
       "      <td>99.0</td>\n",
       "      <td>1.0</td>\n",
       "    </tr>\n",
       "    <tr>\n",
       "      <th>48</th>\n",
       "      <td>37.0</td>\n",
       "      <td>1.0</td>\n",
       "    </tr>\n",
       "    <tr>\n",
       "      <th>49</th>\n",
       "      <td>14.5</td>\n",
       "      <td>1.0</td>\n",
       "    </tr>\n",
       "  </tbody>\n",
       "</table>\n",
       "</div>"
      ]
     },
     "execution_count": 49,
     "metadata": {},
     "output_type": "execute_result"
    }
   ],
   "execution_count": 49
  },
  {
   "metadata": {
    "ExecuteTime": {
     "end_time": "2024-10-24T14:49:41.895224Z",
     "start_time": "2024-10-24T14:49:41.870585Z"
    }
   },
   "cell_type": "code",
   "source": [
    "# sanity check \n",
    "\n",
    "freq_sum = age_freq_df['Frequency'].sum()\n",
    "raw_df_shape = raw_df[raw_df['EdLevel'] == \"Primary/elementary school\"].shape[0]\n",
    "\n",
    "print(f\"-------------------------------\")\n",
    "print(f\"Frequency sum: {int(freq_sum)}\")\n",
    "print(f\"raw_df_shape[0]: {int(raw_df_shape)}\")\n",
    "\n",
    "age_df_nan = raw_df[raw_df['EdLevel'] == 'Primary/elementary school']['Age'].isna().sum()\n",
    "if freq_sum == raw_df_shape - age_df_nan: \n",
    "    print(f\".. Sanity check passed. \")\n",
    "else: \n",
    "    print(f\".. Sanity check failed. \")"
   ],
   "id": "dd1696a2280fa2e4",
   "outputs": [
    {
     "name": "stdout",
     "output_type": "stream",
     "text": [
      "-------------------------------\n",
      "Frequency sum: 687\n",
      "raw_df_shape[0]: 941\n",
      ".. Sanity check passed. \n"
     ]
    }
   ],
   "execution_count": 54
  },
  {
   "metadata": {
    "ExecuteTime": {
     "end_time": "2024-10-24T14:52:49.300045Z",
     "start_time": "2024-10-24T14:52:49.287214Z"
    }
   },
   "cell_type": "code",
   "source": [
    "age_freq_sorted_df = age_freq_df.sort_values(by='Frequency', ascending=False)\n",
    "age_freq_sorted_df['Age'].max()"
   ],
   "id": "f35d2f23a83c4686",
   "outputs": [
    {
     "data": {
      "text/plain": [
       "np.float64(99.0)"
      ]
     },
     "execution_count": 63,
     "metadata": {},
     "output_type": "execute_result"
    }
   ],
   "execution_count": 63
  },
  {
   "metadata": {
    "ExecuteTime": {
     "end_time": "2024-10-24T14:54:18.816815Z",
     "start_time": "2024-10-24T14:54:18.224462Z"
    }
   },
   "cell_type": "code",
   "source": [
    "age_freq_sorted_df = age_freq_df.sort_values(by='Frequency', ascending=False)\n",
    "\n",
    "plt.figure(figsize=(15,5))\n",
    "sns.barplot(data= age_freq_sorted_df, x=age_freq_sorted_df['Age'], y=age_freq_sorted_df['Frequency'])\n",
    "plt.xticks(rotation=90)\n",
    "plt.title(\"Age frequency distribution of people with Primary/elementary school degree\")"
   ],
   "id": "a0e01d2935433490",
   "outputs": [
    {
     "data": {
      "text/plain": [
       "Text(0.5, 1.0, 'Age frequency distribution of people with Primary/elementary school degree')"
      ]
     },
     "execution_count": 67,
     "metadata": {},
     "output_type": "execute_result"
    },
    {
     "data": {
      "text/plain": [
       "<Figure size 1500x500 with 1 Axes>"
      ],
      "image/png": "[encoded data removed]"
     },
     "metadata": {},
     "output_type": "display_data"
    }
   ],
   "execution_count": 67
  },
  {
   "metadata": {
    "ExecuteTime": {
     "end_time": "2024-10-24T14:54:39.667047Z",
     "start_time": "2024-10-24T14:54:39.566142Z"
    }
   },
   "cell_type": "code",
   "source": [
    "# What is the age of people with \"Bachelor's degree (B.A., B.S., B.Eng., etc.)\"\n",
    "age_df = raw_df[raw_df['EdLevel'] == \"Bachelor’s degree (B.A., B.S., B.Eng., etc.)\"]\n",
    "\n",
    "# calculate the age frequency\n",
    "age_freq_lst = []\n",
    "for age in age_df['Age'].unique() : \n",
    "    age_freq = age_df[age_df['Age'] == age].shape[0]\n",
    "    age_freq_lst.append(age_freq)\n",
    "\n",
    "age_freq_serie = pd.Series(age_freq_lst)\n",
    "age_freq_df = pd.DataFrame([age_df.Age.unique().tolist(), age_freq_serie]).T\n",
    "age_freq_df.columns = ['Age', 'Frequency']\n",
    "\n",
    "# clean memory \n",
    "del age_df, age_freq_lst, age_freq_serie\n",
    "\n",
    "age_freq_df"
   ],
   "id": "45e11830d3ab4a16",
   "outputs": [
    {
     "data": {
      "text/plain": [
       "     Age  Frequency\n",
       "0    NaN        0.0\n",
       "1   31.0      797.0\n",
       "2   36.0      471.0\n",
       "3   23.0     1391.0\n",
       "4   45.0      175.0\n",
       "..   ...        ...\n",
       "75  31.5        1.0\n",
       "76  80.0        1.0\n",
       "77  69.0        4.0\n",
       "78  83.0        1.0\n",
       "79  95.0        1.0\n",
       "\n",
       "[80 rows x 2 columns]"
      ],
      "text/html": [
       "<div>\n",
       "<style scoped>\n",
       "    .dataframe tbody tr th:only-of-type {\n",
       "        vertical-align: middle;\n",
       "    }\n",
       "\n",
       "    .dataframe tbody tr th {\n",
       "        vertical-align: top;\n",
       "    }\n",
       "\n",
       "    .dataframe thead th {\n",
       "        text-align: right;\n",
       "    }\n",
       "</style>\n",
       "<table border=\"1\" class=\"dataframe\">\n",
       "  <thead>\n",
       "    <tr style=\"text-align: right;\">\n",
       "      <th></th>\n",
       "      <th>Age</th>\n",
       "      <th>Frequency</th>\n",
       "    </tr>\n",
       "  </thead>\n",
       "  <tbody>\n",
       "    <tr>\n",
       "      <th>0</th>\n",
       "      <td>NaN</td>\n",
       "      <td>0.0</td>\n",
       "    </tr>\n",
       "    <tr>\n",
       "      <th>1</th>\n",
       "      <td>31.0</td>\n",
       "      <td>797.0</td>\n",
       "    </tr>\n",
       "    <tr>\n",
       "      <th>2</th>\n",
       "      <td>36.0</td>\n",
       "      <td>471.0</td>\n",
       "    </tr>\n",
       "    <tr>\n",
       "      <th>3</th>\n",
       "      <td>23.0</td>\n",
       "      <td>1391.0</td>\n",
       "    </tr>\n",
       "    <tr>\n",
       "      <th>4</th>\n",
       "      <td>45.0</td>\n",
       "      <td>175.0</td>\n",
       "    </tr>\n",
       "    <tr>\n",
       "      <th>...</th>\n",
       "      <td>...</td>\n",
       "      <td>...</td>\n",
       "    </tr>\n",
       "    <tr>\n",
       "      <th>75</th>\n",
       "      <td>31.5</td>\n",
       "      <td>1.0</td>\n",
       "    </tr>\n",
       "    <tr>\n",
       "      <th>76</th>\n",
       "      <td>80.0</td>\n",
       "      <td>1.0</td>\n",
       "    </tr>\n",
       "    <tr>\n",
       "      <th>77</th>\n",
       "      <td>69.0</td>\n",
       "      <td>4.0</td>\n",
       "    </tr>\n",
       "    <tr>\n",
       "      <th>78</th>\n",
       "      <td>83.0</td>\n",
       "      <td>1.0</td>\n",
       "    </tr>\n",
       "    <tr>\n",
       "      <th>79</th>\n",
       "      <td>95.0</td>\n",
       "      <td>1.0</td>\n",
       "    </tr>\n",
       "  </tbody>\n",
       "</table>\n",
       "<p>80 rows × 2 columns</p>\n",
       "</div>"
      ]
     },
     "execution_count": 68,
     "metadata": {},
     "output_type": "execute_result"
    }
   ],
   "execution_count": 68
  },
  {
   "metadata": {
    "ExecuteTime": {
     "end_time": "2024-10-24T14:55:22.646408Z",
     "start_time": "2024-10-24T14:55:22.582937Z"
    }
   },
   "cell_type": "code",
   "source": [
    "# sanity check \n",
    "\n",
    "freq_sum = age_freq_df['Frequency'].sum()\n",
    "raw_df_shape = raw_df[raw_df['EdLevel'] == \"Bachelor’s degree (B.A., B.S., B.Eng., etc.)\"].shape[0]\n",
    "\n",
    "print(f\"-------------------------------\")\n",
    "print(f\"Frequency sum: {int(freq_sum)}\")\n",
    "print(f\"raw_df_shape[0]: {int(raw_df_shape)}\")\n",
    "\n",
    "age_df_nan = raw_df[raw_df['EdLevel'] == 'Bachelor’s degree (B.A., B.S., B.Eng., etc.)']['Age'].isna().sum()\n",
    "if freq_sum == raw_df_shape - age_df_nan: \n",
    "    print(f\".. Sanity check passed. \")\n",
    "else: \n",
    "    print(f\".. Sanity check failed. \")"
   ],
   "id": "4ba0afcee7deb476",
   "outputs": [
    {
     "name": "stdout",
     "output_type": "stream",
     "text": [
      "-------------------------------\n",
      "Frequency sum: 20457\n",
      "raw_df_shape[0]: 26542\n",
      ".. Sanity check passed. \n"
     ]
    }
   ],
   "execution_count": 71
  },
  {
   "metadata": {
    "ExecuteTime": {
     "end_time": "2024-10-24T14:55:48.434566Z",
     "start_time": "2024-10-24T14:55:47.461652Z"
    }
   },
   "cell_type": "code",
   "source": [
    "age_freq_sorted_df = age_freq_df.sort_values(by='Frequency', ascending=False)\n",
    "\n",
    "plt.figure(figsize=(15,5))\n",
    "sns.barplot(data= age_freq_sorted_df, y=age_freq_sorted_df['Frequency'], x=age_freq_sorted_df['Age'])\n",
    "plt.xticks(rotation=90)\n",
    "plt.title(\"Age frequency distribution of people with Bachelor’s degree (B.A., B.S., B.Eng., etc.) degree\")"
   ],
   "id": "4e47d32c1db91642",
   "outputs": [
    {
     "data": {
      "text/plain": [
       "Text(0.5, 1.0, 'Age frequency distribution of people with Bachelor’s degree (B.A., B.S., B.Eng., etc.) degree')"
      ]
     },
     "execution_count": 74,
     "metadata": {},
     "output_type": "execute_result"
    },
    {
     "data": {
      "text/plain": [
       "<Figure size 1500x500 with 1 Axes>"
      ],
      "image/png": "[encoded data removed]"
     },
     "metadata": {},
     "output_type": "display_data"
    }
   ],
   "execution_count": 74
  },
  {
   "metadata": {},
   "cell_type": "markdown",
   "source": "## Age ",
   "id": "6713e951e6d53994"
  },
  {
   "metadata": {
    "ExecuteTime": {
     "end_time": "2024-10-24T14:56:47.209352Z",
     "start_time": "2024-10-24T14:56:47.103069Z"
    }
   },
   "cell_type": "code",
   "source": [
    "# Calculate and Visualize the Age distribution independently of any other variable \n",
    "\n",
    "# calculate the age frequency\n",
    "age_freq_lst = []\n",
    "for age in raw_df['Age'].unique() : \n",
    "    age_freq = raw_df[raw_df['Age'] == age].shape[0]\n",
    "    age_freq_lst.append(age_freq)\n",
    "\n",
    "age_freq_serie = pd.Series(age_freq_lst)\n",
    "age_freq_df = pd.DataFrame([raw_df.Age.unique().tolist(), age_freq_serie]).T\n",
    "age_freq_df.columns = ['Age', 'Frequency']\n",
    "\n",
    "age_freq_df"
   ],
   "id": "dc004167a385f40c",
   "outputs": [
    {
     "data": {
      "text/plain": [
       "      Age  Frequency\n",
       "0     NaN        0.0\n",
       "1    25.0     2693.0\n",
       "2    31.0     1716.0\n",
       "3    36.0     1129.0\n",
       "4    30.0     2406.0\n",
       "..    ...        ...\n",
       "106  75.0        4.0\n",
       "107  83.0        2.0\n",
       "108  23.4        1.0\n",
       "109  95.0        1.0\n",
       "110  14.5        1.0\n",
       "\n",
       "[111 rows x 2 columns]"
      ],
      "text/html": [
       "<div>\n",
       "<style scoped>\n",
       "    .dataframe tbody tr th:only-of-type {\n",
       "        vertical-align: middle;\n",
       "    }\n",
       "\n",
       "    .dataframe tbody tr th {\n",
       "        vertical-align: top;\n",
       "    }\n",
       "\n",
       "    .dataframe thead th {\n",
       "        text-align: right;\n",
       "    }\n",
       "</style>\n",
       "<table border=\"1\" class=\"dataframe\">\n",
       "  <thead>\n",
       "    <tr style=\"text-align: right;\">\n",
       "      <th></th>\n",
       "      <th>Age</th>\n",
       "      <th>Frequency</th>\n",
       "    </tr>\n",
       "  </thead>\n",
       "  <tbody>\n",
       "    <tr>\n",
       "      <th>0</th>\n",
       "      <td>NaN</td>\n",
       "      <td>0.0</td>\n",
       "    </tr>\n",
       "    <tr>\n",
       "      <th>1</th>\n",
       "      <td>25.0</td>\n",
       "      <td>2693.0</td>\n",
       "    </tr>\n",
       "    <tr>\n",
       "      <th>2</th>\n",
       "      <td>31.0</td>\n",
       "      <td>1716.0</td>\n",
       "    </tr>\n",
       "    <tr>\n",
       "      <th>3</th>\n",
       "      <td>36.0</td>\n",
       "      <td>1129.0</td>\n",
       "    </tr>\n",
       "    <tr>\n",
       "      <th>4</th>\n",
       "      <td>30.0</td>\n",
       "      <td>2406.0</td>\n",
       "    </tr>\n",
       "    <tr>\n",
       "      <th>...</th>\n",
       "      <td>...</td>\n",
       "      <td>...</td>\n",
       "    </tr>\n",
       "    <tr>\n",
       "      <th>106</th>\n",
       "      <td>75.0</td>\n",
       "      <td>4.0</td>\n",
       "    </tr>\n",
       "    <tr>\n",
       "      <th>107</th>\n",
       "      <td>83.0</td>\n",
       "      <td>2.0</td>\n",
       "    </tr>\n",
       "    <tr>\n",
       "      <th>108</th>\n",
       "      <td>23.4</td>\n",
       "      <td>1.0</td>\n",
       "    </tr>\n",
       "    <tr>\n",
       "      <th>109</th>\n",
       "      <td>95.0</td>\n",
       "      <td>1.0</td>\n",
       "    </tr>\n",
       "    <tr>\n",
       "      <th>110</th>\n",
       "      <td>14.5</td>\n",
       "      <td>1.0</td>\n",
       "    </tr>\n",
       "  </tbody>\n",
       "</table>\n",
       "<p>111 rows × 2 columns</p>\n",
       "</div>"
      ]
     },
     "execution_count": 75,
     "metadata": {},
     "output_type": "execute_result"
    }
   ],
   "execution_count": 75
  },
  {
   "metadata": {
    "ExecuteTime": {
     "end_time": "2024-10-24T14:57:22.168355Z",
     "start_time": "2024-10-24T14:57:22.156484Z"
    }
   },
   "cell_type": "code",
   "source": [
    "# sanity check \n",
    "\n",
    "freq_sum = age_freq_df['Frequency'].sum()\n",
    "raw_df_shape = raw_df.shape[0]\n",
    "\n",
    "print(f\"-------------------------------\")\n",
    "print(f\"Frequency sum: {int(freq_sum)}\")\n",
    "print(f\"raw_df_shape[0]: {int(raw_df_shape)}\")\n",
    "\n",
    "age_nan = raw_df['Age'].isna().sum()\n",
    "if freq_sum == raw_df_shape - age_nan: \n",
    "    print(f\".. Sanity check passed. \")\n",
    "else: \n",
    "    print(f\".. Sanity check failed. \")"
   ],
   "id": "ac039912b2975a2f",
   "outputs": [
    {
     "name": "stdout",
     "output_type": "stream",
     "text": [
      "-------------------------------\n",
      "Frequency sum: 45446\n",
      "raw_df_shape[0]: 64461\n",
      ".. Sanity check passed. \n"
     ]
    }
   ],
   "execution_count": 76
  },
  {
   "metadata": {
    "ExecuteTime": {
     "end_time": "2024-10-24T14:59:16.061067Z",
     "start_time": "2024-10-24T14:59:14.656057Z"
    }
   },
   "cell_type": "code",
   "source": [
    "age_freq_sorted_df = age_freq_df.sort_values(by='Frequency', ascending=False)\n",
    "\n",
    "plt.figure(figsize=(22,9))\n",
    "sns.barplot(data= age_freq_sorted_df, x=age_freq_sorted_df['Age'], y=age_freq_sorted_df['Frequency'])\n",
    "plt.xticks(rotation=90)\n",
    "plt.title(\"Age frequency distribution of the population\")"
   ],
   "id": "b8b28218d51c4f87",
   "outputs": [
    {
     "data": {
      "text/plain": [
       "Text(0.5, 1.0, 'Age frequency distribution of the population')"
      ]
     },
     "execution_count": 84,
     "metadata": {},
     "output_type": "execute_result"
    },
    {
     "data": {
      "text/plain": [
       "<Figure size 2200x900 with 1 Axes>"
      ],
      "image/png": "[encoded data removed]"
     },
     "metadata": {},
     "output_type": "display_data"
    }
   ],
   "execution_count": 84
  },
  {
   "metadata": {},
   "cell_type": "markdown",
   "source": "## YearsCodePro",
   "id": "23c8dc5007dffa9d"
  },
  {
   "metadata": {},
   "cell_type": "markdown",
   "source": "- TODO : analyse this feature after data pre-processing for better insights",
   "id": "e3a3694ffe396730"
  },
  {
   "metadata": {
    "ExecuteTime": {
     "end_time": "2024-10-24T14:59:27.972881Z",
     "start_time": "2024-10-24T14:59:27.381649Z"
    }
   },
   "cell_type": "code",
   "source": [
    "years_code_pro_df = raw_df.dropna(subset=['YearsCodePro'])\n",
    "\n",
    "plt.figure(figsize=(18,6))\n",
    "plt.xticks(rotation=90)\n",
    "sns.histplot(data=years_code_pro_df['YearsCodePro'])"
   ],
   "id": "bb99eb3940b5d217",
   "outputs": [
    {
     "data": {
      "text/plain": [
       "<Axes: xlabel='YearsCodePro', ylabel='Count'>"
      ]
     },
     "execution_count": 85,
     "metadata": {},
     "output_type": "execute_result"
    },
    {
     "data": {
      "text/plain": [
       "<Figure size 1800x600 with 1 Axes>"
      ],
      "image/png": "[encoded data removed]"
     },
     "metadata": {},
     "output_type": "display_data"
    }
   ],
   "execution_count": 85
  },
  {
   "metadata": {},
   "cell_type": "markdown",
   "source": "## Country",
   "id": "9a1b8f8fb178a11a"
  },
  {
   "metadata": {
    "ExecuteTime": {
     "end_time": "2024-10-24T14:59:45.609936Z",
     "start_time": "2024-10-24T14:59:45.594854Z"
    }
   },
   "cell_type": "code",
   "source": [
    "# Calculate and Visualize the Country distribution \n",
    "\n",
    "country_sorted_df = raw_df.groupby('Country')['Country'].count().sort_values(ascending=False)\n",
    "country_sorted_df"
   ],
   "id": "c1122229a975d0c9",
   "outputs": [
    {
     "data": {
      "text/plain": [
       "Country\n",
       "United States       12469\n",
       "India                8403\n",
       "United Kingdom       3896\n",
       "Germany              3890\n",
       "Canada               2191\n",
       "                    ...  \n",
       "Marshall Islands        1\n",
       "Liechtenstein           1\n",
       "Lesotho                 1\n",
       "Saint Lucia             1\n",
       "North Korea             1\n",
       "Name: Country, Length: 183, dtype: int64"
      ]
     },
     "execution_count": 86,
     "metadata": {},
     "output_type": "execute_result"
    }
   ],
   "execution_count": 86
  },
  {
   "metadata": {
    "ExecuteTime": {
     "end_time": "2024-10-24T14:59:47.124579Z",
     "start_time": "2024-10-24T14:59:47.113195Z"
    }
   },
   "cell_type": "code",
   "source": [
    "country_sorted_df = pd.DataFrame(country_sorted_df)\n",
    "country_sorted_df.columns = ['Frequency']\n",
    "country_sorted_df.reset_index(inplace=True)\n",
    "country_sorted_df"
   ],
   "id": "6fd69cf897a849ac",
   "outputs": [
    {
     "data": {
      "text/plain": [
       "              Country  Frequency\n",
       "0       United States      12469\n",
       "1               India       8403\n",
       "2      United Kingdom       3896\n",
       "3             Germany       3890\n",
       "4              Canada       2191\n",
       "..                ...        ...\n",
       "178  Marshall Islands          1\n",
       "179     Liechtenstein          1\n",
       "180           Lesotho          1\n",
       "181       Saint Lucia          1\n",
       "182       North Korea          1\n",
       "\n",
       "[183 rows x 2 columns]"
      ],
      "text/html": [
       "<div>\n",
       "<style scoped>\n",
       "    .dataframe tbody tr th:only-of-type {\n",
       "        vertical-align: middle;\n",
       "    }\n",
       "\n",
       "    .dataframe tbody tr th {\n",
       "        vertical-align: top;\n",
       "    }\n",
       "\n",
       "    .dataframe thead th {\n",
       "        text-align: right;\n",
       "    }\n",
       "</style>\n",
       "<table border=\"1\" class=\"dataframe\">\n",
       "  <thead>\n",
       "    <tr style=\"text-align: right;\">\n",
       "      <th></th>\n",
       "      <th>Country</th>\n",
       "      <th>Frequency</th>\n",
       "    </tr>\n",
       "  </thead>\n",
       "  <tbody>\n",
       "    <tr>\n",
       "      <th>0</th>\n",
       "      <td>United States</td>\n",
       "      <td>12469</td>\n",
       "    </tr>\n",
       "    <tr>\n",
       "      <th>1</th>\n",
       "      <td>India</td>\n",
       "      <td>8403</td>\n",
       "    </tr>\n",
       "    <tr>\n",
       "      <th>2</th>\n",
       "      <td>United Kingdom</td>\n",
       "      <td>3896</td>\n",
       "    </tr>\n",
       "    <tr>\n",
       "      <th>3</th>\n",
       "      <td>Germany</td>\n",
       "      <td>3890</td>\n",
       "    </tr>\n",
       "    <tr>\n",
       "      <th>4</th>\n",
       "      <td>Canada</td>\n",
       "      <td>2191</td>\n",
       "    </tr>\n",
       "    <tr>\n",
       "      <th>...</th>\n",
       "      <td>...</td>\n",
       "      <td>...</td>\n",
       "    </tr>\n",
       "    <tr>\n",
       "      <th>178</th>\n",
       "      <td>Marshall Islands</td>\n",
       "      <td>1</td>\n",
       "    </tr>\n",
       "    <tr>\n",
       "      <th>179</th>\n",
       "      <td>Liechtenstein</td>\n",
       "      <td>1</td>\n",
       "    </tr>\n",
       "    <tr>\n",
       "      <th>180</th>\n",
       "      <td>Lesotho</td>\n",
       "      <td>1</td>\n",
       "    </tr>\n",
       "    <tr>\n",
       "      <th>181</th>\n",
       "      <td>Saint Lucia</td>\n",
       "      <td>1</td>\n",
       "    </tr>\n",
       "    <tr>\n",
       "      <th>182</th>\n",
       "      <td>North Korea</td>\n",
       "      <td>1</td>\n",
       "    </tr>\n",
       "  </tbody>\n",
       "</table>\n",
       "<p>183 rows × 2 columns</p>\n",
       "</div>"
      ]
     },
     "execution_count": 87,
     "metadata": {},
     "output_type": "execute_result"
    }
   ],
   "execution_count": 87
  },
  {
   "metadata": {
    "ExecuteTime": {
     "end_time": "2024-10-24T14:59:48.804567Z",
     "start_time": "2024-10-24T14:59:48.558680Z"
    }
   },
   "cell_type": "code",
   "source": [
    "plt.figure(figsize=(18,10))\n",
    "sns.barplot(data= country_sorted_df[:10], x=country_sorted_df[:10]['Frequency'], y=country_sorted_df[:10]['Country'])\n",
    "plt.title(\"Country Distribution\")"
   ],
   "id": "f861220e3935f6b3",
   "outputs": [
    {
     "data": {
      "text/plain": [
       "Text(0.5, 1.0, 'Country Distribution')"
      ]
     },
     "execution_count": 88,
     "metadata": {},
     "output_type": "execute_result"
    },
    {
     "data": {
      "text/plain": [
       "<Figure size 1800x1000 with 1 Axes>"
      ],
      "image/png": "[encoded data removed]"
     },
     "metadata": {},
     "output_type": "display_data"
    }
   ],
   "execution_count": 88
  },
  {
   "metadata": {},
   "cell_type": "markdown",
   "source": "END OF NOTEBOOK",
   "id": "50d38b810544654e"
  },
  {
   "metadata": {},
   "cell_type": "code",
   "outputs": [],
   "execution_count": null,
   "source": "",
   "id": "7cd9203a36d0365c"
  }
 ],
 "metadata": {
  "kernelspec": {
   "display_name": "Python 3",
   "language": "python",
   "name": "python3"
  },
  "language_info": {
   "codemirror_mode": {
    "name": "ipython",
    "version": 2
   },
   "file_extension": ".py",
   "mimetype": "text/x-python",
   "name": "python",
   "nbconvert_exporter": "python",
   "pygments_lexer": "ipython2",
   "version": "2.7.6"
  }
 },
 "nbformat": 4,
 "nbformat_minor": 5
}
