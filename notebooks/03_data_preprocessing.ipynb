{
 "cells": [
  {
   "cell_type": "code",
   "id": "initial_id",
   "metadata": {
    "collapsed": true,
    "ExecuteTime": {
     "end_time": "2024-10-24T14:15:54.010294Z",
     "start_time": "2024-10-24T14:15:54.004380Z"
    }
   },
   "source": [
    "import numpy as np\n",
    "import pandas as pd\n",
    "import matplotlib.pyplot as plt\n",
    "import seaborn as sns"
   ],
   "outputs": [],
   "execution_count": 1
  },
  {
   "metadata": {},
   "cell_type": "markdown",
   "source": "# Load Data",
   "id": "93bdf35b8af2e682"
  },
  {
   "metadata": {
    "ExecuteTime": {
     "end_time": "2024-10-24T15:01:14.430334Z",
     "start_time": "2024-10-24T15:01:14.425006Z"
    }
   },
   "cell_type": "code",
   "source": "RAW_DATA_PATH = \"../data/raw/2020/survey_results_public.csv\"",
   "id": "11f674138fc42cf3",
   "outputs": [],
   "execution_count": 13
  },
  {
   "metadata": {
    "ExecuteTime": {
     "end_time": "2024-10-24T15:01:20.807724Z",
     "start_time": "2024-10-24T15:01:18.526716Z"
    }
   },
   "cell_type": "code",
   "source": [
    "raw_df = pd.read_csv(RAW_DATA_PATH)\n",
    "raw_df"
   ],
   "id": "6f2d4e89ace2e996",
   "outputs": [
    {
     "data": {
      "text/plain": [
       "       Respondent                                         MainBranch Hobbyist  \\\n",
       "0               1                     I am a developer by profession      Yes   \n",
       "1               2                     I am a developer by profession       No   \n",
       "2               3                        I code primarily as a hobby      Yes   \n",
       "3               4                     I am a developer by profession      Yes   \n",
       "4               5  I used to be a developer by profession, but no...      Yes   \n",
       "...           ...                                                ...      ...   \n",
       "64456       64858                                                NaN      Yes   \n",
       "64457       64867                                                NaN      Yes   \n",
       "64458       64898                                                NaN      Yes   \n",
       "64459       64925                                                NaN      Yes   \n",
       "64460       65112                                                NaN      Yes   \n",
       "\n",
       "        Age Age1stCode CompFreq  CompTotal  ConvertedComp             Country  \\\n",
       "0       NaN         13  Monthly        NaN            NaN             Germany   \n",
       "1       NaN         19      NaN        NaN            NaN      United Kingdom   \n",
       "2       NaN         15      NaN        NaN            NaN  Russian Federation   \n",
       "3      25.0         18      NaN        NaN            NaN             Albania   \n",
       "4      31.0         16      NaN        NaN            NaN       United States   \n",
       "...     ...        ...      ...        ...            ...                 ...   \n",
       "64456   NaN         16      NaN        NaN            NaN       United States   \n",
       "64457   NaN        NaN      NaN        NaN            NaN             Morocco   \n",
       "64458   NaN        NaN      NaN        NaN            NaN            Viet Nam   \n",
       "64459   NaN        NaN      NaN        NaN            NaN              Poland   \n",
       "64460   NaN        NaN      NaN        NaN            NaN               Spain   \n",
       "\n",
       "         CurrencyDesc  ...                  SurveyEase           SurveyLength  \\\n",
       "0       European Euro  ...  Neither easy nor difficult  Appropriate in length   \n",
       "1      Pound sterling  ...                         NaN                    NaN   \n",
       "2                 NaN  ...  Neither easy nor difficult  Appropriate in length   \n",
       "3        Albanian lek  ...                         NaN                    NaN   \n",
       "4                 NaN  ...                        Easy              Too short   \n",
       "...               ...  ...                         ...                    ...   \n",
       "64456             NaN  ...                         NaN                    NaN   \n",
       "64457             NaN  ...                         NaN                    NaN   \n",
       "64458             NaN  ...                         NaN                    NaN   \n",
       "64459             NaN  ...                         NaN                    NaN   \n",
       "64460             NaN  ...                         NaN                    NaN   \n",
       "\n",
       "      Trans                                     UndergradMajor  \\\n",
       "0        No  Computer science, computer engineering, or sof...   \n",
       "1       NaN  Computer science, computer engineering, or sof...   \n",
       "2       NaN                                                NaN   \n",
       "3        No  Computer science, computer engineering, or sof...   \n",
       "4        No  Computer science, computer engineering, or sof...   \n",
       "...     ...                                                ...   \n",
       "64456   NaN  Computer science, computer engineering, or sof...   \n",
       "64457   NaN                                                NaN   \n",
       "64458   NaN                                                NaN   \n",
       "64459   NaN                                                NaN   \n",
       "64460   NaN  Computer science, computer engineering, or sof...   \n",
       "\n",
       "            WebframeDesireNextYear                      WebframeWorkedWith  \\\n",
       "0                     ASP.NET Core                    ASP.NET;ASP.NET Core   \n",
       "1                              NaN                                     NaN   \n",
       "2                              NaN                                     NaN   \n",
       "3                              NaN                                     NaN   \n",
       "4             Django;Ruby on Rails                           Ruby on Rails   \n",
       "...                            ...                                     ...   \n",
       "64456                          NaN                                     NaN   \n",
       "64457                          NaN                                     NaN   \n",
       "64458                          NaN                                     NaN   \n",
       "64459  Angular;Angular.js;React.js                                     NaN   \n",
       "64460          ASP.NET Core;jQuery  Angular;Angular.js;ASP.NET Core;jQuery   \n",
       "\n",
       "                                  WelcomeChange WorkWeekHrs YearsCode  \\\n",
       "0       Just as welcome now as I felt last year        50.0        36   \n",
       "1      Somewhat more welcome now than last year         NaN         7   \n",
       "2      Somewhat more welcome now than last year         NaN         4   \n",
       "3      Somewhat less welcome now than last year        40.0         7   \n",
       "4       Just as welcome now as I felt last year         NaN        15   \n",
       "...                                         ...         ...       ...   \n",
       "64456                                       NaN         NaN        10   \n",
       "64457                                       NaN         NaN       NaN   \n",
       "64458                                       NaN         NaN       NaN   \n",
       "64459                                       NaN         NaN       NaN   \n",
       "64460                                       NaN         NaN       NaN   \n",
       "\n",
       "           YearsCodePro  \n",
       "0                    27  \n",
       "1                     4  \n",
       "2                   NaN  \n",
       "3                     4  \n",
       "4                     8  \n",
       "...                 ...  \n",
       "64456  Less than 1 year  \n",
       "64457               NaN  \n",
       "64458               NaN  \n",
       "64459               NaN  \n",
       "64460               NaN  \n",
       "\n",
       "[64461 rows x 61 columns]"
      ],
      "text/html": [
       "<div>\n",
       "<style scoped>\n",
       "    .dataframe tbody tr th:only-of-type {\n",
       "        vertical-align: middle;\n",
       "    }\n",
       "\n",
       "    .dataframe tbody tr th {\n",
       "        vertical-align: top;\n",
       "    }\n",
       "\n",
       "    .dataframe thead th {\n",
       "        text-align: right;\n",
       "    }\n",
       "</style>\n",
       "<table border=\"1\" class=\"dataframe\">\n",
       "  <thead>\n",
       "    <tr style=\"text-align: right;\">\n",
       "      <th></th>\n",
       "      <th>Respondent</th>\n",
       "      <th>MainBranch</th>\n",
       "      <th>Hobbyist</th>\n",
       "      <th>Age</th>\n",
       "      <th>Age1stCode</th>\n",
       "      <th>CompFreq</th>\n",
       "      <th>CompTotal</th>\n",
       "      <th>ConvertedComp</th>\n",
       "      <th>Country</th>\n",
       "      <th>CurrencyDesc</th>\n",
       "      <th>...</th>\n",
       "      <th>SurveyEase</th>\n",
       "      <th>SurveyLength</th>\n",
       "      <th>Trans</th>\n",
       "      <th>UndergradMajor</th>\n",
       "      <th>WebframeDesireNextYear</th>\n",
       "      <th>WebframeWorkedWith</th>\n",
       "      <th>WelcomeChange</th>\n",
       "      <th>WorkWeekHrs</th>\n",
       "      <th>YearsCode</th>\n",
       "      <th>YearsCodePro</th>\n",
       "    </tr>\n",
       "  </thead>\n",
       "  <tbody>\n",
       "    <tr>\n",
       "      <th>0</th>\n",
       "      <td>1</td>\n",
       "      <td>I am a developer by profession</td>\n",
       "      <td>Yes</td>\n",
       "      <td>NaN</td>\n",
       "      <td>13</td>\n",
       "      <td>Monthly</td>\n",
       "      <td>NaN</td>\n",
       "      <td>NaN</td>\n",
       "      <td>Germany</td>\n",
       "      <td>European Euro</td>\n",
       "      <td>...</td>\n",
       "      <td>Neither easy nor difficult</td>\n",
       "      <td>Appropriate in length</td>\n",
       "      <td>No</td>\n",
       "      <td>Computer science, computer engineering, or sof...</td>\n",
       "      <td>ASP.NET Core</td>\n",
       "      <td>ASP.NET;ASP.NET Core</td>\n",
       "      <td>Just as welcome now as I felt last year</td>\n",
       "      <td>50.0</td>\n",
       "      <td>36</td>\n",
       "      <td>27</td>\n",
       "    </tr>\n",
       "    <tr>\n",
       "      <th>1</th>\n",
       "      <td>2</td>\n",
       "      <td>I am a developer by profession</td>\n",
       "      <td>No</td>\n",
       "      <td>NaN</td>\n",
       "      <td>19</td>\n",
       "      <td>NaN</td>\n",
       "      <td>NaN</td>\n",
       "      <td>NaN</td>\n",
       "      <td>United Kingdom</td>\n",
       "      <td>Pound sterling</td>\n",
       "      <td>...</td>\n",
       "      <td>NaN</td>\n",
       "      <td>NaN</td>\n",
       "      <td>NaN</td>\n",
       "      <td>Computer science, computer engineering, or sof...</td>\n",
       "      <td>NaN</td>\n",
       "      <td>NaN</td>\n",
       "      <td>Somewhat more welcome now than last year</td>\n",
       "      <td>NaN</td>\n",
       "      <td>7</td>\n",
       "      <td>4</td>\n",
       "    </tr>\n",
       "    <tr>\n",
       "      <th>2</th>\n",
       "      <td>3</td>\n",
       "      <td>I code primarily as a hobby</td>\n",
       "      <td>Yes</td>\n",
       "      <td>NaN</td>\n",
       "      <td>15</td>\n",
       "      <td>NaN</td>\n",
       "      <td>NaN</td>\n",
       "      <td>NaN</td>\n",
       "      <td>Russian Federation</td>\n",
       "      <td>NaN</td>\n",
       "      <td>...</td>\n",
       "      <td>Neither easy nor difficult</td>\n",
       "      <td>Appropriate in length</td>\n",
       "      <td>NaN</td>\n",
       "      <td>NaN</td>\n",
       "      <td>NaN</td>\n",
       "      <td>NaN</td>\n",
       "      <td>Somewhat more welcome now than last year</td>\n",
       "      <td>NaN</td>\n",
       "      <td>4</td>\n",
       "      <td>NaN</td>\n",
       "    </tr>\n",
       "    <tr>\n",
       "      <th>3</th>\n",
       "      <td>4</td>\n",
       "      <td>I am a developer by profession</td>\n",
       "      <td>Yes</td>\n",
       "      <td>25.0</td>\n",
       "      <td>18</td>\n",
       "      <td>NaN</td>\n",
       "      <td>NaN</td>\n",
       "      <td>NaN</td>\n",
       "      <td>Albania</td>\n",
       "      <td>Albanian lek</td>\n",
       "      <td>...</td>\n",
       "      <td>NaN</td>\n",
       "      <td>NaN</td>\n",
       "      <td>No</td>\n",
       "      <td>Computer science, computer engineering, or sof...</td>\n",
       "      <td>NaN</td>\n",
       "      <td>NaN</td>\n",
       "      <td>Somewhat less welcome now than last year</td>\n",
       "      <td>40.0</td>\n",
       "      <td>7</td>\n",
       "      <td>4</td>\n",
       "    </tr>\n",
       "    <tr>\n",
       "      <th>4</th>\n",
       "      <td>5</td>\n",
       "      <td>I used to be a developer by profession, but no...</td>\n",
       "      <td>Yes</td>\n",
       "      <td>31.0</td>\n",
       "      <td>16</td>\n",
       "      <td>NaN</td>\n",
       "      <td>NaN</td>\n",
       "      <td>NaN</td>\n",
       "      <td>United States</td>\n",
       "      <td>NaN</td>\n",
       "      <td>...</td>\n",
       "      <td>Easy</td>\n",
       "      <td>Too short</td>\n",
       "      <td>No</td>\n",
       "      <td>Computer science, computer engineering, or sof...</td>\n",
       "      <td>Django;Ruby on Rails</td>\n",
       "      <td>Ruby on Rails</td>\n",
       "      <td>Just as welcome now as I felt last year</td>\n",
       "      <td>NaN</td>\n",
       "      <td>15</td>\n",
       "      <td>8</td>\n",
       "    </tr>\n",
       "    <tr>\n",
       "      <th>...</th>\n",
       "      <td>...</td>\n",
       "      <td>...</td>\n",
       "      <td>...</td>\n",
       "      <td>...</td>\n",
       "      <td>...</td>\n",
       "      <td>...</td>\n",
       "      <td>...</td>\n",
       "      <td>...</td>\n",
       "      <td>...</td>\n",
       "      <td>...</td>\n",
       "      <td>...</td>\n",
       "      <td>...</td>\n",
       "      <td>...</td>\n",
       "      <td>...</td>\n",
       "      <td>...</td>\n",
       "      <td>...</td>\n",
       "      <td>...</td>\n",
       "      <td>...</td>\n",
       "      <td>...</td>\n",
       "      <td>...</td>\n",
       "      <td>...</td>\n",
       "    </tr>\n",
       "    <tr>\n",
       "      <th>64456</th>\n",
       "      <td>64858</td>\n",
       "      <td>NaN</td>\n",
       "      <td>Yes</td>\n",
       "      <td>NaN</td>\n",
       "      <td>16</td>\n",
       "      <td>NaN</td>\n",
       "      <td>NaN</td>\n",
       "      <td>NaN</td>\n",
       "      <td>United States</td>\n",
       "      <td>NaN</td>\n",
       "      <td>...</td>\n",
       "      <td>NaN</td>\n",
       "      <td>NaN</td>\n",
       "      <td>NaN</td>\n",
       "      <td>Computer science, computer engineering, or sof...</td>\n",
       "      <td>NaN</td>\n",
       "      <td>NaN</td>\n",
       "      <td>NaN</td>\n",
       "      <td>NaN</td>\n",
       "      <td>10</td>\n",
       "      <td>Less than 1 year</td>\n",
       "    </tr>\n",
       "    <tr>\n",
       "      <th>64457</th>\n",
       "      <td>64867</td>\n",
       "      <td>NaN</td>\n",
       "      <td>Yes</td>\n",
       "      <td>NaN</td>\n",
       "      <td>NaN</td>\n",
       "      <td>NaN</td>\n",
       "      <td>NaN</td>\n",
       "      <td>NaN</td>\n",
       "      <td>Morocco</td>\n",
       "      <td>NaN</td>\n",
       "      <td>...</td>\n",
       "      <td>NaN</td>\n",
       "      <td>NaN</td>\n",
       "      <td>NaN</td>\n",
       "      <td>NaN</td>\n",
       "      <td>NaN</td>\n",
       "      <td>NaN</td>\n",
       "      <td>NaN</td>\n",
       "      <td>NaN</td>\n",
       "      <td>NaN</td>\n",
       "      <td>NaN</td>\n",
       "    </tr>\n",
       "    <tr>\n",
       "      <th>64458</th>\n",
       "      <td>64898</td>\n",
       "      <td>NaN</td>\n",
       "      <td>Yes</td>\n",
       "      <td>NaN</td>\n",
       "      <td>NaN</td>\n",
       "      <td>NaN</td>\n",
       "      <td>NaN</td>\n",
       "      <td>NaN</td>\n",
       "      <td>Viet Nam</td>\n",
       "      <td>NaN</td>\n",
       "      <td>...</td>\n",
       "      <td>NaN</td>\n",
       "      <td>NaN</td>\n",
       "      <td>NaN</td>\n",
       "      <td>NaN</td>\n",
       "      <td>NaN</td>\n",
       "      <td>NaN</td>\n",
       "      <td>NaN</td>\n",
       "      <td>NaN</td>\n",
       "      <td>NaN</td>\n",
       "      <td>NaN</td>\n",
       "    </tr>\n",
       "    <tr>\n",
       "      <th>64459</th>\n",
       "      <td>64925</td>\n",
       "      <td>NaN</td>\n",
       "      <td>Yes</td>\n",
       "      <td>NaN</td>\n",
       "      <td>NaN</td>\n",
       "      <td>NaN</td>\n",
       "      <td>NaN</td>\n",
       "      <td>NaN</td>\n",
       "      <td>Poland</td>\n",
       "      <td>NaN</td>\n",
       "      <td>...</td>\n",
       "      <td>NaN</td>\n",
       "      <td>NaN</td>\n",
       "      <td>NaN</td>\n",
       "      <td>NaN</td>\n",
       "      <td>Angular;Angular.js;React.js</td>\n",
       "      <td>NaN</td>\n",
       "      <td>NaN</td>\n",
       "      <td>NaN</td>\n",
       "      <td>NaN</td>\n",
       "      <td>NaN</td>\n",
       "    </tr>\n",
       "    <tr>\n",
       "      <th>64460</th>\n",
       "      <td>65112</td>\n",
       "      <td>NaN</td>\n",
       "      <td>Yes</td>\n",
       "      <td>NaN</td>\n",
       "      <td>NaN</td>\n",
       "      <td>NaN</td>\n",
       "      <td>NaN</td>\n",
       "      <td>NaN</td>\n",
       "      <td>Spain</td>\n",
       "      <td>NaN</td>\n",
       "      <td>...</td>\n",
       "      <td>NaN</td>\n",
       "      <td>NaN</td>\n",
       "      <td>NaN</td>\n",
       "      <td>Computer science, computer engineering, or sof...</td>\n",
       "      <td>ASP.NET Core;jQuery</td>\n",
       "      <td>Angular;Angular.js;ASP.NET Core;jQuery</td>\n",
       "      <td>NaN</td>\n",
       "      <td>NaN</td>\n",
       "      <td>NaN</td>\n",
       "      <td>NaN</td>\n",
       "    </tr>\n",
       "  </tbody>\n",
       "</table>\n",
       "<p>64461 rows × 61 columns</p>\n",
       "</div>"
      ]
     },
     "execution_count": 14,
     "metadata": {},
     "output_type": "execute_result"
    }
   ],
   "execution_count": 14
  },
  {
   "metadata": {
    "ExecuteTime": {
     "end_time": "2024-10-24T14:15:56.111428Z",
     "start_time": "2024-10-24T14:15:55.996999Z"
    }
   },
   "cell_type": "code",
   "source": "raw_df.info(verbose=True)",
   "id": "11ac2157de3c86f",
   "outputs": [
    {
     "name": "stdout",
     "output_type": "stream",
     "text": [
      "<class 'pandas.core.frame.DataFrame'>\n",
      "RangeIndex: 64461 entries, 0 to 64460\n",
      "Data columns (total 61 columns):\n",
      " #   Column                        Non-Null Count  Dtype  \n",
      "---  ------                        --------------  -----  \n",
      " 0   Respondent                    64461 non-null  int64  \n",
      " 1   MainBranch                    64162 non-null  object \n",
      " 2   Hobbyist                      64416 non-null  object \n",
      " 3   Age                           45446 non-null  float64\n",
      " 4   Age1stCode                    57900 non-null  object \n",
      " 5   CompFreq                      40069 non-null  object \n",
      " 6   CompTotal                     34826 non-null  float64\n",
      " 7   ConvertedComp                 34756 non-null  float64\n",
      " 8   Country                       64072 non-null  object \n",
      " 9   CurrencyDesc                  45472 non-null  object \n",
      " 10  CurrencySymbol                45472 non-null  object \n",
      " 11  DatabaseDesireNextYear        44070 non-null  object \n",
      " 12  DatabaseWorkedWith            49537 non-null  object \n",
      " 13  DevType                       49370 non-null  object \n",
      " 14  EdLevel                       57431 non-null  object \n",
      " 15  Employment                    63854 non-null  object \n",
      " 16  Ethnicity                     45948 non-null  object \n",
      " 17  Gender                        50557 non-null  object \n",
      " 18  JobFactors                    49349 non-null  object \n",
      " 19  JobSat                        45194 non-null  object \n",
      " 20  JobSeek                       51727 non-null  object \n",
      " 21  LanguageDesireNextYear        54113 non-null  object \n",
      " 22  LanguageWorkedWith            57378 non-null  object \n",
      " 23  MiscTechDesireNextYear        42379 non-null  object \n",
      " 24  MiscTechWorkedWith            40314 non-null  object \n",
      " 25  NEWCollabToolsDesireNextYear  47287 non-null  object \n",
      " 26  NEWCollabToolsWorkedWith      52883 non-null  object \n",
      " 27  NEWDevOps                     42686 non-null  object \n",
      " 28  NEWDevOpsImpt                 41732 non-null  object \n",
      " 29  NEWEdImpt                     48465 non-null  object \n",
      " 30  NEWJobHunt                    42286 non-null  object \n",
      " 31  NEWJobHuntResearch            41022 non-null  object \n",
      " 32  NEWLearn                      56156 non-null  object \n",
      " 33  NEWOffTopic                   50804 non-null  object \n",
      " 34  NEWOnboardGood                42623 non-null  object \n",
      " 35  NEWOtherComms                 57205 non-null  object \n",
      " 36  NEWOvertime                   43231 non-null  object \n",
      " 37  NEWPurchaseResearch           37321 non-null  object \n",
      " 38  NEWPurpleLink                 54803 non-null  object \n",
      " 39  NEWSOSites                    58275 non-null  object \n",
      " 40  NEWStuck                      54983 non-null  object \n",
      " 41  OpSys                         56228 non-null  object \n",
      " 42  OrgSize                       44334 non-null  object \n",
      " 43  PlatformDesireNextYear        50605 non-null  object \n",
      " 44  PlatformWorkedWith            53843 non-null  object \n",
      " 45  PurchaseWhat                  39364 non-null  object \n",
      " 46  Sexuality                     43992 non-null  object \n",
      " 47  SOAccount                     56805 non-null  object \n",
      " 48  SOComm                        56476 non-null  object \n",
      " 49  SOPartFreq                    46792 non-null  object \n",
      " 50  SOVisitFreq                   56970 non-null  object \n",
      " 51  SurveyEase                    51802 non-null  object \n",
      " 52  SurveyLength                  51701 non-null  object \n",
      " 53  Trans                         49345 non-null  object \n",
      " 54  UndergradMajor                50995 non-null  object \n",
      " 55  WebframeDesireNextYear        40024 non-null  object \n",
      " 56  WebframeWorkedWith            42279 non-null  object \n",
      " 57  WelcomeChange                 52683 non-null  object \n",
      " 58  WorkWeekHrs                   41151 non-null  float64\n",
      " 59  YearsCode                     57684 non-null  object \n",
      " 60  YearsCodePro                  46349 non-null  object \n",
      "dtypes: float64(4), int64(1), object(56)\n",
      "memory usage: 30.0+ MB\n"
     ]
    }
   ],
   "execution_count": 4
  },
  {
   "metadata": {},
   "cell_type": "markdown",
   "source": "## YearsCodePro",
   "id": "21c4e282cc993f88"
  },
  {
   "metadata": {
    "ExecuteTime": {
     "end_time": "2024-10-24T15:03:54.756176Z",
     "start_time": "2024-10-24T15:03:54.733672Z"
    }
   },
   "cell_type": "code",
   "source": "data = raw_df.copy()",
   "id": "1c244e43126616fe",
   "outputs": [],
   "execution_count": 15
  },
  {
   "metadata": {
    "ExecuteTime": {
     "end_time": "2024-10-24T15:03:56.218006Z",
     "start_time": "2024-10-24T15:03:56.204520Z"
    }
   },
   "cell_type": "code",
   "source": [
    "age_unique_values = data['YearsCodePro'].unique()\n",
    "age_unique_values"
   ],
   "id": "a85b906161eeb06f",
   "outputs": [
    {
     "data": {
      "text/plain": [
       "array(['27', '4', nan, '8', '13', '2', '7', '20', '1', '23', '3', '12',\n",
       "       '17', '18', '10', '14', '29', '6', '28', '9', '15', '11', '16',\n",
       "       '25', 'Less than 1 year', '5', '21', '19', '35', '24', '32', '22',\n",
       "       '30', '38', '26', '40', '33', '31', 'More than 50 years', '34',\n",
       "       '36', '39', '37', '41', '45', '47', '42', '46', '50', '43', '44',\n",
       "       '48', '49'], dtype=object)"
      ]
     },
     "execution_count": 16,
     "metadata": {},
     "output_type": "execute_result"
    }
   ],
   "execution_count": 16
  },
  {
   "metadata": {
    "ExecuteTime": {
     "end_time": "2024-10-24T15:04:04.551539Z",
     "start_time": "2024-10-24T15:04:04.503997Z"
    }
   },
   "cell_type": "code",
   "source": [
    "new_values_dict = {\n",
    "    \"YearsCodePro\" : {\n",
    "        \"Less than 1 year\" : \"0\", \n",
    "        \"More than 50 years\" : \"51\"\n",
    "    }, \n",
    "    \"YearsCode\" : {\n",
    "        \"Less than 1 year\" : \"0\", \n",
    "        \"More than 50 years\" : \"51\"\n",
    "    }\n",
    "}\n",
    "\n",
    "data['YearsCodePro'] = data['YearsCodePro'].str.replace(\"Less than 1 year\", \n",
    "                                 new_values_dict['YearsCodePro']['Less than 1 year'])\n",
    "data['YearsCodePro'] = data['YearsCodePro'].str.replace(\"More than 50 years\", \n",
    "                                 new_values_dict['YearsCodePro']['More than 50 years'])\n",
    "\n",
    "################################à\n",
    "\n",
    "data['YearsCode'] = data['YearsCode'].str.replace(\"Less than 1 year\", \n",
    "                                 new_values_dict['YearsCode']['Less than 1 year'])\n",
    "data['YearsCode'] = data['YearsCode'].str.replace(\"More than 50 years\", \n",
    "                                 new_values_dict['YearsCode']['More than 50 years'])\n",
    "\n"
   ],
   "id": "bc541c2ee273d0a6",
   "outputs": [],
   "execution_count": 17
  },
  {
   "metadata": {
    "ExecuteTime": {
     "end_time": "2024-10-24T15:04:07.545596Z",
     "start_time": "2024-10-24T15:04:07.531702Z"
    }
   },
   "cell_type": "code",
   "source": [
    "# Sanity Check \n",
    "\n",
    "YEARS_CODE = ['YearsCodePro', 'YearsCode']\n",
    "for feat in YEARS_CODE:\n",
    "    unique_values = data[feat].unique()\n",
    "    print(f\"{feat}: {unique_values}\")\n",
    "    print(f\"------------------------\")"
   ],
   "id": "d5cc886c9315c3ec",
   "outputs": [
    {
     "name": "stdout",
     "output_type": "stream",
     "text": [
      "YearsCodePro: ['27' '4' nan '8' '13' '2' '7' '20' '1' '23' '3' '12' '17' '18' '10' '14'\n",
      " '29' '6' '28' '9' '15' '11' '16' '25' '0' '5' '21' '19' '35' '24' '32'\n",
      " '22' '30' '38' '26' '40' '33' '31' '51' '34' '36' '39' '37' '41' '45'\n",
      " '47' '42' '46' '50' '43' '44' '48' '49']\n",
      "------------------------\n",
      "YearsCode: ['36' '7' '4' '15' '6' '17' '8' '10' '35' '5' '37' '19' '9' '22' '30' '23'\n",
      " '20' '2' '0' '3' '13' '25' '16' '43' '11' '38' '33' nan '24' '21' '12'\n",
      " '40' '27' '50' '46' '14' '18' '28' '32' '44' '26' '42' '31' '34' '29' '1'\n",
      " '39' '41' '45' '51' '47' '49' '48']\n",
      "------------------------\n"
     ]
    }
   ],
   "execution_count": 18
  },
  {
   "metadata": {},
   "cell_type": "markdown",
   "source": "## Skillset feature",
   "id": "76d5637f47abf68c"
  },
  {
   "metadata": {
    "ExecuteTime": {
     "end_time": "2024-10-24T15:04:13.691884Z",
     "start_time": "2024-10-24T15:04:13.684488Z"
    }
   },
   "cell_type": "code",
   "source": "data.columns.values",
   "id": "a66467170ae672de",
   "outputs": [
    {
     "data": {
      "text/plain": [
       "array(['Respondent', 'MainBranch', 'Hobbyist', 'Age', 'Age1stCode',\n",
       "       'CompFreq', 'CompTotal', 'ConvertedComp', 'Country',\n",
       "       'CurrencyDesc', 'CurrencySymbol', 'DatabaseDesireNextYear',\n",
       "       'DatabaseWorkedWith', 'DevType', 'EdLevel', 'Employment',\n",
       "       'Ethnicity', 'Gender', 'JobFactors', 'JobSat', 'JobSeek',\n",
       "       'LanguageDesireNextYear', 'LanguageWorkedWith',\n",
       "       'MiscTechDesireNextYear', 'MiscTechWorkedWith',\n",
       "       'NEWCollabToolsDesireNextYear', 'NEWCollabToolsWorkedWith',\n",
       "       'NEWDevOps', 'NEWDevOpsImpt', 'NEWEdImpt', 'NEWJobHunt',\n",
       "       'NEWJobHuntResearch', 'NEWLearn', 'NEWOffTopic', 'NEWOnboardGood',\n",
       "       'NEWOtherComms', 'NEWOvertime', 'NEWPurchaseResearch',\n",
       "       'NEWPurpleLink', 'NEWSOSites', 'NEWStuck', 'OpSys', 'OrgSize',\n",
       "       'PlatformDesireNextYear', 'PlatformWorkedWith', 'PurchaseWhat',\n",
       "       'Sexuality', 'SOAccount', 'SOComm', 'SOPartFreq', 'SOVisitFreq',\n",
       "       'SurveyEase', 'SurveyLength', 'Trans', 'UndergradMajor',\n",
       "       'WebframeDesireNextYear', 'WebframeWorkedWith', 'WelcomeChange',\n",
       "       'WorkWeekHrs', 'YearsCode', 'YearsCodePro'], dtype=object)"
      ]
     },
     "execution_count": 19,
     "metadata": {},
     "output_type": "execute_result"
    }
   ],
   "execution_count": 19
  },
  {
   "metadata": {
    "ExecuteTime": {
     "end_time": "2024-10-24T15:04:24.481740Z",
     "start_time": "2024-10-24T15:04:24.464842Z"
    }
   },
   "cell_type": "code",
   "source": [
    "SKILLS_FEATS = [\n",
    "    'LanguageWorkedWith',\n",
    "     'DatabaseWorkedWith',\n",
    "     'PlatformWorkedWith',\n",
    "     'WebframeWorkedWith',\n",
    "     'MiscTechWorkedWith',\n",
    "] \n",
    "\n",
    "data[SKILLS_FEATS].sample().iloc[0]"
   ],
   "id": "951d2ca9433dd2e6",
   "outputs": [
    {
     "data": {
      "text/plain": [
       "LanguageWorkedWith    Bash/Shell/PowerShell;C#;HTML/CSS;Java;JavaScr...\n",
       "DatabaseWorkedWith          Firebase;Microsoft SQL Server;MongoDB;MySQL\n",
       "PlatformWorkedWith                              Microsoft Azure;Windows\n",
       "WebframeWorkedWith                                     ASP.NET;React.js\n",
       "MiscTechWorkedWith                                         .NET;Node.js\n",
       "Name: 4372, dtype: object"
      ]
     },
     "execution_count": 21,
     "metadata": {},
     "output_type": "execute_result"
    }
   ],
   "execution_count": 21
  },
  {
   "metadata": {
    "ExecuteTime": {
     "end_time": "2024-10-24T15:04:38.416112Z",
     "start_time": "2024-10-24T15:04:38.374631Z"
    }
   },
   "cell_type": "code",
   "source": [
    "mask = data[SKILLS_FEATS[0]].isna()\n",
    "data[~mask][SKILLS_FEATS[0]] "
   ],
   "id": "89b181bf12a039d8",
   "outputs": [
    {
     "data": {
      "text/plain": [
       "0                                   C#;HTML/CSS;JavaScript\n",
       "1                                         JavaScript;Swift\n",
       "2                                 Objective-C;Python;Swift\n",
       "4                                        HTML/CSS;Ruby;SQL\n",
       "5                                 HTML/CSS;Java;JavaScript\n",
       "                               ...                        \n",
       "64447                    C#;HTML/CSS;Java;JavaScript;Swift\n",
       "64453                                         C++;HTML/CSS\n",
       "64457    Assembly;Bash/Shell/PowerShell;C;C#;C++;Dart;G...\n",
       "64459                                             HTML/CSS\n",
       "64460                      C#;HTML/CSS;Java;JavaScript;SQL\n",
       "Name: LanguageWorkedWith, Length: 57378, dtype: object"
      ]
     },
     "execution_count": 22,
     "metadata": {},
     "output_type": "execute_result"
    }
   ],
   "execution_count": 22
  },
  {
   "metadata": {
    "ExecuteTime": {
     "end_time": "2024-10-24T15:04:44.093554Z",
     "start_time": "2024-10-24T15:04:43.485116Z"
    }
   },
   "cell_type": "code",
   "source": [
    "for feat in SKILLS_FEATS:\n",
    "    mask = data[feat].isna()\n",
    "    temp = data[mask][feat]\n",
    "    temp = data[~mask][feat].str.split(\";\")\n",
    "    \n",
    "\n",
    "temp"
   ],
   "id": "ad799c22e249c2ce",
   "outputs": [
    {
     "data": {
      "text/plain": [
       "0                              [.NET, .NET Core]\n",
       "1                                 [React Native]\n",
       "4                                      [Ansible]\n",
       "7                                      [Ansible]\n",
       "9                                       [Pandas]\n",
       "                          ...                   \n",
       "64441    [.NET, .NET Core, TensorFlow, Unity 3D]\n",
       "64446         [Node.js, Unity 3D, Unreal Engine]\n",
       "64447                                     [.NET]\n",
       "64453                                     [.NET]\n",
       "64460                          [.NET, .NET Core]\n",
       "Name: MiscTechWorkedWith, Length: 40314, dtype: object"
      ]
     },
     "execution_count": 23,
     "metadata": {},
     "output_type": "execute_result"
    }
   ],
   "execution_count": 23
  },
  {
   "metadata": {
    "ExecuteTime": {
     "end_time": "2024-10-24T14:15:58.561937200Z",
     "start_time": "2024-10-23T10:24:26.709076Z"
    }
   },
   "cell_type": "code",
   "source": "# pd.options.mode.copy_on_write = False",
   "id": "db320df8cbb34e28",
   "outputs": [],
   "execution_count": 12
  },
  {
   "metadata": {
    "ExecuteTime": {
     "end_time": "2024-10-24T14:15:58.561937200Z",
     "start_time": "2024-10-23T10:24:26.771701Z"
    }
   },
   "cell_type": "code",
   "source": "SKILLS_FEATS",
   "id": "d724b2a1f2c5bd17",
   "outputs": [
    {
     "data": {
      "text/plain": [
       "['LanguageHaveWorkedWith',\n",
       " 'DatabaseHaveWorkedWith',\n",
       " 'PlatformHaveWorkedWith',\n",
       " 'WebframeHaveWorkedWith',\n",
       " 'EmbeddedHaveWorkedWith',\n",
       " 'MiscTechHaveWorkedWith',\n",
       " 'ToolsTechHaveWorkedWith']"
      ]
     },
     "execution_count": 13,
     "metadata": {},
     "output_type": "execute_result"
    }
   ],
   "execution_count": 13
  },
  {
   "metadata": {
    "ExecuteTime": {
     "end_time": "2024-10-24T15:04:52.532382Z",
     "start_time": "2024-10-24T15:04:52.054489Z"
    }
   },
   "cell_type": "code",
   "source": [
    "# pd.options.mode.copy_on_write = False\n",
    "# for feat in SKILLS_FEATS:\n",
    "#     mask = data[feat].isna()\n",
    "# \n",
    "#     # Set data[mask][feat] to an empty list []\n",
    "#     data[feat][mask] = data[feat][mask].apply(lambda x: [])\n",
    "# \n",
    "#     # Split data[~mask][feat] by \";\"\n",
    "#     data[feat][~mask] = data[feat][~mask].apply(lambda x: x.split(\";\"))\n",
    "\n",
    "\n",
    "def split_answer(pd_series, delimiter): \n",
    "    \"\"\"Function to split single answer\"\"\"\n",
    "    return pd_series.str.split(delimiter)\n",
    "\n",
    "splitted_df = pd.DataFrame()\n",
    "\n",
    "for feat in SKILLS_FEATS:\n",
    "    modified_series = split_answer(data[feat], delimiter=\";\")\n",
    "    mask_null = modified_series.isnull()\n",
    "    modified_series.loc[mask_null] = modified_series[mask_null].apply(lambda x: [])\n",
    "    \n",
    "    splitted_df = pd.concat([splitted_df, modified_series], axis=1)\n",
    "# data[SKILLS_FEATS].sample().iloc[0]\n",
    "splitted_df"
   ],
   "id": "4778d7f63211b3d9",
   "outputs": [
    {
     "data": {
      "text/plain": [
       "                                      LanguageWorkedWith  \\\n",
       "0                             [C#, HTML/CSS, JavaScript]   \n",
       "1                                    [JavaScript, Swift]   \n",
       "2                           [Objective-C, Python, Swift]   \n",
       "3                                                     []   \n",
       "4                                  [HTML/CSS, Ruby, SQL]   \n",
       "...                                                  ...   \n",
       "64456                                                 []   \n",
       "64457  [Assembly, Bash/Shell/PowerShell, C, C#, C++, ...   \n",
       "64458                                                 []   \n",
       "64459                                         [HTML/CSS]   \n",
       "64460              [C#, HTML/CSS, Java, JavaScript, SQL]   \n",
       "\n",
       "                                      DatabaseWorkedWith  \\\n",
       "0          [Elasticsearch, Microsoft SQL Server, Oracle]   \n",
       "1                                                     []   \n",
       "2                                                     []   \n",
       "3                                                     []   \n",
       "4                     [MySQL, PostgreSQL, Redis, SQLite]   \n",
       "...                                                  ...   \n",
       "64456                                                 []   \n",
       "64457  [Cassandra, Couchbase, DynamoDB, Elasticsearch...   \n",
       "64458                                                 []   \n",
       "64459                                           [Oracle]   \n",
       "64460     [MariaDB, Microsoft SQL Server, MySQL, Oracle]   \n",
       "\n",
       "                                     PlatformWorkedWith  \\\n",
       "0                                             [Windows]   \n",
       "1                                                 [iOS]   \n",
       "2                                                    []   \n",
       "3                                                    []   \n",
       "4                  [AWS, Docker, Linux, MacOS, Windows]   \n",
       "...                                                 ...   \n",
       "64456                                                []   \n",
       "64457                                                []   \n",
       "64458                                                []   \n",
       "64459                                  [Linux, Windows]   \n",
       "64460  [Android, Arduino, Linux, Raspberry Pi, Windows]   \n",
       "\n",
       "                                WebframeWorkedWith MiscTechWorkedWith  \n",
       "0                          [ASP.NET, ASP.NET Core]  [.NET, .NET Core]  \n",
       "1                                               []     [React Native]  \n",
       "2                                               []                 []  \n",
       "3                                               []                 []  \n",
       "4                                  [Ruby on Rails]          [Ansible]  \n",
       "...                                            ...                ...  \n",
       "64456                                           []                 []  \n",
       "64457                                           []                 []  \n",
       "64458                                           []                 []  \n",
       "64459                                           []                 []  \n",
       "64460  [Angular, Angular.js, ASP.NET Core, jQuery]  [.NET, .NET Core]  \n",
       "\n",
       "[64461 rows x 5 columns]"
      ],
      "text/html": [
       "<div>\n",
       "<style scoped>\n",
       "    .dataframe tbody tr th:only-of-type {\n",
       "        vertical-align: middle;\n",
       "    }\n",
       "\n",
       "    .dataframe tbody tr th {\n",
       "        vertical-align: top;\n",
       "    }\n",
       "\n",
       "    .dataframe thead th {\n",
       "        text-align: right;\n",
       "    }\n",
       "</style>\n",
       "<table border=\"1\" class=\"dataframe\">\n",
       "  <thead>\n",
       "    <tr style=\"text-align: right;\">\n",
       "      <th></th>\n",
       "      <th>LanguageWorkedWith</th>\n",
       "      <th>DatabaseWorkedWith</th>\n",
       "      <th>PlatformWorkedWith</th>\n",
       "      <th>WebframeWorkedWith</th>\n",
       "      <th>MiscTechWorkedWith</th>\n",
       "    </tr>\n",
       "  </thead>\n",
       "  <tbody>\n",
       "    <tr>\n",
       "      <th>0</th>\n",
       "      <td>[C#, HTML/CSS, JavaScript]</td>\n",
       "      <td>[Elasticsearch, Microsoft SQL Server, Oracle]</td>\n",
       "      <td>[Windows]</td>\n",
       "      <td>[ASP.NET, ASP.NET Core]</td>\n",
       "      <td>[.NET, .NET Core]</td>\n",
       "    </tr>\n",
       "    <tr>\n",
       "      <th>1</th>\n",
       "      <td>[JavaScript, Swift]</td>\n",
       "      <td>[]</td>\n",
       "      <td>[iOS]</td>\n",
       "      <td>[]</td>\n",
       "      <td>[React Native]</td>\n",
       "    </tr>\n",
       "    <tr>\n",
       "      <th>2</th>\n",
       "      <td>[Objective-C, Python, Swift]</td>\n",
       "      <td>[]</td>\n",
       "      <td>[]</td>\n",
       "      <td>[]</td>\n",
       "      <td>[]</td>\n",
       "    </tr>\n",
       "    <tr>\n",
       "      <th>3</th>\n",
       "      <td>[]</td>\n",
       "      <td>[]</td>\n",
       "      <td>[]</td>\n",
       "      <td>[]</td>\n",
       "      <td>[]</td>\n",
       "    </tr>\n",
       "    <tr>\n",
       "      <th>4</th>\n",
       "      <td>[HTML/CSS, Ruby, SQL]</td>\n",
       "      <td>[MySQL, PostgreSQL, Redis, SQLite]</td>\n",
       "      <td>[AWS, Docker, Linux, MacOS, Windows]</td>\n",
       "      <td>[Ruby on Rails]</td>\n",
       "      <td>[Ansible]</td>\n",
       "    </tr>\n",
       "    <tr>\n",
       "      <th>...</th>\n",
       "      <td>...</td>\n",
       "      <td>...</td>\n",
       "      <td>...</td>\n",
       "      <td>...</td>\n",
       "      <td>...</td>\n",
       "    </tr>\n",
       "    <tr>\n",
       "      <th>64456</th>\n",
       "      <td>[]</td>\n",
       "      <td>[]</td>\n",
       "      <td>[]</td>\n",
       "      <td>[]</td>\n",
       "      <td>[]</td>\n",
       "    </tr>\n",
       "    <tr>\n",
       "      <th>64457</th>\n",
       "      <td>[Assembly, Bash/Shell/PowerShell, C, C#, C++, ...</td>\n",
       "      <td>[Cassandra, Couchbase, DynamoDB, Elasticsearch...</td>\n",
       "      <td>[]</td>\n",
       "      <td>[]</td>\n",
       "      <td>[]</td>\n",
       "    </tr>\n",
       "    <tr>\n",
       "      <th>64458</th>\n",
       "      <td>[]</td>\n",
       "      <td>[]</td>\n",
       "      <td>[]</td>\n",
       "      <td>[]</td>\n",
       "      <td>[]</td>\n",
       "    </tr>\n",
       "    <tr>\n",
       "      <th>64459</th>\n",
       "      <td>[HTML/CSS]</td>\n",
       "      <td>[Oracle]</td>\n",
       "      <td>[Linux, Windows]</td>\n",
       "      <td>[]</td>\n",
       "      <td>[]</td>\n",
       "    </tr>\n",
       "    <tr>\n",
       "      <th>64460</th>\n",
       "      <td>[C#, HTML/CSS, Java, JavaScript, SQL]</td>\n",
       "      <td>[MariaDB, Microsoft SQL Server, MySQL, Oracle]</td>\n",
       "      <td>[Android, Arduino, Linux, Raspberry Pi, Windows]</td>\n",
       "      <td>[Angular, Angular.js, ASP.NET Core, jQuery]</td>\n",
       "      <td>[.NET, .NET Core]</td>\n",
       "    </tr>\n",
       "  </tbody>\n",
       "</table>\n",
       "<p>64461 rows × 5 columns</p>\n",
       "</div>"
      ]
     },
     "execution_count": 24,
     "metadata": {},
     "output_type": "execute_result"
    }
   ],
   "execution_count": 24
  },
  {
   "metadata": {
    "ExecuteTime": {
     "end_time": "2024-10-24T15:04:56.205882Z",
     "start_time": "2024-10-24T15:04:56.193551Z"
    }
   },
   "cell_type": "code",
   "source": "splitted_df.sample().iloc[0]",
   "id": "6f24e9205442991d",
   "outputs": [
    {
     "data": {
      "text/plain": [
       "LanguageWorkedWith    [C#, HTML/CSS, Java, JavaScript, PHP, SQL]\n",
       "DatabaseWorkedWith                              [MariaDB, MySQL]\n",
       "PlatformWorkedWith                      [Docker, Linux, Windows]\n",
       "WebframeWorkedWith                             [jQuery, Symfony]\n",
       "MiscTechWorkedWith                                    [Unity 3D]\n",
       "Name: 34017, dtype: object"
      ]
     },
     "execution_count": 25,
     "metadata": {},
     "output_type": "execute_result"
    }
   ],
   "execution_count": 25
  },
  {
   "metadata": {
    "ExecuteTime": {
     "end_time": "2024-10-24T15:05:00.837714Z",
     "start_time": "2024-10-24T15:05:00.820937Z"
    }
   },
   "cell_type": "code",
   "source": [
    "for feat in SKILLS_FEATS:\n",
    "    data[feat] = splitted_df[feat]\n",
    "    \n",
    "data.sample().iloc[0]"
   ],
   "id": "8e3a78d62d492b66",
   "outputs": [
    {
     "data": {
      "text/plain": [
       "Respondent                                              40495\n",
       "MainBranch                     I am a developer by profession\n",
       "Hobbyist                                                  Yes\n",
       "Age                                                      28.0\n",
       "Age1stCode                                                 19\n",
       "                                       ...                   \n",
       "WebframeWorkedWith                                         []\n",
       "WelcomeChange         Just as welcome now as I felt last year\n",
       "WorkWeekHrs                                              42.0\n",
       "YearsCode                                                  10\n",
       "YearsCodePro                                                6\n",
       "Name: 39946, Length: 61, dtype: object"
      ]
     },
     "execution_count": 26,
     "metadata": {},
     "output_type": "execute_result"
    }
   ],
   "execution_count": 26
  },
  {
   "metadata": {},
   "cell_type": "markdown",
   "source": "# DevType",
   "id": "e977f553468a5935"
  },
  {
   "metadata": {
    "ExecuteTime": {
     "end_time": "2024-10-24T15:05:11.375298Z",
     "start_time": "2024-10-24T15:05:11.355379Z"
    }
   },
   "cell_type": "code",
   "source": "data['DevType'].unique()",
   "id": "8613e916129b2bba",
   "outputs": [
    {
     "data": {
      "text/plain": [
       "array(['Developer, desktop or enterprise applications;Developer, full-stack',\n",
       "       'Developer, full-stack;Developer, mobile', nan, ...,\n",
       "       'Data scientist or machine learning specialist;Database administrator;Developer, back-end;Developer, front-end;System administrator',\n",
       "       'Academic researcher;Data or business analyst;Data scientist or machine learning specialist;Database administrator;Designer;Developer, back-end;Developer, desktop or enterprise applications;Developer, embedded applications or devices;Developer, front-end;Developer, full-stack;Developer, game or graphics;Developer, mobile;Developer, QA or test;DevOps specialist;Senior executive/VP;System administrator',\n",
       "       'Data or business analyst;Developer, mobile;Senior executive/VP;System administrator'],\n",
       "      dtype=object)"
      ]
     },
     "execution_count": 27,
     "metadata": {},
     "output_type": "execute_result"
    }
   ],
   "execution_count": 27
  },
  {
   "metadata": {
    "ExecuteTime": {
     "end_time": "2024-10-24T15:05:54.016575Z",
     "start_time": "2024-10-24T15:05:53.953362Z"
    }
   },
   "cell_type": "code",
   "source": [
    "def split_answer(pd_series, delimiter): \n",
    "    \"\"\"Function to split single answer\"\"\"\n",
    "    return pd_series.str.split(delimiter)\n",
    "\n",
    "splitted_df = pd.DataFrame()\n",
    "\n",
    "\n",
    "modified_series = split_answer(data['DevType'], delimiter=\";\")\n",
    "mask_null = modified_series.isnull()\n",
    "modified_series.loc[mask_null] = modified_series[mask_null].apply(lambda x: [])\n",
    "\n",
    "splitted_df = pd.concat([splitted_df, modified_series], axis=1)\n",
    "# data[SKILLS_FEATS].sample().iloc[0]\n",
    "splitted_df"
   ],
   "id": "2fea3165c3ed01f7",
   "outputs": [
    {
     "data": {
      "text/plain": [
       "                                                 DevType\n",
       "0      [Developer, desktop or enterprise applications...\n",
       "1             [Developer, full-stack, Developer, mobile]\n",
       "2                                                     []\n",
       "3                                                     []\n",
       "4                                                     []\n",
       "...                                                  ...\n",
       "64456                              [Senior executive/VP]\n",
       "64457                                                 []\n",
       "64458                                                 []\n",
       "64459                                                 []\n",
       "64460                                                 []\n",
       "\n",
       "[64461 rows x 1 columns]"
      ],
      "text/html": [
       "<div>\n",
       "<style scoped>\n",
       "    .dataframe tbody tr th:only-of-type {\n",
       "        vertical-align: middle;\n",
       "    }\n",
       "\n",
       "    .dataframe tbody tr th {\n",
       "        vertical-align: top;\n",
       "    }\n",
       "\n",
       "    .dataframe thead th {\n",
       "        text-align: right;\n",
       "    }\n",
       "</style>\n",
       "<table border=\"1\" class=\"dataframe\">\n",
       "  <thead>\n",
       "    <tr style=\"text-align: right;\">\n",
       "      <th></th>\n",
       "      <th>DevType</th>\n",
       "    </tr>\n",
       "  </thead>\n",
       "  <tbody>\n",
       "    <tr>\n",
       "      <th>0</th>\n",
       "      <td>[Developer, desktop or enterprise applications...</td>\n",
       "    </tr>\n",
       "    <tr>\n",
       "      <th>1</th>\n",
       "      <td>[Developer, full-stack, Developer, mobile]</td>\n",
       "    </tr>\n",
       "    <tr>\n",
       "      <th>2</th>\n",
       "      <td>[]</td>\n",
       "    </tr>\n",
       "    <tr>\n",
       "      <th>3</th>\n",
       "      <td>[]</td>\n",
       "    </tr>\n",
       "    <tr>\n",
       "      <th>4</th>\n",
       "      <td>[]</td>\n",
       "    </tr>\n",
       "    <tr>\n",
       "      <th>...</th>\n",
       "      <td>...</td>\n",
       "    </tr>\n",
       "    <tr>\n",
       "      <th>64456</th>\n",
       "      <td>[Senior executive/VP]</td>\n",
       "    </tr>\n",
       "    <tr>\n",
       "      <th>64457</th>\n",
       "      <td>[]</td>\n",
       "    </tr>\n",
       "    <tr>\n",
       "      <th>64458</th>\n",
       "      <td>[]</td>\n",
       "    </tr>\n",
       "    <tr>\n",
       "      <th>64459</th>\n",
       "      <td>[]</td>\n",
       "    </tr>\n",
       "    <tr>\n",
       "      <th>64460</th>\n",
       "      <td>[]</td>\n",
       "    </tr>\n",
       "  </tbody>\n",
       "</table>\n",
       "<p>64461 rows × 1 columns</p>\n",
       "</div>"
      ]
     },
     "execution_count": 28,
     "metadata": {},
     "output_type": "execute_result"
    }
   ],
   "execution_count": 28
  },
  {
   "metadata": {
    "ExecuteTime": {
     "end_time": "2024-10-24T15:08:39.409736Z",
     "start_time": "2024-10-24T15:08:39.403447Z"
    }
   },
   "cell_type": "code",
   "source": "splitted_df.iloc[22654].values",
   "id": "daa878f5df669222",
   "outputs": [
    {
     "data": {
      "text/plain": [
       "array([list(['Developer, back-end', 'Developer, front-end', 'Developer, full-stack', 'Developer, mobile'])],\n",
       "      dtype=object)"
      ]
     },
     "execution_count": 40,
     "metadata": {},
     "output_type": "execute_result"
    }
   ],
   "execution_count": 40
  },
  {
   "metadata": {
    "ExecuteTime": {
     "end_time": "2024-10-24T15:09:17.312835Z",
     "start_time": "2024-10-24T15:09:17.304438Z"
    }
   },
   "cell_type": "code",
   "source": "data['DevType'] = splitted_df ",
   "id": "c375e152a617e274",
   "outputs": [],
   "execution_count": 41
  },
  {
   "metadata": {
    "ExecuteTime": {
     "end_time": "2024-10-24T15:09:56.623441Z",
     "start_time": "2024-10-24T15:09:56.614540Z"
    }
   },
   "cell_type": "code",
   "source": "data.sample().iloc[0]",
   "id": "2668455302655e5c",
   "outputs": [
    {
     "data": {
      "text/plain": [
       "Respondent                                     48898\n",
       "MainBranch            I am a developer by profession\n",
       "Hobbyist                                         Yes\n",
       "Age                                              NaN\n",
       "Age1stCode                                        16\n",
       "                                   ...              \n",
       "WebframeWorkedWith                  [jQuery, Spring]\n",
       "WelcomeChange                                    NaN\n",
       "WorkWeekHrs                                      9.0\n",
       "YearsCode                                         10\n",
       "YearsCodePro                                       2\n",
       "Name: 47896, Length: 61, dtype: object"
      ]
     },
     "execution_count": 44,
     "metadata": {},
     "output_type": "execute_result"
    }
   ],
   "execution_count": 44
  },
  {
   "metadata": {},
   "cell_type": "markdown",
   "source": "# Save data ",
   "id": "d43819a76c0586f9"
  },
  {
   "metadata": {
    "ExecuteTime": {
     "end_time": "2024-10-24T15:10:23.109847Z",
     "start_time": "2024-10-24T15:10:22.654787Z"
    }
   },
   "cell_type": "code",
   "source": "data.to_pickle(\"../data/processed/2020/survey_results_public_processed.pkl\")",
   "id": "90bc4f05dfafff34",
   "outputs": [],
   "execution_count": 45
  }
 ],
 "metadata": {
  "kernelspec": {
   "display_name": "Python 3",
   "language": "python",
   "name": "python3"
  },
  "language_info": {
   "codemirror_mode": {
    "name": "ipython",
    "version": 2
   },
   "file_extension": ".py",
   "mimetype": "text/x-python",
   "name": "python",
   "nbconvert_exporter": "python",
   "pygments_lexer": "ipython2",
   "version": "2.7.6"
  }
 },
 "nbformat": 4,
 "nbformat_minor": 5
}
