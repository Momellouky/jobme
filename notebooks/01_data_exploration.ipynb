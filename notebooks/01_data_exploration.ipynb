{
 "cells": [
  {
   "cell_type": "code",
   "id": "initial_id",
   "metadata": {
    "collapsed": true,
    "ExecuteTime": {
     "end_time": "2024-10-24T14:18:22.857422Z",
     "start_time": "2024-10-24T14:18:22.852139Z"
    }
   },
   "source": [
    "import numpy as np\n",
    "import pandas as pd\n",
    "import matplotlib.pyplot as plt"
   ],
   "outputs": [],
   "execution_count": 5
  },
  {
   "metadata": {},
   "cell_type": "markdown",
   "source": "# Load Data",
   "id": "21b8d9a5a2d2bc5d"
  },
  {
   "metadata": {
    "ExecuteTime": {
     "end_time": "2024-10-24T14:18:22.875860Z",
     "start_time": "2024-10-24T14:18:22.866780Z"
    }
   },
   "cell_type": "code",
   "source": [
    "RAW_DATA_PATH = \"../data/raw/survey_results_public.csv\"\n",
    "RAW_DATA_PATH_2020 = \"../data/raw/2020/survey_results_public.csv\""
   ],
   "id": "51b3368cb179900f",
   "outputs": [],
   "execution_count": 6
  },
  {
   "metadata": {
    "ExecuteTime": {
     "end_time": "2024-10-24T14:18:24.243807Z",
     "start_time": "2024-10-24T14:18:22.886823Z"
    }
   },
   "cell_type": "code",
   "source": [
    "raw_df = pd.read_csv(RAW_DATA_PATH_2020)\n",
    "raw_df"
   ],
   "id": "4cbe297f370b74d2",
   "outputs": [
    {
     "data": {
      "text/plain": [
       "       Respondent                                         MainBranch Hobbyist  \\\n",
       "0               1                     I am a developer by profession      Yes   \n",
       "1               2                     I am a developer by profession       No   \n",
       "2               3                        I code primarily as a hobby      Yes   \n",
       "3               4                     I am a developer by profession      Yes   \n",
       "4               5  I used to be a developer by profession, but no...      Yes   \n",
       "...           ...                                                ...      ...   \n",
       "64456       64858                                                NaN      Yes   \n",
       "64457       64867                                                NaN      Yes   \n",
       "64458       64898                                                NaN      Yes   \n",
       "64459       64925                                                NaN      Yes   \n",
       "64460       65112                                                NaN      Yes   \n",
       "\n",
       "        Age Age1stCode CompFreq  CompTotal  ConvertedComp             Country  \\\n",
       "0       NaN         13  Monthly        NaN            NaN             Germany   \n",
       "1       NaN         19      NaN        NaN            NaN      United Kingdom   \n",
       "2       NaN         15      NaN        NaN            NaN  Russian Federation   \n",
       "3      25.0         18      NaN        NaN            NaN             Albania   \n",
       "4      31.0         16      NaN        NaN            NaN       United States   \n",
       "...     ...        ...      ...        ...            ...                 ...   \n",
       "64456   NaN         16      NaN        NaN            NaN       United States   \n",
       "64457   NaN        NaN      NaN        NaN            NaN             Morocco   \n",
       "64458   NaN        NaN      NaN        NaN            NaN            Viet Nam   \n",
       "64459   NaN        NaN      NaN        NaN            NaN              Poland   \n",
       "64460   NaN        NaN      NaN        NaN            NaN               Spain   \n",
       "\n",
       "         CurrencyDesc  ...                  SurveyEase           SurveyLength  \\\n",
       "0       European Euro  ...  Neither easy nor difficult  Appropriate in length   \n",
       "1      Pound sterling  ...                         NaN                    NaN   \n",
       "2                 NaN  ...  Neither easy nor difficult  Appropriate in length   \n",
       "3        Albanian lek  ...                         NaN                    NaN   \n",
       "4                 NaN  ...                        Easy              Too short   \n",
       "...               ...  ...                         ...                    ...   \n",
       "64456             NaN  ...                         NaN                    NaN   \n",
       "64457             NaN  ...                         NaN                    NaN   \n",
       "64458             NaN  ...                         NaN                    NaN   \n",
       "64459             NaN  ...                         NaN                    NaN   \n",
       "64460             NaN  ...                         NaN                    NaN   \n",
       "\n",
       "      Trans                                     UndergradMajor  \\\n",
       "0        No  Computer science, computer engineering, or sof...   \n",
       "1       NaN  Computer science, computer engineering, or sof...   \n",
       "2       NaN                                                NaN   \n",
       "3        No  Computer science, computer engineering, or sof...   \n",
       "4        No  Computer science, computer engineering, or sof...   \n",
       "...     ...                                                ...   \n",
       "64456   NaN  Computer science, computer engineering, or sof...   \n",
       "64457   NaN                                                NaN   \n",
       "64458   NaN                                                NaN   \n",
       "64459   NaN                                                NaN   \n",
       "64460   NaN  Computer science, computer engineering, or sof...   \n",
       "\n",
       "            WebframeDesireNextYear                      WebframeWorkedWith  \\\n",
       "0                     ASP.NET Core                    ASP.NET;ASP.NET Core   \n",
       "1                              NaN                                     NaN   \n",
       "2                              NaN                                     NaN   \n",
       "3                              NaN                                     NaN   \n",
       "4             Django;Ruby on Rails                           Ruby on Rails   \n",
       "...                            ...                                     ...   \n",
       "64456                          NaN                                     NaN   \n",
       "64457                          NaN                                     NaN   \n",
       "64458                          NaN                                     NaN   \n",
       "64459  Angular;Angular.js;React.js                                     NaN   \n",
       "64460          ASP.NET Core;jQuery  Angular;Angular.js;ASP.NET Core;jQuery   \n",
       "\n",
       "                                  WelcomeChange WorkWeekHrs YearsCode  \\\n",
       "0       Just as welcome now as I felt last year        50.0        36   \n",
       "1      Somewhat more welcome now than last year         NaN         7   \n",
       "2      Somewhat more welcome now than last year         NaN         4   \n",
       "3      Somewhat less welcome now than last year        40.0         7   \n",
       "4       Just as welcome now as I felt last year         NaN        15   \n",
       "...                                         ...         ...       ...   \n",
       "64456                                       NaN         NaN        10   \n",
       "64457                                       NaN         NaN       NaN   \n",
       "64458                                       NaN         NaN       NaN   \n",
       "64459                                       NaN         NaN       NaN   \n",
       "64460                                       NaN         NaN       NaN   \n",
       "\n",
       "           YearsCodePro  \n",
       "0                    27  \n",
       "1                     4  \n",
       "2                   NaN  \n",
       "3                     4  \n",
       "4                     8  \n",
       "...                 ...  \n",
       "64456  Less than 1 year  \n",
       "64457               NaN  \n",
       "64458               NaN  \n",
       "64459               NaN  \n",
       "64460               NaN  \n",
       "\n",
       "[64461 rows x 61 columns]"
      ],
      "text/html": [
       "<div>\n",
       "<style scoped>\n",
       "    .dataframe tbody tr th:only-of-type {\n",
       "        vertical-align: middle;\n",
       "    }\n",
       "\n",
       "    .dataframe tbody tr th {\n",
       "        vertical-align: top;\n",
       "    }\n",
       "\n",
       "    .dataframe thead th {\n",
       "        text-align: right;\n",
       "    }\n",
       "</style>\n",
       "<table border=\"1\" class=\"dataframe\">\n",
       "  <thead>\n",
       "    <tr style=\"text-align: right;\">\n",
       "      <th></th>\n",
       "      <th>Respondent</th>\n",
       "      <th>MainBranch</th>\n",
       "      <th>Hobbyist</th>\n",
       "      <th>Age</th>\n",
       "      <th>Age1stCode</th>\n",
       "      <th>CompFreq</th>\n",
       "      <th>CompTotal</th>\n",
       "      <th>ConvertedComp</th>\n",
       "      <th>Country</th>\n",
       "      <th>CurrencyDesc</th>\n",
       "      <th>...</th>\n",
       "      <th>SurveyEase</th>\n",
       "      <th>SurveyLength</th>\n",
       "      <th>Trans</th>\n",
       "      <th>UndergradMajor</th>\n",
       "      <th>WebframeDesireNextYear</th>\n",
       "      <th>WebframeWorkedWith</th>\n",
       "      <th>WelcomeChange</th>\n",
       "      <th>WorkWeekHrs</th>\n",
       "      <th>YearsCode</th>\n",
       "      <th>YearsCodePro</th>\n",
       "    </tr>\n",
       "  </thead>\n",
       "  <tbody>\n",
       "    <tr>\n",
       "      <th>0</th>\n",
       "      <td>1</td>\n",
       "      <td>I am a developer by profession</td>\n",
       "      <td>Yes</td>\n",
       "      <td>NaN</td>\n",
       "      <td>13</td>\n",
       "      <td>Monthly</td>\n",
       "      <td>NaN</td>\n",
       "      <td>NaN</td>\n",
       "      <td>Germany</td>\n",
       "      <td>European Euro</td>\n",
       "      <td>...</td>\n",
       "      <td>Neither easy nor difficult</td>\n",
       "      <td>Appropriate in length</td>\n",
       "      <td>No</td>\n",
       "      <td>Computer science, computer engineering, or sof...</td>\n",
       "      <td>ASP.NET Core</td>\n",
       "      <td>ASP.NET;ASP.NET Core</td>\n",
       "      <td>Just as welcome now as I felt last year</td>\n",
       "      <td>50.0</td>\n",
       "      <td>36</td>\n",
       "      <td>27</td>\n",
       "    </tr>\n",
       "    <tr>\n",
       "      <th>1</th>\n",
       "      <td>2</td>\n",
       "      <td>I am a developer by profession</td>\n",
       "      <td>No</td>\n",
       "      <td>NaN</td>\n",
       "      <td>19</td>\n",
       "      <td>NaN</td>\n",
       "      <td>NaN</td>\n",
       "      <td>NaN</td>\n",
       "      <td>United Kingdom</td>\n",
       "      <td>Pound sterling</td>\n",
       "      <td>...</td>\n",
       "      <td>NaN</td>\n",
       "      <td>NaN</td>\n",
       "      <td>NaN</td>\n",
       "      <td>Computer science, computer engineering, or sof...</td>\n",
       "      <td>NaN</td>\n",
       "      <td>NaN</td>\n",
       "      <td>Somewhat more welcome now than last year</td>\n",
       "      <td>NaN</td>\n",
       "      <td>7</td>\n",
       "      <td>4</td>\n",
       "    </tr>\n",
       "    <tr>\n",
       "      <th>2</th>\n",
       "      <td>3</td>\n",
       "      <td>I code primarily as a hobby</td>\n",
       "      <td>Yes</td>\n",
       "      <td>NaN</td>\n",
       "      <td>15</td>\n",
       "      <td>NaN</td>\n",
       "      <td>NaN</td>\n",
       "      <td>NaN</td>\n",
       "      <td>Russian Federation</td>\n",
       "      <td>NaN</td>\n",
       "      <td>...</td>\n",
       "      <td>Neither easy nor difficult</td>\n",
       "      <td>Appropriate in length</td>\n",
       "      <td>NaN</td>\n",
       "      <td>NaN</td>\n",
       "      <td>NaN</td>\n",
       "      <td>NaN</td>\n",
       "      <td>Somewhat more welcome now than last year</td>\n",
       "      <td>NaN</td>\n",
       "      <td>4</td>\n",
       "      <td>NaN</td>\n",
       "    </tr>\n",
       "    <tr>\n",
       "      <th>3</th>\n",
       "      <td>4</td>\n",
       "      <td>I am a developer by profession</td>\n",
       "      <td>Yes</td>\n",
       "      <td>25.0</td>\n",
       "      <td>18</td>\n",
       "      <td>NaN</td>\n",
       "      <td>NaN</td>\n",
       "      <td>NaN</td>\n",
       "      <td>Albania</td>\n",
       "      <td>Albanian lek</td>\n",
       "      <td>...</td>\n",
       "      <td>NaN</td>\n",
       "      <td>NaN</td>\n",
       "      <td>No</td>\n",
       "      <td>Computer science, computer engineering, or sof...</td>\n",
       "      <td>NaN</td>\n",
       "      <td>NaN</td>\n",
       "      <td>Somewhat less welcome now than last year</td>\n",
       "      <td>40.0</td>\n",
       "      <td>7</td>\n",
       "      <td>4</td>\n",
       "    </tr>\n",
       "    <tr>\n",
       "      <th>4</th>\n",
       "      <td>5</td>\n",
       "      <td>I used to be a developer by profession, but no...</td>\n",
       "      <td>Yes</td>\n",
       "      <td>31.0</td>\n",
       "      <td>16</td>\n",
       "      <td>NaN</td>\n",
       "      <td>NaN</td>\n",
       "      <td>NaN</td>\n",
       "      <td>United States</td>\n",
       "      <td>NaN</td>\n",
       "      <td>...</td>\n",
       "      <td>Easy</td>\n",
       "      <td>Too short</td>\n",
       "      <td>No</td>\n",
       "      <td>Computer science, computer engineering, or sof...</td>\n",
       "      <td>Django;Ruby on Rails</td>\n",
       "      <td>Ruby on Rails</td>\n",
       "      <td>Just as welcome now as I felt last year</td>\n",
       "      <td>NaN</td>\n",
       "      <td>15</td>\n",
       "      <td>8</td>\n",
       "    </tr>\n",
       "    <tr>\n",
       "      <th>...</th>\n",
       "      <td>...</td>\n",
       "      <td>...</td>\n",
       "      <td>...</td>\n",
       "      <td>...</td>\n",
       "      <td>...</td>\n",
       "      <td>...</td>\n",
       "      <td>...</td>\n",
       "      <td>...</td>\n",
       "      <td>...</td>\n",
       "      <td>...</td>\n",
       "      <td>...</td>\n",
       "      <td>...</td>\n",
       "      <td>...</td>\n",
       "      <td>...</td>\n",
       "      <td>...</td>\n",
       "      <td>...</td>\n",
       "      <td>...</td>\n",
       "      <td>...</td>\n",
       "      <td>...</td>\n",
       "      <td>...</td>\n",
       "      <td>...</td>\n",
       "    </tr>\n",
       "    <tr>\n",
       "      <th>64456</th>\n",
       "      <td>64858</td>\n",
       "      <td>NaN</td>\n",
       "      <td>Yes</td>\n",
       "      <td>NaN</td>\n",
       "      <td>16</td>\n",
       "      <td>NaN</td>\n",
       "      <td>NaN</td>\n",
       "      <td>NaN</td>\n",
       "      <td>United States</td>\n",
       "      <td>NaN</td>\n",
       "      <td>...</td>\n",
       "      <td>NaN</td>\n",
       "      <td>NaN</td>\n",
       "      <td>NaN</td>\n",
       "      <td>Computer science, computer engineering, or sof...</td>\n",
       "      <td>NaN</td>\n",
       "      <td>NaN</td>\n",
       "      <td>NaN</td>\n",
       "      <td>NaN</td>\n",
       "      <td>10</td>\n",
       "      <td>Less than 1 year</td>\n",
       "    </tr>\n",
       "    <tr>\n",
       "      <th>64457</th>\n",
       "      <td>64867</td>\n",
       "      <td>NaN</td>\n",
       "      <td>Yes</td>\n",
       "      <td>NaN</td>\n",
       "      <td>NaN</td>\n",
       "      <td>NaN</td>\n",
       "      <td>NaN</td>\n",
       "      <td>NaN</td>\n",
       "      <td>Morocco</td>\n",
       "      <td>NaN</td>\n",
       "      <td>...</td>\n",
       "      <td>NaN</td>\n",
       "      <td>NaN</td>\n",
       "      <td>NaN</td>\n",
       "      <td>NaN</td>\n",
       "      <td>NaN</td>\n",
       "      <td>NaN</td>\n",
       "      <td>NaN</td>\n",
       "      <td>NaN</td>\n",
       "      <td>NaN</td>\n",
       "      <td>NaN</td>\n",
       "    </tr>\n",
       "    <tr>\n",
       "      <th>64458</th>\n",
       "      <td>64898</td>\n",
       "      <td>NaN</td>\n",
       "      <td>Yes</td>\n",
       "      <td>NaN</td>\n",
       "      <td>NaN</td>\n",
       "      <td>NaN</td>\n",
       "      <td>NaN</td>\n",
       "      <td>NaN</td>\n",
       "      <td>Viet Nam</td>\n",
       "      <td>NaN</td>\n",
       "      <td>...</td>\n",
       "      <td>NaN</td>\n",
       "      <td>NaN</td>\n",
       "      <td>NaN</td>\n",
       "      <td>NaN</td>\n",
       "      <td>NaN</td>\n",
       "      <td>NaN</td>\n",
       "      <td>NaN</td>\n",
       "      <td>NaN</td>\n",
       "      <td>NaN</td>\n",
       "      <td>NaN</td>\n",
       "    </tr>\n",
       "    <tr>\n",
       "      <th>64459</th>\n",
       "      <td>64925</td>\n",
       "      <td>NaN</td>\n",
       "      <td>Yes</td>\n",
       "      <td>NaN</td>\n",
       "      <td>NaN</td>\n",
       "      <td>NaN</td>\n",
       "      <td>NaN</td>\n",
       "      <td>NaN</td>\n",
       "      <td>Poland</td>\n",
       "      <td>NaN</td>\n",
       "      <td>...</td>\n",
       "      <td>NaN</td>\n",
       "      <td>NaN</td>\n",
       "      <td>NaN</td>\n",
       "      <td>NaN</td>\n",
       "      <td>Angular;Angular.js;React.js</td>\n",
       "      <td>NaN</td>\n",
       "      <td>NaN</td>\n",
       "      <td>NaN</td>\n",
       "      <td>NaN</td>\n",
       "      <td>NaN</td>\n",
       "    </tr>\n",
       "    <tr>\n",
       "      <th>64460</th>\n",
       "      <td>65112</td>\n",
       "      <td>NaN</td>\n",
       "      <td>Yes</td>\n",
       "      <td>NaN</td>\n",
       "      <td>NaN</td>\n",
       "      <td>NaN</td>\n",
       "      <td>NaN</td>\n",
       "      <td>NaN</td>\n",
       "      <td>Spain</td>\n",
       "      <td>NaN</td>\n",
       "      <td>...</td>\n",
       "      <td>NaN</td>\n",
       "      <td>NaN</td>\n",
       "      <td>NaN</td>\n",
       "      <td>Computer science, computer engineering, or sof...</td>\n",
       "      <td>ASP.NET Core;jQuery</td>\n",
       "      <td>Angular;Angular.js;ASP.NET Core;jQuery</td>\n",
       "      <td>NaN</td>\n",
       "      <td>NaN</td>\n",
       "      <td>NaN</td>\n",
       "      <td>NaN</td>\n",
       "    </tr>\n",
       "  </tbody>\n",
       "</table>\n",
       "<p>64461 rows × 61 columns</p>\n",
       "</div>"
      ]
     },
     "execution_count": 7,
     "metadata": {},
     "output_type": "execute_result"
    }
   ],
   "execution_count": 7
  },
  {
   "metadata": {
    "ExecuteTime": {
     "end_time": "2024-10-24T14:18:24.422280Z",
     "start_time": "2024-10-24T14:18:24.407962Z"
    }
   },
   "cell_type": "code",
   "source": [
    "# Get the data from a random Respondent\n",
    "\n",
    "raw_df.sample(1).T"
   ],
   "id": "c2f34e018b85977d",
   "outputs": [
    {
     "data": {
      "text/plain": [
       "                                                       4623\n",
       "Respondent                                             4639\n",
       "MainBranch           I am a student who is learning to code\n",
       "Hobbyist                                                Yes\n",
       "Age                                                    18.0\n",
       "Age1stCode                                               12\n",
       "...                                                     ...\n",
       "WebframeWorkedWith                                      NaN\n",
       "WelcomeChange       Just as welcome now as I felt last year\n",
       "WorkWeekHrs                                             NaN\n",
       "YearsCode                                                 6\n",
       "YearsCodePro                                            NaN\n",
       "\n",
       "[61 rows x 1 columns]"
      ],
      "text/html": [
       "<div>\n",
       "<style scoped>\n",
       "    .dataframe tbody tr th:only-of-type {\n",
       "        vertical-align: middle;\n",
       "    }\n",
       "\n",
       "    .dataframe tbody tr th {\n",
       "        vertical-align: top;\n",
       "    }\n",
       "\n",
       "    .dataframe thead th {\n",
       "        text-align: right;\n",
       "    }\n",
       "</style>\n",
       "<table border=\"1\" class=\"dataframe\">\n",
       "  <thead>\n",
       "    <tr style=\"text-align: right;\">\n",
       "      <th></th>\n",
       "      <th>4623</th>\n",
       "    </tr>\n",
       "  </thead>\n",
       "  <tbody>\n",
       "    <tr>\n",
       "      <th>Respondent</th>\n",
       "      <td>4639</td>\n",
       "    </tr>\n",
       "    <tr>\n",
       "      <th>MainBranch</th>\n",
       "      <td>I am a student who is learning to code</td>\n",
       "    </tr>\n",
       "    <tr>\n",
       "      <th>Hobbyist</th>\n",
       "      <td>Yes</td>\n",
       "    </tr>\n",
       "    <tr>\n",
       "      <th>Age</th>\n",
       "      <td>18.0</td>\n",
       "    </tr>\n",
       "    <tr>\n",
       "      <th>Age1stCode</th>\n",
       "      <td>12</td>\n",
       "    </tr>\n",
       "    <tr>\n",
       "      <th>...</th>\n",
       "      <td>...</td>\n",
       "    </tr>\n",
       "    <tr>\n",
       "      <th>WebframeWorkedWith</th>\n",
       "      <td>NaN</td>\n",
       "    </tr>\n",
       "    <tr>\n",
       "      <th>WelcomeChange</th>\n",
       "      <td>Just as welcome now as I felt last year</td>\n",
       "    </tr>\n",
       "    <tr>\n",
       "      <th>WorkWeekHrs</th>\n",
       "      <td>NaN</td>\n",
       "    </tr>\n",
       "    <tr>\n",
       "      <th>YearsCode</th>\n",
       "      <td>6</td>\n",
       "    </tr>\n",
       "    <tr>\n",
       "      <th>YearsCodePro</th>\n",
       "      <td>NaN</td>\n",
       "    </tr>\n",
       "  </tbody>\n",
       "</table>\n",
       "<p>61 rows × 1 columns</p>\n",
       "</div>"
      ]
     },
     "execution_count": 8,
     "metadata": {},
     "output_type": "execute_result"
    }
   ],
   "execution_count": 8
  },
  {
   "metadata": {
    "ExecuteTime": {
     "end_time": "2024-10-24T14:18:24.507336Z",
     "start_time": "2024-10-24T14:18:24.500685Z"
    }
   },
   "cell_type": "code",
   "source": "raw_df.shape",
   "id": "8a3b6f97a2e65578",
   "outputs": [
    {
     "data": {
      "text/plain": [
       "(64461, 61)"
      ]
     },
     "execution_count": 9,
     "metadata": {},
     "output_type": "execute_result"
    }
   ],
   "execution_count": 9
  },
  {
   "metadata": {
    "ExecuteTime": {
     "end_time": "2024-10-24T14:18:48.553627Z",
     "start_time": "2024-10-24T14:18:48.403531Z"
    }
   },
   "cell_type": "code",
   "source": "raw_df.info() \n",
   "id": "eb4c078a5bac3ad5",
   "outputs": [
    {
     "name": "stdout",
     "output_type": "stream",
     "text": [
      "<class 'pandas.core.frame.DataFrame'>\n",
      "RangeIndex: 64461 entries, 0 to 64460\n",
      "Data columns (total 61 columns):\n",
      " #   Column                        Non-Null Count  Dtype  \n",
      "---  ------                        --------------  -----  \n",
      " 0   Respondent                    64461 non-null  int64  \n",
      " 1   MainBranch                    64162 non-null  object \n",
      " 2   Hobbyist                      64416 non-null  object \n",
      " 3   Age                           45446 non-null  float64\n",
      " 4   Age1stCode                    57900 non-null  object \n",
      " 5   CompFreq                      40069 non-null  object \n",
      " 6   CompTotal                     34826 non-null  float64\n",
      " 7   ConvertedComp                 34756 non-null  float64\n",
      " 8   Country                       64072 non-null  object \n",
      " 9   CurrencyDesc                  45472 non-null  object \n",
      " 10  CurrencySymbol                45472 non-null  object \n",
      " 11  DatabaseDesireNextYear        44070 non-null  object \n",
      " 12  DatabaseWorkedWith            49537 non-null  object \n",
      " 13  DevType                       49370 non-null  object \n",
      " 14  EdLevel                       57431 non-null  object \n",
      " 15  Employment                    63854 non-null  object \n",
      " 16  Ethnicity                     45948 non-null  object \n",
      " 17  Gender                        50557 non-null  object \n",
      " 18  JobFactors                    49349 non-null  object \n",
      " 19  JobSat                        45194 non-null  object \n",
      " 20  JobSeek                       51727 non-null  object \n",
      " 21  LanguageDesireNextYear        54113 non-null  object \n",
      " 22  LanguageWorkedWith            57378 non-null  object \n",
      " 23  MiscTechDesireNextYear        42379 non-null  object \n",
      " 24  MiscTechWorkedWith            40314 non-null  object \n",
      " 25  NEWCollabToolsDesireNextYear  47287 non-null  object \n",
      " 26  NEWCollabToolsWorkedWith      52883 non-null  object \n",
      " 27  NEWDevOps                     42686 non-null  object \n",
      " 28  NEWDevOpsImpt                 41732 non-null  object \n",
      " 29  NEWEdImpt                     48465 non-null  object \n",
      " 30  NEWJobHunt                    42286 non-null  object \n",
      " 31  NEWJobHuntResearch            41022 non-null  object \n",
      " 32  NEWLearn                      56156 non-null  object \n",
      " 33  NEWOffTopic                   50804 non-null  object \n",
      " 34  NEWOnboardGood                42623 non-null  object \n",
      " 35  NEWOtherComms                 57205 non-null  object \n",
      " 36  NEWOvertime                   43231 non-null  object \n",
      " 37  NEWPurchaseResearch           37321 non-null  object \n",
      " 38  NEWPurpleLink                 54803 non-null  object \n",
      " 39  NEWSOSites                    58275 non-null  object \n",
      " 40  NEWStuck                      54983 non-null  object \n",
      " 41  OpSys                         56228 non-null  object \n",
      " 42  OrgSize                       44334 non-null  object \n",
      " 43  PlatformDesireNextYear        50605 non-null  object \n",
      " 44  PlatformWorkedWith            53843 non-null  object \n",
      " 45  PurchaseWhat                  39364 non-null  object \n",
      " 46  Sexuality                     43992 non-null  object \n",
      " 47  SOAccount                     56805 non-null  object \n",
      " 48  SOComm                        56476 non-null  object \n",
      " 49  SOPartFreq                    46792 non-null  object \n",
      " 50  SOVisitFreq                   56970 non-null  object \n",
      " 51  SurveyEase                    51802 non-null  object \n",
      " 52  SurveyLength                  51701 non-null  object \n",
      " 53  Trans                         49345 non-null  object \n",
      " 54  UndergradMajor                50995 non-null  object \n",
      " 55  WebframeDesireNextYear        40024 non-null  object \n",
      " 56  WebframeWorkedWith            42279 non-null  object \n",
      " 57  WelcomeChange                 52683 non-null  object \n",
      " 58  WorkWeekHrs                   41151 non-null  float64\n",
      " 59  YearsCode                     57684 non-null  object \n",
      " 60  YearsCodePro                  46349 non-null  object \n",
      "dtypes: float64(4), int64(1), object(56)\n",
      "memory usage: 30.0+ MB\n"
     ]
    }
   ],
   "execution_count": 15
  },
  {
   "metadata": {
    "ExecuteTime": {
     "end_time": "2024-10-24T14:19:37.329808Z",
     "start_time": "2024-10-24T14:19:37.195648Z"
    }
   },
   "cell_type": "code",
   "source": [
    "# This is an alternative of the previous cell. \n",
    "# The aim: calculate the number of NULL values\n",
    "raw_df.isnull().sum().sort_values(ascending=False)"
   ],
   "id": "20ae2494957d429b",
   "outputs": [
    {
     "data": {
      "text/plain": [
       "ConvertedComp             29705\n",
       "CompTotal                 29635\n",
       "NEWPurchaseResearch       27140\n",
       "PurchaseWhat              25097\n",
       "WebframeDesireNextYear    24437\n",
       "                          ...  \n",
       "Employment                  607\n",
       "Country                     389\n",
       "MainBranch                  299\n",
       "Hobbyist                     45\n",
       "Respondent                    0\n",
       "Length: 61, dtype: int64"
      ]
     },
     "execution_count": 16,
     "metadata": {},
     "output_type": "execute_result"
    }
   ],
   "execution_count": 16
  },
  {
   "metadata": {
    "ExecuteTime": {
     "end_time": "2024-10-24T14:20:05.356731Z",
     "start_time": "2024-10-24T14:20:05.215651Z"
    }
   },
   "cell_type": "code",
   "source": [
    "# Calculate the portion of null values\n",
    "raw_df.isnull().sum().sort_values(ascending=False) / raw_df.shape[0]"
   ],
   "id": "7aefed6e17511f97",
   "outputs": [
    {
     "data": {
      "text/plain": [
       "ConvertedComp             0.460821\n",
       "CompTotal                 0.459735\n",
       "NEWPurchaseResearch       0.421030\n",
       "PurchaseWhat              0.389336\n",
       "WebframeDesireNextYear    0.379097\n",
       "                            ...   \n",
       "Employment                0.009417\n",
       "Country                   0.006035\n",
       "MainBranch                0.004638\n",
       "Hobbyist                  0.000698\n",
       "Respondent                0.000000\n",
       "Length: 61, dtype: float64"
      ]
     },
     "execution_count": 18,
     "metadata": {},
     "output_type": "execute_result"
    }
   ],
   "execution_count": 18
  },
  {
   "metadata": {
    "ExecuteTime": {
     "end_time": "2024-10-24T14:18:25.520208Z",
     "start_time": "2024-10-24T14:18:25.337370Z"
    }
   },
   "cell_type": "code",
   "source": [
    "# Check the datatypes \n",
    "raw_df.info(verbose=True)"
   ],
   "id": "9a15aa2146afad67",
   "outputs": [
    {
     "name": "stdout",
     "output_type": "stream",
     "text": [
      "<class 'pandas.core.frame.DataFrame'>\n",
      "RangeIndex: 64461 entries, 0 to 64460\n",
      "Data columns (total 61 columns):\n",
      " #   Column                        Non-Null Count  Dtype  \n",
      "---  ------                        --------------  -----  \n",
      " 0   Respondent                    64461 non-null  int64  \n",
      " 1   MainBranch                    64162 non-null  object \n",
      " 2   Hobbyist                      64416 non-null  object \n",
      " 3   Age                           45446 non-null  float64\n",
      " 4   Age1stCode                    57900 non-null  object \n",
      " 5   CompFreq                      40069 non-null  object \n",
      " 6   CompTotal                     34826 non-null  float64\n",
      " 7   ConvertedComp                 34756 non-null  float64\n",
      " 8   Country                       64072 non-null  object \n",
      " 9   CurrencyDesc                  45472 non-null  object \n",
      " 10  CurrencySymbol                45472 non-null  object \n",
      " 11  DatabaseDesireNextYear        44070 non-null  object \n",
      " 12  DatabaseWorkedWith            49537 non-null  object \n",
      " 13  DevType                       49370 non-null  object \n",
      " 14  EdLevel                       57431 non-null  object \n",
      " 15  Employment                    63854 non-null  object \n",
      " 16  Ethnicity                     45948 non-null  object \n",
      " 17  Gender                        50557 non-null  object \n",
      " 18  JobFactors                    49349 non-null  object \n",
      " 19  JobSat                        45194 non-null  object \n",
      " 20  JobSeek                       51727 non-null  object \n",
      " 21  LanguageDesireNextYear        54113 non-null  object \n",
      " 22  LanguageWorkedWith            57378 non-null  object \n",
      " 23  MiscTechDesireNextYear        42379 non-null  object \n",
      " 24  MiscTechWorkedWith            40314 non-null  object \n",
      " 25  NEWCollabToolsDesireNextYear  47287 non-null  object \n",
      " 26  NEWCollabToolsWorkedWith      52883 non-null  object \n",
      " 27  NEWDevOps                     42686 non-null  object \n",
      " 28  NEWDevOpsImpt                 41732 non-null  object \n",
      " 29  NEWEdImpt                     48465 non-null  object \n",
      " 30  NEWJobHunt                    42286 non-null  object \n",
      " 31  NEWJobHuntResearch            41022 non-null  object \n",
      " 32  NEWLearn                      56156 non-null  object \n",
      " 33  NEWOffTopic                   50804 non-null  object \n",
      " 34  NEWOnboardGood                42623 non-null  object \n",
      " 35  NEWOtherComms                 57205 non-null  object \n",
      " 36  NEWOvertime                   43231 non-null  object \n",
      " 37  NEWPurchaseResearch           37321 non-null  object \n",
      " 38  NEWPurpleLink                 54803 non-null  object \n",
      " 39  NEWSOSites                    58275 non-null  object \n",
      " 40  NEWStuck                      54983 non-null  object \n",
      " 41  OpSys                         56228 non-null  object \n",
      " 42  OrgSize                       44334 non-null  object \n",
      " 43  PlatformDesireNextYear        50605 non-null  object \n",
      " 44  PlatformWorkedWith            53843 non-null  object \n",
      " 45  PurchaseWhat                  39364 non-null  object \n",
      " 46  Sexuality                     43992 non-null  object \n",
      " 47  SOAccount                     56805 non-null  object \n",
      " 48  SOComm                        56476 non-null  object \n",
      " 49  SOPartFreq                    46792 non-null  object \n",
      " 50  SOVisitFreq                   56970 non-null  object \n",
      " 51  SurveyEase                    51802 non-null  object \n",
      " 52  SurveyLength                  51701 non-null  object \n",
      " 53  Trans                         49345 non-null  object \n",
      " 54  UndergradMajor                50995 non-null  object \n",
      " 55  WebframeDesireNextYear        40024 non-null  object \n",
      " 56  WebframeWorkedWith            42279 non-null  object \n",
      " 57  WelcomeChange                 52683 non-null  object \n",
      " 58  WorkWeekHrs                   41151 non-null  float64\n",
      " 59  YearsCode                     57684 non-null  object \n",
      " 60  YearsCodePro                  46349 non-null  object \n",
      "dtypes: float64(4), int64(1), object(56)\n",
      "memory usage: 30.0+ MB\n"
     ]
    }
   ],
   "execution_count": 13
  },
  {
   "metadata": {
    "ExecuteTime": {
     "end_time": "2024-10-24T14:20:24.951882Z",
     "start_time": "2024-10-24T14:20:24.936988Z"
    }
   },
   "cell_type": "code",
   "source": [
    "NUM_FEATS = [\"Age\", \"YearsCode\", \"YearsCodePro\", \"OrgSize\"]\n",
    "raw_df[NUM_FEATS].sample().iloc[0]"
   ],
   "id": "78e7dfdd71f16ab8",
   "outputs": [
    {
     "data": {
      "text/plain": [
       "Age             21.0\n",
       "YearsCode          2\n",
       "YearsCodePro     NaN\n",
       "OrgSize          NaN\n",
       "Name: 50247, dtype: object"
      ]
     },
     "execution_count": 19,
     "metadata": {},
     "output_type": "execute_result"
    }
   ],
   "execution_count": 19
  },
  {
   "metadata": {
    "ExecuteTime": {
     "end_time": "2024-10-24T14:20:32.989388Z",
     "start_time": "2024-10-24T14:20:32.966667Z"
    }
   },
   "cell_type": "code",
   "source": [
    "INV_FEATS = ['YearsCode', 'YearsCodePro'] # Features to check (why they datatype is object. They are supposed to be numerical)\n",
    "for inv_feat in INV_FEATS:\n",
    "    unique_values = raw_df[inv_feat].unique()\n",
    "    print(f\".. {inv_feat}: {unique_values}\")\n",
    "    print(f\"--------------------------------\")\n"
   ],
   "id": "933bef2e1614d269",
   "outputs": [
    {
     "name": "stdout",
     "output_type": "stream",
     "text": [
      ".. YearsCode: ['36' '7' '4' '15' '6' '17' '8' '10' '35' '5' '37' '19' '9' '22' '30' '23'\n",
      " '20' '2' 'Less than 1 year' '3' '13' '25' '16' '43' '11' '38' '33' nan\n",
      " '24' '21' '12' '40' '27' '50' '46' '14' '18' '28' '32' '44' '26' '42'\n",
      " '31' '34' '29' '1' '39' '41' '45' 'More than 50 years' '47' '49' '48']\n",
      "--------------------------------\n",
      ".. YearsCodePro: ['27' '4' nan '8' '13' '2' '7' '20' '1' '23' '3' '12' '17' '18' '10' '14'\n",
      " '29' '6' '28' '9' '15' '11' '16' '25' 'Less than 1 year' '5' '21' '19'\n",
      " '35' '24' '32' '22' '30' '38' '26' '40' '33' '31' 'More than 50 years'\n",
      " '34' '36' '39' '37' '41' '45' '47' '42' '46' '50' '43' '44' '48' '49']\n",
      "--------------------------------\n"
     ]
    }
   ],
   "execution_count": 20
  },
  {
   "metadata": {
    "ExecuteTime": {
     "end_time": "2024-10-24T14:18:26.538271200Z",
     "start_time": "2024-10-22T07:54:18.248109Z"
    }
   },
   "cell_type": "code",
   "source": [
    "for feat in NUM_FEATS:\n",
    "    unique_values = raw_df[feat].unique()\n",
    "    print(f\".. {feat}: {unique_values}\")\n",
    "    print(f\"--------------------------------\")"
   ],
   "id": "842048e6d910a44f",
   "outputs": [
    {
     "name": "stdout",
     "output_type": "stream",
     "text": [
      ".. Age: ['Under 18 years old' '35-44 years old' '45-54 years old'\n",
      " '18-24 years old' '25-34 years old' '55-64 years old' 'Prefer not to say'\n",
      " '65 years or older']\n",
      "--------------------------------\n",
      ".. YearsCode: [nan '20' '37' '4' '9' '10' '7' '1' '15' '30' '31' '6' '12' '22' '5' '36'\n",
      " '25' '44' '24' '18' '3' '8' 'More than 50 years' '11' '29' '40' '39' '2'\n",
      " '42' '34' '19' '35' '16' '33' '13' '23' '14' '28' '17' '21' '43' '46'\n",
      " '26' '32' '41' '45' '27' '38' '50' '48' '47' 'Less than 1 year' '49']\n",
      "--------------------------------\n",
      ".. YearsCodePro: [nan '17' '27' '7' '11' '25' '12' '10' '3' 'Less than 1 year' '18' '37'\n",
      " '15' '20' '6' '2' '16' '8' '14' '4' '45' '1' '24' '29' '5' '30' '26' '9'\n",
      " '33' '13' '35' '23' '22' '31' '19' '21' '28' '34' '32' '40' '50' '39'\n",
      " '44' '42' '41' '36' '38' 'More than 50 years' '43' '47' '48' '46' '49']\n",
      "--------------------------------\n",
      ".. OrgSize: [nan '100 to 499 employees' '2 to 9 employees'\n",
      " 'Just me - I am a freelancer, sole proprietor, etc.' '10 to 19 employees'\n",
      " '20 to 99 employees' '5,000 to 9,999 employees'\n",
      " '1,000 to 4,999 employees' 'I don’t know' '10,000 or more employees'\n",
      " '500 to 999 employees']\n",
      "--------------------------------\n",
      ".. TimeSearching: [nan '30-60 minutes a day' '60-120 minutes a day' '15-30 minutes a day'\n",
      " 'Less than 15 minutes a day' 'Over 120 minutes a day']\n",
      "--------------------------------\n",
      ".. TimeAnswering: [nan '60-120 minutes a day' '15-30 minutes a day' '30-60 minutes a day'\n",
      " 'Less than 15 minutes a day' 'Over 120 minutes a day']\n",
      "--------------------------------\n"
     ]
    }
   ],
   "execution_count": 33
  },
  {
   "metadata": {
    "ExecuteTime": {
     "end_time": "2024-10-24T14:22:02.933826Z",
     "start_time": "2024-10-24T14:22:02.926301Z"
    }
   },
   "cell_type": "code",
   "source": [
    "for feat in raw_df.columns.values: \n",
    "    if \"Worked\" in feat:\n",
    "        print(feat)\n",
    "        \n",
    "        "
   ],
   "id": "3abccdd915ca40e",
   "outputs": [
    {
     "name": "stdout",
     "output_type": "stream",
     "text": [
      "DatabaseWorkedWith\n",
      "LanguageWorkedWith\n",
      "MiscTechWorkedWith\n",
      "NEWCollabToolsWorkedWith\n",
      "PlatformWorkedWith\n",
      "WebframeWorkedWith\n"
     ]
    }
   ],
   "execution_count": 23
  },
  {
   "metadata": {
    "ExecuteTime": {
     "end_time": "2024-10-24T14:23:18.366143Z",
     "start_time": "2024-10-24T14:23:18.345914Z"
    }
   },
   "cell_type": "code",
   "source": [
    "FEATS = [\"DatabaseWorkedWith\", \n",
    "         \"LanguageWorkedWith\", \n",
    "         \"MiscTechWorkedWith\", \n",
    "         \"NEWCollabToolsWorkedWith\", \n",
    "         \"PlatformWorkedWith\", \n",
    "         \"WebframeWorkedWith\"\n",
    "         ]\n",
    "\n",
    "LABEL = [\"DevType\"]\n",
    "\n",
    "raw_df[FEATS + LABEL].sample(1).iloc[0]"
   ],
   "id": "9a2f7c7f7e350428",
   "outputs": [
    {
     "data": {
      "text/plain": [
       "DatabaseWorkedWith                            DynamoDB;MongoDB;MySQL;Redis\n",
       "LanguageWorkedWith          Bash/Shell/PowerShell;Go;Java;Python;Scala;SQL\n",
       "MiscTechWorkedWith                    Apache Spark;Node.js;Pandas;Teraform\n",
       "NEWCollabToolsWorkedWith                           Confluence;Github;Slack\n",
       "PlatformWorkedWith            AWS;Docker;Google Cloud Platform;Linux;MacOS\n",
       "WebframeWorkedWith                                                     NaN\n",
       "DevType                          Engineer, data;Engineer, site reliability\n",
       "Name: 3388, dtype: object"
      ]
     },
     "execution_count": 25,
     "metadata": {},
     "output_type": "execute_result"
    }
   ],
   "execution_count": 25
  },
  {
   "metadata": {
    "ExecuteTime": {
     "end_time": "2024-10-24T14:23:32.594571Z",
     "start_time": "2024-10-24T14:23:32.582189Z"
    }
   },
   "cell_type": "code",
   "source": "raw_df['DevType'].unique()",
   "id": "af4fac6e04efefde",
   "outputs": [
    {
     "data": {
      "text/plain": [
       "array(['Developer, desktop or enterprise applications;Developer, full-stack',\n",
       "       'Developer, full-stack;Developer, mobile', nan, ...,\n",
       "       'Data scientist or machine learning specialist;Database administrator;Developer, back-end;Developer, front-end;System administrator',\n",
       "       'Academic researcher;Data or business analyst;Data scientist or machine learning specialist;Database administrator;Designer;Developer, back-end;Developer, desktop or enterprise applications;Developer, embedded applications or devices;Developer, front-end;Developer, full-stack;Developer, game or graphics;Developer, mobile;Developer, QA or test;DevOps specialist;Senior executive/VP;System administrator',\n",
       "       'Data or business analyst;Developer, mobile;Senior executive/VP;System administrator'],\n",
       "      dtype=object)"
      ]
     },
     "execution_count": 26,
     "metadata": {},
     "output_type": "execute_result"
    }
   ],
   "execution_count": 26
  },
  {
   "metadata": {
    "ExecuteTime": {
     "end_time": "2024-10-24T14:23:50.223022Z",
     "start_time": "2024-10-24T14:23:50.206417Z"
    }
   },
   "cell_type": "code",
   "source": [
    "# The portion of students in the dataset \n",
    "# Student is not a job. We will delete this DevType \n",
    "\n",
    "students_df = raw_df[raw_df['DevType'] == 'Student']\n",
    "\n",
    "print(\"Portion of students in the dataset: \")\n",
    "print(f\".. {students_df.shape[0] / raw_df.shape[0] * 100:.2f}%\")"
   ],
   "id": "25690dd1488472e8",
   "outputs": [
    {
     "name": "stdout",
     "output_type": "stream",
     "text": [
      "Portion of students in the dataset: \n",
      ".. 0.00%\n"
     ]
    }
   ],
   "execution_count": 27
  },
  {
   "metadata": {
    "ExecuteTime": {
     "end_time": "2024-10-24T14:24:09.290183Z",
     "start_time": "2024-10-24T14:24:09.225316Z"
    }
   },
   "cell_type": "code",
   "source": [
    "FEATS = [\"DatabaseWorkedWith\", \n",
    "         \"LanguageWorkedWith\", \n",
    "         \"MiscTechWorkedWith\", \n",
    "         \"NEWCollabToolsWorkedWith\", \n",
    "         \"PlatformWorkedWith\", \n",
    "         \"WebframeWorkedWith\"\n",
    "         ]\n",
    "\n",
    "LABEL = [\"DevType\"]\n",
    "\n",
    "OTHER_FEATS = []\n",
    "for feature in raw_df.columns:\n",
    "    if feature not in FEATS + LABEL:\n",
    "        OTHER_FEATS.append(feature)\n",
    "        \n",
    "raw_df[OTHER_FEATS].sample(1).iloc[0]\n"
   ],
   "id": "6b6d2c43fe5a2e5b",
   "outputs": [
    {
     "data": {
      "text/plain": [
       "Respondent                                                                  10992\n",
       "MainBranch                                         I am a developer by profession\n",
       "Hobbyist                                                                      Yes\n",
       "Age                                                                          24.0\n",
       "Age1stCode                                                                     10\n",
       "CompFreq                                                                  Monthly\n",
       "CompTotal                                                                     NaN\n",
       "ConvertedComp                                                                 NaN\n",
       "Country                                                                    Turkey\n",
       "CurrencyDesc                                                         Turkish lira\n",
       "CurrencySymbol                                                                TRY\n",
       "DatabaseDesireNextYear                                Firebase;MongoDB;PostgreSQL\n",
       "EdLevel                                       Associate degree (A.A., A.S., etc.)\n",
       "Employment                      Independent contractor, freelancer, or self-em...\n",
       "Ethnicity                                                                     NaN\n",
       "Gender                                                                      Woman\n",
       "JobFactors                      Remote work options;Financial performance or f...\n",
       "JobSat                                         Neither satisfied nor dissatisfied\n",
       "JobSeek                                           I am actively looking for a job\n",
       "LanguageDesireNextYear                                                 JavaScript\n",
       "MiscTechDesireNextYear                                       Node.js;React Native\n",
       "NEWCollabToolsDesireNextYear    Confluence;Jira;Github;Slack;Trello;Google Sui...\n",
       "NEWDevOps                                                                     Yes\n",
       "NEWDevOpsImpt                                                 Extremely important\n",
       "NEWEdImpt                                                      Somewhat important\n",
       "NEWJobHunt                      Just because;Having a bad day (or week or mont...\n",
       "NEWJobHuntResearch              Read company media, such as employee blogs or ...\n",
       "NEWLearn                                                     Once every few years\n",
       "NEWOffTopic                                                                   Yes\n",
       "NEWOnboardGood                                       Onboarding? What onboarding?\n",
       "NEWOtherComms                                                                 Yes\n",
       "NEWOvertime                                      Often: 1-2 days per week or more\n",
       "NEWPurchaseResearch             Start a free trial;Ask developers I know/work ...\n",
       "NEWPurpleLink                                                   Hello, old friend\n",
       "NEWSOSites                      Stack Overflow (public Q&A for anyone who code...\n",
       "NEWStuck                        Visit Stack Overflow;Watch help / tutorial vid...\n",
       "OpSys                                                                       MacOS\n",
       "OrgSize                                                        10 to 19 employees\n",
       "PlatformDesireNextYear                                      Arduino;Docker;Heroku\n",
       "PurchaseWhat                                                                  NaN\n",
       "Sexuality                                                 Straight / Heterosexual\n",
       "SOAccount                                                                     Yes\n",
       "SOComm                                                                    Neutral\n",
       "SOPartFreq                      I have never participated in Q&A on Stack Over...\n",
       "SOVisitFreq                                                Multiple times per day\n",
       "SurveyEase                                                                   Easy\n",
       "SurveyLength                                                Appropriate in length\n",
       "Trans                                                                          No\n",
       "UndergradMajor                  Computer science, computer engineering, or sof...\n",
       "WebframeDesireNextYear                                           Express;React.js\n",
       "WelcomeChange                             Just as welcome now as I felt last year\n",
       "WorkWeekHrs                                                                  45.0\n",
       "YearsCode                                                                      14\n",
       "YearsCodePro                                                                    3\n",
       "Name: 10957, dtype: object"
      ]
     },
     "execution_count": 28,
     "metadata": {},
     "output_type": "execute_result"
    }
   ],
   "execution_count": 28
  },
  {
   "metadata": {
    "ExecuteTime": {
     "end_time": "2024-10-24T14:24:30.302280Z",
     "start_time": "2024-10-24T14:24:30.286463Z"
    }
   },
   "cell_type": "code",
   "source": [
    "unique_main_branch = raw_df['MainBranch'].unique()\n",
    "print(f\"unique_main_branch: {unique_main_branch}\")"
   ],
   "id": "d7758e0b123faff9",
   "outputs": [
    {
     "name": "stdout",
     "output_type": "stream",
     "text": [
      "unique_main_branch: ['I am a developer by profession' 'I code primarily as a hobby'\n",
      " 'I used to be a developer by profession, but no longer am'\n",
      " 'I am not primarily a developer, but I write code sometimes as part of my work'\n",
      " 'I am a student who is learning to code' nan]\n"
     ]
    }
   ],
   "execution_count": 29
  },
  {
   "metadata": {
    "ExecuteTime": {
     "end_time": "2024-10-24T14:24:38.441091Z",
     "start_time": "2024-10-24T14:24:38.336529Z"
    }
   },
   "cell_type": "code",
   "source": [
    "PRO_MAIN_BRANCH = [\"I am a developer by profession\", \n",
    "                   \"I am not primarily a developer, but I write code sometimes as part of my work/studies\", \n",
    "                   \"I used to be a developer by profession, but no longer am\"\n",
    "                   ]\n",
    "\n",
    "portion_sum = 0\n",
    "for branch in PRO_MAIN_BRANCH:\n",
    "    print(f\"Portion of {branch} in the dataset\")\n",
    "    print(f\".. {branch}: {raw_df[raw_df['MainBranch'] == branch].shape[0] / raw_df.shape[0] * 100:.2f}%\")\n",
    "    portion_sum += raw_df[raw_df['MainBranch'] == branch].shape[0] / raw_df.shape[0] * 100\n",
    "    \n",
    "print(f\"------------------------------------------\")\n",
    "print(f\"The sum of these portions is: {portion_sum:.2f}%\")\n",
    "print(f\"The portion of people who code as a hobby: {(100 - portion_sum):.2f}%\")"
   ],
   "id": "34708eaa1c2fb967",
   "outputs": [
    {
     "name": "stdout",
     "output_type": "stream",
     "text": [
      "Portion of I am a developer by profession in the dataset\n",
      ".. I am a developer by profession: 73.21%\n",
      "Portion of I am not primarily a developer, but I write code sometimes as part of my work/studies in the dataset\n",
      ".. I am not primarily a developer, but I write code sometimes as part of my work/studies: 0.00%\n",
      "Portion of I used to be a developer by profession, but no longer am in the dataset\n",
      ".. I used to be a developer by profession, but no longer am: 1.84%\n",
      "------------------------------------------\n",
      "The sum of these portions is: 75.05%\n",
      "The portion of people who code as a hobby: 24.95%\n"
     ]
    }
   ],
   "execution_count": 30
  },
  {
   "metadata": {},
   "cell_type": "markdown",
   "source": [
    "\n",
    "These values insure as that the dataset could be used in our business case. \n",
    "- We have only 7% of students in the dataset\n",
    "- Among professionals, we have 76% of developers that write code as part of their job and only 11% of programmers that code as a hobby\n",
    "These values indicates that the tech stacks will be correlated with the DevType. In addition, they reflect a real relationship."
   ],
   "id": "f99526d75ccf1027"
  },
  {
   "metadata": {},
   "cell_type": "markdown",
   "source": "END OF NOTEBOOK",
   "id": "32f8f7679b4fdaa3"
  }
 ],
 "metadata": {
  "kernelspec": {
   "display_name": "Python 3",
   "language": "python",
   "name": "python3"
  },
  "language_info": {
   "codemirror_mode": {
    "name": "ipython",
    "version": 2
   },
   "file_extension": ".py",
   "mimetype": "text/x-python",
   "name": "python",
   "nbconvert_exporter": "python",
   "pygments_lexer": "ipython2",
   "version": "2.7.6"
  }
 },
 "nbformat": 4,
 "nbformat_minor": 5
}
