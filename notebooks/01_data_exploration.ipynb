{
 "cells": [
  {
   "cell_type": "code",
   "id": "initial_id",
   "metadata": {
    "collapsed": true,
    "ExecuteTime": {
     "end_time": "2024-10-22T07:26:55.947442Z",
     "start_time": "2024-10-22T07:26:55.303606Z"
    }
   },
   "source": [
    "import numpy as np\n",
    "import pandas as pd\n",
    "import matplotlib.pyplot as plt"
   ],
   "outputs": [],
   "execution_count": 1
  },
  {
   "metadata": {},
   "cell_type": "markdown",
   "source": "# Load Data",
   "id": "21b8d9a5a2d2bc5d"
  },
  {
   "metadata": {
    "ExecuteTime": {
     "end_time": "2024-10-22T07:26:55.954585Z",
     "start_time": "2024-10-22T07:26:55.951437Z"
    }
   },
   "cell_type": "code",
   "source": "RAW_DATA_PATH = \"../data/raw/survey_results_public.csv\"",
   "id": "51b3368cb179900f",
   "outputs": [],
   "execution_count": 2
  },
  {
   "metadata": {
    "ExecuteTime": {
     "end_time": "2024-10-22T07:26:57.391760Z",
     "start_time": "2024-10-22T07:26:56.069004Z"
    }
   },
   "cell_type": "code",
   "source": [
    "raw_df = pd.read_csv(RAW_DATA_PATH)\n",
    "raw_df"
   ],
   "id": "4cbe297f370b74d2",
   "outputs": [
    {
     "data": {
      "text/plain": [
       "       ResponseId                      MainBranch                 Age  \\\n",
       "0               1  I am a developer by profession  Under 18 years old   \n",
       "1               2  I am a developer by profession     35-44 years old   \n",
       "2               3  I am a developer by profession     45-54 years old   \n",
       "3               4           I am learning to code     18-24 years old   \n",
       "4               5  I am a developer by profession     18-24 years old   \n",
       "...           ...                             ...                 ...   \n",
       "65432       65433  I am a developer by profession     18-24 years old   \n",
       "65433       65434  I am a developer by profession     25-34 years old   \n",
       "65434       65435  I am a developer by profession     25-34 years old   \n",
       "65435       65436  I am a developer by profession     18-24 years old   \n",
       "65436       65437     I code primarily as a hobby     18-24 years old   \n",
       "\n",
       "                Employment                            RemoteWork   Check  \\\n",
       "0      Employed, full-time                                Remote  Apples   \n",
       "1      Employed, full-time                                Remote  Apples   \n",
       "2      Employed, full-time                                Remote  Apples   \n",
       "3       Student, full-time                                   NaN  Apples   \n",
       "4       Student, full-time                                   NaN  Apples   \n",
       "...                    ...                                   ...     ...   \n",
       "65432  Employed, full-time                                Remote  Apples   \n",
       "65433  Employed, full-time                                Remote  Apples   \n",
       "65434  Employed, full-time                             In-person  Apples   \n",
       "65435  Employed, full-time  Hybrid (some remote, some in-person)  Apples   \n",
       "65436   Student, full-time                                   NaN  Apples   \n",
       "\n",
       "                                        CodingActivities  \\\n",
       "0                                                  Hobby   \n",
       "1      Hobby;Contribute to open-source projects;Other...   \n",
       "2      Hobby;Contribute to open-source projects;Other...   \n",
       "3                                                    NaN   \n",
       "4                                                    NaN   \n",
       "...                                                  ...   \n",
       "65432                      Hobby;School or academic work   \n",
       "65433           Hobby;Contribute to open-source projects   \n",
       "65434                                              Hobby   \n",
       "65435  Hobby;Contribute to open-source projects;Profe...   \n",
       "65436                                                NaN   \n",
       "\n",
       "                                                 EdLevel  \\\n",
       "0                              Primary/elementary school   \n",
       "1           Bachelor’s degree (B.A., B.S., B.Eng., etc.)   \n",
       "2        Master’s degree (M.A., M.S., M.Eng., MBA, etc.)   \n",
       "3      Some college/university study without earning ...   \n",
       "4      Secondary school (e.g. American high school, G...   \n",
       "...                                                  ...   \n",
       "65432       Bachelor’s degree (B.A., B.S., B.Eng., etc.)   \n",
       "65433                                                NaN   \n",
       "65434       Bachelor’s degree (B.A., B.S., B.Eng., etc.)   \n",
       "65435  Secondary school (e.g. American high school, G...   \n",
       "65436                                                NaN   \n",
       "\n",
       "                                               LearnCode  \\\n",
       "0                                 Books / Physical media   \n",
       "1      Books / Physical media;Colleague;On the job tr...   \n",
       "2      Books / Physical media;Colleague;On the job tr...   \n",
       "3      Other online resources (e.g., videos, blogs, f...   \n",
       "4      Other online resources (e.g., videos, blogs, f...   \n",
       "...                                                  ...   \n",
       "65432  On the job training;School (i.e., University, ...   \n",
       "65433                                                NaN   \n",
       "65434  Other online resources (e.g., videos, blogs, f...   \n",
       "65435  On the job training;Other online resources (e....   \n",
       "65436                                                NaN   \n",
       "\n",
       "                                         LearnCodeOnline  ... JobSatPoints_6  \\\n",
       "0                                                    NaN  ...            NaN   \n",
       "1      Technical documentation;Blogs;Books;Written Tu...  ...            0.0   \n",
       "2      Technical documentation;Blogs;Books;Written Tu...  ...            NaN   \n",
       "3      Stack Overflow;How-to videos;Interactive tutorial  ...            NaN   \n",
       "4      Technical documentation;Blogs;Written Tutorial...  ...            NaN   \n",
       "...                                                  ...  ...            ...   \n",
       "65432                                                NaN  ...            NaN   \n",
       "65433                                                NaN  ...            NaN   \n",
       "65434  Technical documentation;Stack Overflow;Social ...  ...            NaN   \n",
       "65435  Technical documentation;Blogs;Written Tutorial...  ...            0.0   \n",
       "65436                                                NaN  ...            NaN   \n",
       "\n",
       "      JobSatPoints_7 JobSatPoints_8 JobSatPoints_9 JobSatPoints_10  \\\n",
       "0                NaN            NaN            NaN             NaN   \n",
       "1                0.0            0.0            0.0             0.0   \n",
       "2                NaN            NaN            NaN             NaN   \n",
       "3                NaN            NaN            NaN             NaN   \n",
       "4                NaN            NaN            NaN             NaN   \n",
       "...              ...            ...            ...             ...   \n",
       "65432            NaN            NaN            NaN             NaN   \n",
       "65433            NaN            NaN            NaN             NaN   \n",
       "65434            NaN            NaN            NaN             NaN   \n",
       "65435            0.0            0.0            0.0             0.0   \n",
       "65436            NaN            NaN            NaN             NaN   \n",
       "\n",
       "      JobSatPoints_11           SurveyLength SurveyEase ConvertedCompYearly  \\\n",
       "0                 NaN                    NaN        NaN                 NaN   \n",
       "1                 0.0                    NaN        NaN                 NaN   \n",
       "2                 NaN  Appropriate in length       Easy                 NaN   \n",
       "3                 NaN               Too long       Easy                 NaN   \n",
       "4                 NaN              Too short       Easy                 NaN   \n",
       "...               ...                    ...        ...                 ...   \n",
       "65432             NaN                    NaN        NaN                 NaN   \n",
       "65433             NaN                    NaN        NaN                 NaN   \n",
       "65434             NaN                    NaN        NaN                 NaN   \n",
       "65435             0.0                    NaN        NaN                 NaN   \n",
       "65436             NaN                    NaN        NaN                 NaN   \n",
       "\n",
       "      JobSat  \n",
       "0        NaN  \n",
       "1        NaN  \n",
       "2        NaN  \n",
       "3        NaN  \n",
       "4        NaN  \n",
       "...      ...  \n",
       "65432    NaN  \n",
       "65433    NaN  \n",
       "65434    NaN  \n",
       "65435    NaN  \n",
       "65436    NaN  \n",
       "\n",
       "[65437 rows x 114 columns]"
      ],
      "text/html": [
       "<div>\n",
       "<style scoped>\n",
       "    .dataframe tbody tr th:only-of-type {\n",
       "        vertical-align: middle;\n",
       "    }\n",
       "\n",
       "    .dataframe tbody tr th {\n",
       "        vertical-align: top;\n",
       "    }\n",
       "\n",
       "    .dataframe thead th {\n",
       "        text-align: right;\n",
       "    }\n",
       "</style>\n",
       "<table border=\"1\" class=\"dataframe\">\n",
       "  <thead>\n",
       "    <tr style=\"text-align: right;\">\n",
       "      <th></th>\n",
       "      <th>ResponseId</th>\n",
       "      <th>MainBranch</th>\n",
       "      <th>Age</th>\n",
       "      <th>Employment</th>\n",
       "      <th>RemoteWork</th>\n",
       "      <th>Check</th>\n",
       "      <th>CodingActivities</th>\n",
       "      <th>EdLevel</th>\n",
       "      <th>LearnCode</th>\n",
       "      <th>LearnCodeOnline</th>\n",
       "      <th>...</th>\n",
       "      <th>JobSatPoints_6</th>\n",
       "      <th>JobSatPoints_7</th>\n",
       "      <th>JobSatPoints_8</th>\n",
       "      <th>JobSatPoints_9</th>\n",
       "      <th>JobSatPoints_10</th>\n",
       "      <th>JobSatPoints_11</th>\n",
       "      <th>SurveyLength</th>\n",
       "      <th>SurveyEase</th>\n",
       "      <th>ConvertedCompYearly</th>\n",
       "      <th>JobSat</th>\n",
       "    </tr>\n",
       "  </thead>\n",
       "  <tbody>\n",
       "    <tr>\n",
       "      <th>0</th>\n",
       "      <td>1</td>\n",
       "      <td>I am a developer by profession</td>\n",
       "      <td>Under 18 years old</td>\n",
       "      <td>Employed, full-time</td>\n",
       "      <td>Remote</td>\n",
       "      <td>Apples</td>\n",
       "      <td>Hobby</td>\n",
       "      <td>Primary/elementary school</td>\n",
       "      <td>Books / Physical media</td>\n",
       "      <td>NaN</td>\n",
       "      <td>...</td>\n",
       "      <td>NaN</td>\n",
       "      <td>NaN</td>\n",
       "      <td>NaN</td>\n",
       "      <td>NaN</td>\n",
       "      <td>NaN</td>\n",
       "      <td>NaN</td>\n",
       "      <td>NaN</td>\n",
       "      <td>NaN</td>\n",
       "      <td>NaN</td>\n",
       "      <td>NaN</td>\n",
       "    </tr>\n",
       "    <tr>\n",
       "      <th>1</th>\n",
       "      <td>2</td>\n",
       "      <td>I am a developer by profession</td>\n",
       "      <td>35-44 years old</td>\n",
       "      <td>Employed, full-time</td>\n",
       "      <td>Remote</td>\n",
       "      <td>Apples</td>\n",
       "      <td>Hobby;Contribute to open-source projects;Other...</td>\n",
       "      <td>Bachelor’s degree (B.A., B.S., B.Eng., etc.)</td>\n",
       "      <td>Books / Physical media;Colleague;On the job tr...</td>\n",
       "      <td>Technical documentation;Blogs;Books;Written Tu...</td>\n",
       "      <td>...</td>\n",
       "      <td>0.0</td>\n",
       "      <td>0.0</td>\n",
       "      <td>0.0</td>\n",
       "      <td>0.0</td>\n",
       "      <td>0.0</td>\n",
       "      <td>0.0</td>\n",
       "      <td>NaN</td>\n",
       "      <td>NaN</td>\n",
       "      <td>NaN</td>\n",
       "      <td>NaN</td>\n",
       "    </tr>\n",
       "    <tr>\n",
       "      <th>2</th>\n",
       "      <td>3</td>\n",
       "      <td>I am a developer by profession</td>\n",
       "      <td>45-54 years old</td>\n",
       "      <td>Employed, full-time</td>\n",
       "      <td>Remote</td>\n",
       "      <td>Apples</td>\n",
       "      <td>Hobby;Contribute to open-source projects;Other...</td>\n",
       "      <td>Master’s degree (M.A., M.S., M.Eng., MBA, etc.)</td>\n",
       "      <td>Books / Physical media;Colleague;On the job tr...</td>\n",
       "      <td>Technical documentation;Blogs;Books;Written Tu...</td>\n",
       "      <td>...</td>\n",
       "      <td>NaN</td>\n",
       "      <td>NaN</td>\n",
       "      <td>NaN</td>\n",
       "      <td>NaN</td>\n",
       "      <td>NaN</td>\n",
       "      <td>NaN</td>\n",
       "      <td>Appropriate in length</td>\n",
       "      <td>Easy</td>\n",
       "      <td>NaN</td>\n",
       "      <td>NaN</td>\n",
       "    </tr>\n",
       "    <tr>\n",
       "      <th>3</th>\n",
       "      <td>4</td>\n",
       "      <td>I am learning to code</td>\n",
       "      <td>18-24 years old</td>\n",
       "      <td>Student, full-time</td>\n",
       "      <td>NaN</td>\n",
       "      <td>Apples</td>\n",
       "      <td>NaN</td>\n",
       "      <td>Some college/university study without earning ...</td>\n",
       "      <td>Other online resources (e.g., videos, blogs, f...</td>\n",
       "      <td>Stack Overflow;How-to videos;Interactive tutorial</td>\n",
       "      <td>...</td>\n",
       "      <td>NaN</td>\n",
       "      <td>NaN</td>\n",
       "      <td>NaN</td>\n",
       "      <td>NaN</td>\n",
       "      <td>NaN</td>\n",
       "      <td>NaN</td>\n",
       "      <td>Too long</td>\n",
       "      <td>Easy</td>\n",
       "      <td>NaN</td>\n",
       "      <td>NaN</td>\n",
       "    </tr>\n",
       "    <tr>\n",
       "      <th>4</th>\n",
       "      <td>5</td>\n",
       "      <td>I am a developer by profession</td>\n",
       "      <td>18-24 years old</td>\n",
       "      <td>Student, full-time</td>\n",
       "      <td>NaN</td>\n",
       "      <td>Apples</td>\n",
       "      <td>NaN</td>\n",
       "      <td>Secondary school (e.g. American high school, G...</td>\n",
       "      <td>Other online resources (e.g., videos, blogs, f...</td>\n",
       "      <td>Technical documentation;Blogs;Written Tutorial...</td>\n",
       "      <td>...</td>\n",
       "      <td>NaN</td>\n",
       "      <td>NaN</td>\n",
       "      <td>NaN</td>\n",
       "      <td>NaN</td>\n",
       "      <td>NaN</td>\n",
       "      <td>NaN</td>\n",
       "      <td>Too short</td>\n",
       "      <td>Easy</td>\n",
       "      <td>NaN</td>\n",
       "      <td>NaN</td>\n",
       "    </tr>\n",
       "    <tr>\n",
       "      <th>...</th>\n",
       "      <td>...</td>\n",
       "      <td>...</td>\n",
       "      <td>...</td>\n",
       "      <td>...</td>\n",
       "      <td>...</td>\n",
       "      <td>...</td>\n",
       "      <td>...</td>\n",
       "      <td>...</td>\n",
       "      <td>...</td>\n",
       "      <td>...</td>\n",
       "      <td>...</td>\n",
       "      <td>...</td>\n",
       "      <td>...</td>\n",
       "      <td>...</td>\n",
       "      <td>...</td>\n",
       "      <td>...</td>\n",
       "      <td>...</td>\n",
       "      <td>...</td>\n",
       "      <td>...</td>\n",
       "      <td>...</td>\n",
       "      <td>...</td>\n",
       "    </tr>\n",
       "    <tr>\n",
       "      <th>65432</th>\n",
       "      <td>65433</td>\n",
       "      <td>I am a developer by profession</td>\n",
       "      <td>18-24 years old</td>\n",
       "      <td>Employed, full-time</td>\n",
       "      <td>Remote</td>\n",
       "      <td>Apples</td>\n",
       "      <td>Hobby;School or academic work</td>\n",
       "      <td>Bachelor’s degree (B.A., B.S., B.Eng., etc.)</td>\n",
       "      <td>On the job training;School (i.e., University, ...</td>\n",
       "      <td>NaN</td>\n",
       "      <td>...</td>\n",
       "      <td>NaN</td>\n",
       "      <td>NaN</td>\n",
       "      <td>NaN</td>\n",
       "      <td>NaN</td>\n",
       "      <td>NaN</td>\n",
       "      <td>NaN</td>\n",
       "      <td>NaN</td>\n",
       "      <td>NaN</td>\n",
       "      <td>NaN</td>\n",
       "      <td>NaN</td>\n",
       "    </tr>\n",
       "    <tr>\n",
       "      <th>65433</th>\n",
       "      <td>65434</td>\n",
       "      <td>I am a developer by profession</td>\n",
       "      <td>25-34 years old</td>\n",
       "      <td>Employed, full-time</td>\n",
       "      <td>Remote</td>\n",
       "      <td>Apples</td>\n",
       "      <td>Hobby;Contribute to open-source projects</td>\n",
       "      <td>NaN</td>\n",
       "      <td>NaN</td>\n",
       "      <td>NaN</td>\n",
       "      <td>...</td>\n",
       "      <td>NaN</td>\n",
       "      <td>NaN</td>\n",
       "      <td>NaN</td>\n",
       "      <td>NaN</td>\n",
       "      <td>NaN</td>\n",
       "      <td>NaN</td>\n",
       "      <td>NaN</td>\n",
       "      <td>NaN</td>\n",
       "      <td>NaN</td>\n",
       "      <td>NaN</td>\n",
       "    </tr>\n",
       "    <tr>\n",
       "      <th>65434</th>\n",
       "      <td>65435</td>\n",
       "      <td>I am a developer by profession</td>\n",
       "      <td>25-34 years old</td>\n",
       "      <td>Employed, full-time</td>\n",
       "      <td>In-person</td>\n",
       "      <td>Apples</td>\n",
       "      <td>Hobby</td>\n",
       "      <td>Bachelor’s degree (B.A., B.S., B.Eng., etc.)</td>\n",
       "      <td>Other online resources (e.g., videos, blogs, f...</td>\n",
       "      <td>Technical documentation;Stack Overflow;Social ...</td>\n",
       "      <td>...</td>\n",
       "      <td>NaN</td>\n",
       "      <td>NaN</td>\n",
       "      <td>NaN</td>\n",
       "      <td>NaN</td>\n",
       "      <td>NaN</td>\n",
       "      <td>NaN</td>\n",
       "      <td>NaN</td>\n",
       "      <td>NaN</td>\n",
       "      <td>NaN</td>\n",
       "      <td>NaN</td>\n",
       "    </tr>\n",
       "    <tr>\n",
       "      <th>65435</th>\n",
       "      <td>65436</td>\n",
       "      <td>I am a developer by profession</td>\n",
       "      <td>18-24 years old</td>\n",
       "      <td>Employed, full-time</td>\n",
       "      <td>Hybrid (some remote, some in-person)</td>\n",
       "      <td>Apples</td>\n",
       "      <td>Hobby;Contribute to open-source projects;Profe...</td>\n",
       "      <td>Secondary school (e.g. American high school, G...</td>\n",
       "      <td>On the job training;Other online resources (e....</td>\n",
       "      <td>Technical documentation;Blogs;Written Tutorial...</td>\n",
       "      <td>...</td>\n",
       "      <td>0.0</td>\n",
       "      <td>0.0</td>\n",
       "      <td>0.0</td>\n",
       "      <td>0.0</td>\n",
       "      <td>0.0</td>\n",
       "      <td>0.0</td>\n",
       "      <td>NaN</td>\n",
       "      <td>NaN</td>\n",
       "      <td>NaN</td>\n",
       "      <td>NaN</td>\n",
       "    </tr>\n",
       "    <tr>\n",
       "      <th>65436</th>\n",
       "      <td>65437</td>\n",
       "      <td>I code primarily as a hobby</td>\n",
       "      <td>18-24 years old</td>\n",
       "      <td>Student, full-time</td>\n",
       "      <td>NaN</td>\n",
       "      <td>Apples</td>\n",
       "      <td>NaN</td>\n",
       "      <td>NaN</td>\n",
       "      <td>NaN</td>\n",
       "      <td>NaN</td>\n",
       "      <td>...</td>\n",
       "      <td>NaN</td>\n",
       "      <td>NaN</td>\n",
       "      <td>NaN</td>\n",
       "      <td>NaN</td>\n",
       "      <td>NaN</td>\n",
       "      <td>NaN</td>\n",
       "      <td>NaN</td>\n",
       "      <td>NaN</td>\n",
       "      <td>NaN</td>\n",
       "      <td>NaN</td>\n",
       "    </tr>\n",
       "  </tbody>\n",
       "</table>\n",
       "<p>65437 rows × 114 columns</p>\n",
       "</div>"
      ]
     },
     "execution_count": 3,
     "metadata": {},
     "output_type": "execute_result"
    }
   ],
   "execution_count": 3
  },
  {
   "metadata": {
    "ExecuteTime": {
     "end_time": "2024-10-22T07:26:57.461621Z",
     "start_time": "2024-10-22T07:26:57.451759Z"
    }
   },
   "cell_type": "code",
   "source": [
    "# Get the data from a random Respondent\n",
    "\n",
    "raw_df.sample(1).T"
   ],
   "id": "c2f34e018b85977d",
   "outputs": [
    {
     "data": {
      "text/plain": [
       "                                                                 55370\n",
       "ResponseId                                                       55371\n",
       "MainBranch                              I am a developer by profession\n",
       "Age                                                    35-44 years old\n",
       "Employment           Independent contractor, freelancer, or self-em...\n",
       "RemoteWork                                                      Remote\n",
       "...                                                                ...\n",
       "JobSatPoints_11                                                    0.0\n",
       "SurveyLength                                                  Too long\n",
       "SurveyEase                                                        Easy\n",
       "ConvertedCompYearly                                                NaN\n",
       "JobSat                                                             8.0\n",
       "\n",
       "[114 rows x 1 columns]"
      ],
      "text/html": [
       "<div>\n",
       "<style scoped>\n",
       "    .dataframe tbody tr th:only-of-type {\n",
       "        vertical-align: middle;\n",
       "    }\n",
       "\n",
       "    .dataframe tbody tr th {\n",
       "        vertical-align: top;\n",
       "    }\n",
       "\n",
       "    .dataframe thead th {\n",
       "        text-align: right;\n",
       "    }\n",
       "</style>\n",
       "<table border=\"1\" class=\"dataframe\">\n",
       "  <thead>\n",
       "    <tr style=\"text-align: right;\">\n",
       "      <th></th>\n",
       "      <th>55370</th>\n",
       "    </tr>\n",
       "  </thead>\n",
       "  <tbody>\n",
       "    <tr>\n",
       "      <th>ResponseId</th>\n",
       "      <td>55371</td>\n",
       "    </tr>\n",
       "    <tr>\n",
       "      <th>MainBranch</th>\n",
       "      <td>I am a developer by profession</td>\n",
       "    </tr>\n",
       "    <tr>\n",
       "      <th>Age</th>\n",
       "      <td>35-44 years old</td>\n",
       "    </tr>\n",
       "    <tr>\n",
       "      <th>Employment</th>\n",
       "      <td>Independent contractor, freelancer, or self-em...</td>\n",
       "    </tr>\n",
       "    <tr>\n",
       "      <th>RemoteWork</th>\n",
       "      <td>Remote</td>\n",
       "    </tr>\n",
       "    <tr>\n",
       "      <th>...</th>\n",
       "      <td>...</td>\n",
       "    </tr>\n",
       "    <tr>\n",
       "      <th>JobSatPoints_11</th>\n",
       "      <td>0.0</td>\n",
       "    </tr>\n",
       "    <tr>\n",
       "      <th>SurveyLength</th>\n",
       "      <td>Too long</td>\n",
       "    </tr>\n",
       "    <tr>\n",
       "      <th>SurveyEase</th>\n",
       "      <td>Easy</td>\n",
       "    </tr>\n",
       "    <tr>\n",
       "      <th>ConvertedCompYearly</th>\n",
       "      <td>NaN</td>\n",
       "    </tr>\n",
       "    <tr>\n",
       "      <th>JobSat</th>\n",
       "      <td>8.0</td>\n",
       "    </tr>\n",
       "  </tbody>\n",
       "</table>\n",
       "<p>114 rows × 1 columns</p>\n",
       "</div>"
      ]
     },
     "execution_count": 4,
     "metadata": {},
     "output_type": "execute_result"
    }
   ],
   "execution_count": 4
  },
  {
   "metadata": {
    "ExecuteTime": {
     "end_time": "2024-10-22T07:26:57.560567Z",
     "start_time": "2024-10-22T07:26:57.555768Z"
    }
   },
   "cell_type": "code",
   "source": "raw_df.shape",
   "id": "8a3b6f97a2e65578",
   "outputs": [
    {
     "data": {
      "text/plain": [
       "(65437, 114)"
      ]
     },
     "execution_count": 5,
     "metadata": {},
     "output_type": "execute_result"
    }
   ],
   "execution_count": 5
  },
  {
   "metadata": {},
   "cell_type": "markdown",
   "source": "- Change the column names: JobsatPoints, Knowledge",
   "id": "2cdb4a9207f32ac7"
  },
  {
   "metadata": {
    "ExecuteTime": {
     "end_time": "2024-10-22T07:34:56.648050Z",
     "start_time": "2024-10-22T07:34:56.640935Z"
    }
   },
   "cell_type": "code",
   "source": [
    "# TODO : Understand and fix why the info does show all the columns and their null_values count\n",
    "# We have tried the following fixes but they do not work in this env: \n",
    "#   - change the max_cols argument to a small number (example: max_cols=5)\n",
    "#   - change the show_count argument to true \n",
    "#   - change the verbose argument to true: this shows all the columns without their null_values count\n",
    "\n",
    "raw_df.info() \n"
   ],
   "id": "eb4c078a5bac3ad5",
   "outputs": [
    {
     "name": "stdout",
     "output_type": "stream",
     "text": [
      "<class 'pandas.core.frame.DataFrame'>\n",
      "RangeIndex: 65437 entries, 0 to 65436\n",
      "Columns: 114 entries, ResponseId to JobSat\n",
      "dtypes: float64(13), int64(1), object(100)\n",
      "memory usage: 56.9+ MB\n"
     ]
    }
   ],
   "execution_count": 16
  },
  {
   "metadata": {
    "ExecuteTime": {
     "end_time": "2024-10-22T07:35:29.386676Z",
     "start_time": "2024-10-22T07:35:29.231887Z"
    }
   },
   "cell_type": "code",
   "source": [
    "# This is an alternative of the previous cell. \n",
    "# The aim: calculate the number of NULL values\n",
    "raw_df.isnull().sum().sort_values(ascending=False)"
   ],
   "id": "20ae2494957d429b",
   "outputs": [
    {
     "data": {
      "text/plain": [
       "AINextMuch less integrated    64289\n",
       "AINextLess integrated         63082\n",
       "AINextNo change               52939\n",
       "AINextMuch more integrated    51999\n",
       "EmbeddedAdmired               48704\n",
       "                              ...  \n",
       "MainBranch                        0\n",
       "Age                               0\n",
       "Employment                        0\n",
       "Check                             0\n",
       "ResponseId                        0\n",
       "Length: 114, dtype: int64"
      ]
     },
     "execution_count": 17,
     "metadata": {},
     "output_type": "execute_result"
    }
   ],
   "execution_count": 17
  },
  {
   "metadata": {},
   "cell_type": "markdown",
   "source": [
    "In 65437 entries, we have some columns that reaches +60000 null values. We can delete these features for two reasons: \n",
    "- They are hard to oversample\n",
    "- They are not crutial features for our business case "
   ],
   "id": "c1d673e80eaf6063"
  },
  {
   "metadata": {
    "ExecuteTime": {
     "end_time": "2024-10-22T07:39:04.982568Z",
     "start_time": "2024-10-22T07:39:04.824056Z"
    }
   },
   "cell_type": "code",
   "source": [
    "# Calculate the portion of null values\n",
    "raw_df.isnull().sum().sort_values(ascending=True) / raw_df.shape[0]"
   ],
   "id": "7aefed6e17511f97",
   "outputs": [
    {
     "data": {
      "text/plain": [
       "ResponseId                    0.000000\n",
       "MainBranch                    0.000000\n",
       "Age                           0.000000\n",
       "Employment                    0.000000\n",
       "Check                         0.000000\n",
       "                                ...   \n",
       "EmbeddedAdmired               0.744288\n",
       "AINextMuch more integrated    0.794642\n",
       "AINextNo change               0.809007\n",
       "AINextLess integrated         0.964011\n",
       "AINextMuch less integrated    0.982456\n",
       "Length: 114, dtype: float64"
      ]
     },
     "execution_count": 19,
     "metadata": {},
     "output_type": "execute_result"
    }
   ],
   "execution_count": 19
  },
  {
   "metadata": {
    "ExecuteTime": {
     "end_time": "2024-10-22T07:44:35.653077Z",
     "start_time": "2024-10-22T07:44:35.644933Z"
    }
   },
   "cell_type": "code",
   "source": [
    "# Check the datatypes \n",
    "raw_df.info(verbose=True)"
   ],
   "id": "9a15aa2146afad67",
   "outputs": [
    {
     "name": "stdout",
     "output_type": "stream",
     "text": [
      "<class 'pandas.core.frame.DataFrame'>\n",
      "RangeIndex: 65437 entries, 0 to 65436\n",
      "Data columns (total 114 columns):\n",
      " #    Column                          Dtype  \n",
      "---   ------                          -----  \n",
      " 0    ResponseId                      int64  \n",
      " 1    MainBranch                      object \n",
      " 2    Age                             object \n",
      " 3    Employment                      object \n",
      " 4    RemoteWork                      object \n",
      " 5    Check                           object \n",
      " 6    CodingActivities                object \n",
      " 7    EdLevel                         object \n",
      " 8    LearnCode                       object \n",
      " 9    LearnCodeOnline                 object \n",
      " 10   TechDoc                         object \n",
      " 11   YearsCode                       object \n",
      " 12   YearsCodePro                    object \n",
      " 13   DevType                         object \n",
      " 14   OrgSize                         object \n",
      " 15   PurchaseInfluence               object \n",
      " 16   BuyNewTool                      object \n",
      " 17   BuildvsBuy                      object \n",
      " 18   TechEndorse                     object \n",
      " 19   Country                         object \n",
      " 20   Currency                        object \n",
      " 21   CompTotal                       float64\n",
      " 22   LanguageHaveWorkedWith          object \n",
      " 23   LanguageWantToWorkWith          object \n",
      " 24   LanguageAdmired                 object \n",
      " 25   DatabaseHaveWorkedWith          object \n",
      " 26   DatabaseWantToWorkWith          object \n",
      " 27   DatabaseAdmired                 object \n",
      " 28   PlatformHaveWorkedWith          object \n",
      " 29   PlatformWantToWorkWith          object \n",
      " 30   PlatformAdmired                 object \n",
      " 31   WebframeHaveWorkedWith          object \n",
      " 32   WebframeWantToWorkWith          object \n",
      " 33   WebframeAdmired                 object \n",
      " 34   EmbeddedHaveWorkedWith          object \n",
      " 35   EmbeddedWantToWorkWith          object \n",
      " 36   EmbeddedAdmired                 object \n",
      " 37   MiscTechHaveWorkedWith          object \n",
      " 38   MiscTechWantToWorkWith          object \n",
      " 39   MiscTechAdmired                 object \n",
      " 40   ToolsTechHaveWorkedWith         object \n",
      " 41   ToolsTechWantToWorkWith         object \n",
      " 42   ToolsTechAdmired                object \n",
      " 43   NEWCollabToolsHaveWorkedWith    object \n",
      " 44   NEWCollabToolsWantToWorkWith    object \n",
      " 45   NEWCollabToolsAdmired           object \n",
      " 46   OpSysPersonal use               object \n",
      " 47   OpSysProfessional use           object \n",
      " 48   OfficeStackAsyncHaveWorkedWith  object \n",
      " 49   OfficeStackAsyncWantToWorkWith  object \n",
      " 50   OfficeStackAsyncAdmired         object \n",
      " 51   OfficeStackSyncHaveWorkedWith   object \n",
      " 52   OfficeStackSyncWantToWorkWith   object \n",
      " 53   OfficeStackSyncAdmired          object \n",
      " 54   AISearchDevHaveWorkedWith       object \n",
      " 55   AISearchDevWantToWorkWith       object \n",
      " 56   AISearchDevAdmired              object \n",
      " 57   NEWSOSites                      object \n",
      " 58   SOVisitFreq                     object \n",
      " 59   SOAccount                       object \n",
      " 60   SOPartFreq                      object \n",
      " 61   SOHow                           object \n",
      " 62   SOComm                          object \n",
      " 63   AISelect                        object \n",
      " 64   AISent                          object \n",
      " 65   AIBen                           object \n",
      " 66   AIAcc                           object \n",
      " 67   AIComplex                       object \n",
      " 68   AIToolCurrently Using           object \n",
      " 69   AIToolInterested in Using       object \n",
      " 70   AIToolNot interested in Using   object \n",
      " 71   AINextMuch more integrated      object \n",
      " 72   AINextNo change                 object \n",
      " 73   AINextMore integrated           object \n",
      " 74   AINextLess integrated           object \n",
      " 75   AINextMuch less integrated      object \n",
      " 76   AIThreat                        object \n",
      " 77   AIEthics                        object \n",
      " 78   AIChallenges                    object \n",
      " 79   TBranch                         object \n",
      " 80   ICorPM                          object \n",
      " 81   WorkExp                         float64\n",
      " 82   Knowledge_1                     object \n",
      " 83   Knowledge_2                     object \n",
      " 84   Knowledge_3                     object \n",
      " 85   Knowledge_4                     object \n",
      " 86   Knowledge_5                     object \n",
      " 87   Knowledge_6                     object \n",
      " 88   Knowledge_7                     object \n",
      " 89   Knowledge_8                     object \n",
      " 90   Knowledge_9                     object \n",
      " 91   Frequency_1                     object \n",
      " 92   Frequency_2                     object \n",
      " 93   Frequency_3                     object \n",
      " 94   TimeSearching                   object \n",
      " 95   TimeAnswering                   object \n",
      " 96   Frustration                     object \n",
      " 97   ProfessionalTech                object \n",
      " 98   ProfessionalCloud               object \n",
      " 99   ProfessionalQuestion            object \n",
      " 100  Industry                        object \n",
      " 101  JobSatPoints_1                  float64\n",
      " 102  JobSatPoints_4                  float64\n",
      " 103  JobSatPoints_5                  float64\n",
      " 104  JobSatPoints_6                  float64\n",
      " 105  JobSatPoints_7                  float64\n",
      " 106  JobSatPoints_8                  float64\n",
      " 107  JobSatPoints_9                  float64\n",
      " 108  JobSatPoints_10                 float64\n",
      " 109  JobSatPoints_11                 float64\n",
      " 110  SurveyLength                    object \n",
      " 111  SurveyEase                      object \n",
      " 112  ConvertedCompYearly             float64\n",
      " 113  JobSat                          float64\n",
      "dtypes: float64(13), int64(1), object(100)\n",
      "memory usage: 56.9+ MB\n"
     ]
    }
   ],
   "execution_count": 20
  },
  {
   "metadata": {
    "ExecuteTime": {
     "end_time": "2024-10-22T07:50:52.143944Z",
     "start_time": "2024-10-22T07:50:52.131589Z"
    }
   },
   "cell_type": "code",
   "source": [
    "NUM_FEATS = [\"Age\", \"YearsCode\", \"YearsCodePro\", \"OrgSize\", \"TimeSearching\", \"TimeAnswering\"]\n",
    "raw_df[NUM_FEATS].sample().iloc[0]"
   ],
   "id": "78e7dfdd71f16ab8",
   "outputs": [
    {
     "data": {
      "text/plain": [
       "Age                       25-34 years old\n",
       "YearsCode                              19\n",
       "YearsCodePro                            5\n",
       "OrgSize          10,000 or more employees\n",
       "TimeSearching         30-60 minutes a day\n",
       "TimeAnswering        60-120 minutes a day\n",
       "Name: 39862, dtype: object"
      ]
     },
     "execution_count": 31,
     "metadata": {},
     "output_type": "execute_result"
    }
   ],
   "execution_count": 31
  },
  {
   "metadata": {
    "ExecuteTime": {
     "end_time": "2024-10-22T07:53:37.310478Z",
     "start_time": "2024-10-22T07:53:37.299852Z"
    }
   },
   "cell_type": "code",
   "source": [
    "INV_FEATS = ['YearsCode', 'YearsCodePro'] # Features to check (why they datatype is object. They are supposed to be numerical)\n",
    "for inv_feat in INV_FEATS:\n",
    "    unique_values = raw_df[inv_feat].unique()\n",
    "    print(f\".. {inv_feat}: {unique_values}\")\n",
    "    print(f\"--------------------------------\")\n"
   ],
   "id": "933bef2e1614d269",
   "outputs": [
    {
     "name": "stdout",
     "output_type": "stream",
     "text": [
      ".. YearsCode: [nan '20' '37' '4' '9' '10' '7' '1' '15' '30' '31' '6' '12' '22' '5' '36'\n",
      " '25' '44' '24' '18' '3' '8' 'More than 50 years' '11' '29' '40' '39' '2'\n",
      " '42' '34' '19' '35' '16' '33' '13' '23' '14' '28' '17' '21' '43' '46'\n",
      " '26' '32' '41' '45' '27' '38' '50' '48' '47' 'Less than 1 year' '49']\n",
      "--------------------------------\n",
      ".. YearsCodePro: [nan '17' '27' '7' '11' '25' '12' '10' '3' 'Less than 1 year' '18' '37'\n",
      " '15' '20' '6' '2' '16' '8' '14' '4' '45' '1' '24' '29' '5' '30' '26' '9'\n",
      " '33' '13' '35' '23' '22' '31' '19' '21' '28' '34' '32' '40' '50' '39'\n",
      " '44' '42' '41' '36' '38' 'More than 50 years' '43' '47' '48' '46' '49']\n",
      "--------------------------------\n"
     ]
    }
   ],
   "execution_count": 32
  },
  {
   "metadata": {
    "ExecuteTime": {
     "end_time": "2024-10-22T07:54:18.269175Z",
     "start_time": "2024-10-22T07:54:18.248109Z"
    }
   },
   "cell_type": "code",
   "source": [
    "for feat in NUM_FEATS:\n",
    "    unique_values = raw_df[feat].unique()\n",
    "    print(f\".. {feat}: {unique_values}\")\n",
    "    print(f\"--------------------------------\")"
   ],
   "id": "842048e6d910a44f",
   "outputs": [
    {
     "name": "stdout",
     "output_type": "stream",
     "text": [
      ".. Age: ['Under 18 years old' '35-44 years old' '45-54 years old'\n",
      " '18-24 years old' '25-34 years old' '55-64 years old' 'Prefer not to say'\n",
      " '65 years or older']\n",
      "--------------------------------\n",
      ".. YearsCode: [nan '20' '37' '4' '9' '10' '7' '1' '15' '30' '31' '6' '12' '22' '5' '36'\n",
      " '25' '44' '24' '18' '3' '8' 'More than 50 years' '11' '29' '40' '39' '2'\n",
      " '42' '34' '19' '35' '16' '33' '13' '23' '14' '28' '17' '21' '43' '46'\n",
      " '26' '32' '41' '45' '27' '38' '50' '48' '47' 'Less than 1 year' '49']\n",
      "--------------------------------\n",
      ".. YearsCodePro: [nan '17' '27' '7' '11' '25' '12' '10' '3' 'Less than 1 year' '18' '37'\n",
      " '15' '20' '6' '2' '16' '8' '14' '4' '45' '1' '24' '29' '5' '30' '26' '9'\n",
      " '33' '13' '35' '23' '22' '31' '19' '21' '28' '34' '32' '40' '50' '39'\n",
      " '44' '42' '41' '36' '38' 'More than 50 years' '43' '47' '48' '46' '49']\n",
      "--------------------------------\n",
      ".. OrgSize: [nan '100 to 499 employees' '2 to 9 employees'\n",
      " 'Just me - I am a freelancer, sole proprietor, etc.' '10 to 19 employees'\n",
      " '20 to 99 employees' '5,000 to 9,999 employees'\n",
      " '1,000 to 4,999 employees' 'I don’t know' '10,000 or more employees'\n",
      " '500 to 999 employees']\n",
      "--------------------------------\n",
      ".. TimeSearching: [nan '30-60 minutes a day' '60-120 minutes a day' '15-30 minutes a day'\n",
      " 'Less than 15 minutes a day' 'Over 120 minutes a day']\n",
      "--------------------------------\n",
      ".. TimeAnswering: [nan '60-120 minutes a day' '15-30 minutes a day' '30-60 minutes a day'\n",
      " 'Less than 15 minutes a day' 'Over 120 minutes a day']\n",
      "--------------------------------\n"
     ]
    }
   ],
   "execution_count": 33
  },
  {
   "metadata": {
    "ExecuteTime": {
     "end_time": "2024-10-22T08:04:14.373567Z",
     "start_time": "2024-10-22T08:04:14.356507Z"
    }
   },
   "cell_type": "code",
   "source": [
    "FEATS = [\"LanguageHaveWorkedWith\", \n",
    "         \"DatabaseHaveWorkedWith\", \n",
    "         \"PlatformHaveWorkedWith\", \n",
    "         \"WebframeHaveWorkedWith\", \n",
    "         \"EmbeddedHaveWorkedWith\", \n",
    "         \"MiscTechHaveWorkedWith\", \n",
    "         \"ToolsTechHaveWorkedWith\", \n",
    "         \"NEWCollabToolsHaveWorkedWith\", \n",
    "         \"OpSysPersonal use\", \n",
    "         \"OpSysProfessional use\", \n",
    "         \"OfficeStackAsyncHaveWorkedWith\", \n",
    "         \"AISearchDevHaveWorkedWith\"]\n",
    "\n",
    "LABEL = [\"DevType\"]\n",
    "\n",
    "raw_df[FEATS + LABEL].sample(1).iloc[0]"
   ],
   "id": "9a2f7c7f7e350428",
   "outputs": [
    {
     "data": {
      "text/plain": [
       "LanguageHaveWorkedWith            C;C#;Dart;HTML/CSS;Java;JavaScript;Kotlin;PHP;...\n",
       "DatabaseHaveWorkedWith                    MariaDB;Microsoft SQL Server;MySQL;SQLite\n",
       "PlatformHaveWorkedWith                                              Firebase;VMware\n",
       "WebframeHaveWorkedWith                                        Spring Boot;WordPress\n",
       "EmbeddedHaveWorkedWith                                          Arduino;Rasberry Pi\n",
       "MiscTechHaveWorkedWith            .NET (5+) ;.NET Framework (1.0 - 4.8);Flutter;...\n",
       "ToolsTechHaveWorkedWith           Dagger;Gradle;Homebrew;Maven (build tool);npm;...\n",
       "NEWCollabToolsHaveWorkedWith      Android Studio;Eclipse;IntelliJ IDEA;Notepad++...\n",
       "OpSysPersonal use                           Android;iOS;iPadOS;MacOS;Ubuntu;Windows\n",
       "OpSysProfessional use                                      Android;iOS;iPadOS;MacOS\n",
       "OfficeStackAsyncHaveWorkedWith    Confluence;GitHub Discussions;Jira;Markdown Fi...\n",
       "AISearchDevHaveWorkedWith                                     ChatGPT;Google Gemini\n",
       "DevType                                                           Developer, mobile\n",
       "Name: 53048, dtype: object"
      ]
     },
     "execution_count": 41,
     "metadata": {},
     "output_type": "execute_result"
    }
   ],
   "execution_count": 41
  },
  {
   "metadata": {
    "ExecuteTime": {
     "end_time": "2024-10-22T08:02:28.406782Z",
     "start_time": "2024-10-22T08:02:28.398968Z"
    }
   },
   "cell_type": "code",
   "source": "raw_df['DevType'].unique()",
   "id": "af4fac6e04efefde",
   "outputs": [
    {
     "data": {
      "text/plain": [
       "array([nan, 'Developer, full-stack', 'Developer Experience', 'Student',\n",
       "       'Academic researcher', 'Project manager', 'Developer Advocate',\n",
       "       'Developer, back-end', 'Other (please specify):',\n",
       "       'Developer, front-end', 'Database administrator',\n",
       "       'Developer, desktop or enterprise applications',\n",
       "       'Cloud infrastructure engineer',\n",
       "       'Data scientist or machine learning specialist',\n",
       "       'Research & Development role',\n",
       "       'Developer, embedded applications or devices',\n",
       "       'System administrator', 'DevOps specialist', 'Engineering manager',\n",
       "       'Designer', 'Security professional',\n",
       "       'Senior Executive (C-Suite, VP, etc.)', 'Developer, mobile',\n",
       "       'Developer, game or graphics', 'Data or business analyst',\n",
       "       'Educator', 'Developer, QA or test', 'Product manager',\n",
       "       'Developer, AI', 'Scientist', 'Engineer, site reliability',\n",
       "       'Blockchain', 'Marketing or sales professional',\n",
       "       'Hardware Engineer', 'Data engineer'], dtype=object)"
      ]
     },
     "execution_count": 38,
     "metadata": {},
     "output_type": "execute_result"
    }
   ],
   "execution_count": 38
  },
  {
   "metadata": {
    "ExecuteTime": {
     "end_time": "2024-10-22T08:03:40.198753Z",
     "start_time": "2024-10-22T08:03:40.179577Z"
    }
   },
   "cell_type": "code",
   "source": [
    "# The portion of students in the dataset \n",
    "# Student is not a job. We will delete this DevType \n",
    "\n",
    "students_df = raw_df[raw_df['DevType'] == 'Student']\n",
    "\n",
    "print(\"Portion of students in the dataset: \")\n",
    "print(f\".. {students_df.shape[0] / raw_df.shape[0] * 100:.2f}%\")"
   ],
   "id": "25690dd1488472e8",
   "outputs": [
    {
     "name": "stdout",
     "output_type": "stream",
     "text": [
      "Portion of students in the dataset: \n",
      ".. 7.80%\n"
     ]
    }
   ],
   "execution_count": 40
  },
  {
   "metadata": {
    "ExecuteTime": {
     "end_time": "2024-10-22T08:12:44.881855Z",
     "start_time": "2024-10-22T08:12:44.815043Z"
    }
   },
   "cell_type": "code",
   "source": [
    "FEATS = [\"LanguageHaveWorkedWith\", \n",
    "         \"DatabaseHaveWorkedWith\", \n",
    "         \"PlatformHaveWorkedWith\", \n",
    "         \"WebframeHaveWorkedWith\", \n",
    "         \"EmbeddedHaveWorkedWith\", \n",
    "         \"MiscTechHaveWorkedWith\", \n",
    "         \"ToolsTechHaveWorkedWith\", \n",
    "         \"NEWCollabToolsHaveWorkedWith\", \n",
    "         \"OpSysPersonal use\", \n",
    "         \"OpSysProfessional use\", \n",
    "         \"OfficeStackAsyncHaveWorkedWith\", \n",
    "         \"AISearchDevHaveWorkedWith\"]\n",
    "\n",
    "LABEL = [\"DevType\"]\n",
    "\n",
    "OTHER_FEATS = []\n",
    "for feature in raw_df.columns:\n",
    "    if feature not in FEATS + LABEL:\n",
    "        OTHER_FEATS.append(feature)\n",
    "        \n",
    "raw_df[OTHER_FEATS].sample(1).iloc[0]\n"
   ],
   "id": "6b6d2c43fe5a2e5b",
   "outputs": [
    {
     "data": {
      "text/plain": [
       "ResponseId                                      25642\n",
       "MainBranch             I am a developer by profession\n",
       "Age                                   25-34 years old\n",
       "Employment                        Employed, full-time\n",
       "RemoteWork                                  In-person\n",
       "                                    ...              \n",
       "JobSatPoints_11                                   NaN\n",
       "SurveyLength                                 Too long\n",
       "SurveyEase                                       Easy\n",
       "ConvertedCompYearly                           24037.0\n",
       "JobSat                                            NaN\n",
       "Name: 25641, Length: 101, dtype: object"
      ]
     },
     "execution_count": 47,
     "metadata": {},
     "output_type": "execute_result"
    }
   ],
   "execution_count": 47
  },
  {
   "metadata": {
    "ExecuteTime": {
     "end_time": "2024-10-22T08:13:32.497827Z",
     "start_time": "2024-10-22T08:13:32.487615Z"
    }
   },
   "cell_type": "code",
   "source": [
    "unique_main_branch = raw_df['MainBranch'].unique()\n",
    "print(f\"unique_main_branch: {unique_main_branch}\")"
   ],
   "id": "d7758e0b123faff9",
   "outputs": [
    {
     "name": "stdout",
     "output_type": "stream",
     "text": [
      "unique_main_branch: ['I am a developer by profession' 'I am learning to code'\n",
      " 'I code primarily as a hobby'\n",
      " 'I am not primarily a developer, but I write code sometimes as part of my work/studies'\n",
      " 'I used to be a developer by profession, but no longer am']\n"
     ]
    }
   ],
   "execution_count": 48
  },
  {
   "metadata": {
    "ExecuteTime": {
     "end_time": "2024-10-22T08:20:14.083055Z",
     "start_time": "2024-10-22T08:20:13.932133Z"
    }
   },
   "cell_type": "code",
   "source": [
    "PRO_MAIN_BRANCH = [\"I am a developer by profession\", \n",
    "                   \"I am not primarily a developer, but I write code sometimes as part of my work/studies\", \n",
    "                   \"I used to be a developer by profession, but no longer am\"\n",
    "                   ]\n",
    "\n",
    "portion_sum = 0\n",
    "for branch in PRO_MAIN_BRANCH:\n",
    "    print(f\"Portion of {branch} in the dataset\")\n",
    "    print(f\".. {branch}: {raw_df[raw_df['MainBranch'] == branch].shape[0] / raw_df.shape[0] * 100:.2f}%\")\n",
    "    portion_sum += raw_df[raw_df['MainBranch'] == branch].shape[0] / raw_df.shape[0] * 100\n",
    "    \n",
    "print(f\"------------------------------------------\")\n",
    "print(f\"The sum of these portions is: {portion_sum:.2f}%\")\n",
    "print(f\"The portion of people who code as a hobby: {(100 - portion_sum):.2f}%\")"
   ],
   "id": "34708eaa1c2fb967",
   "outputs": [
    {
     "name": "stdout",
     "output_type": "stream",
     "text": [
      "Portion of I am a developer by profession in the dataset\n",
      ".. I am a developer by profession: 76.73%\n",
      "Portion of I am not primarily a developer, but I write code sometimes as part of my work/studies in the dataset\n",
      ".. I am not primarily a developer, but I write code sometimes as part of my work/studies: 9.95%\n",
      "Portion of I used to be a developer by profession, but no longer am in the dataset\n",
      ".. I used to be a developer by profession, but no longer am: 2.31%\n",
      "------------------------------------------\n",
      "The sum of these portions is: 88.98%\n",
      "The portion of people who code as a hobby: 11.02%\n"
     ]
    }
   ],
   "execution_count": 59
  },
  {
   "metadata": {},
   "cell_type": "markdown",
   "source": [
    "\n",
    "These values insure as that the dataset could be used in our business case. \n",
    "- We have only 7% of students in the dataset\n",
    "- Among professionals, we have 76% of developers that write code as part of their job and only 11% of programmers that code as a hobby\n",
    "These values indicates that the tech stacks will be correlated with the DevType. In addition, they reflect a real relationship."
   ],
   "id": "f99526d75ccf1027"
  },
  {
   "metadata": {},
   "cell_type": "markdown",
   "source": "END OF NOTEBOOK",
   "id": "32f8f7679b4fdaa3"
  }
 ],
 "metadata": {
  "kernelspec": {
   "display_name": "Python 3",
   "language": "python",
   "name": "python3"
  },
  "language_info": {
   "codemirror_mode": {
    "name": "ipython",
    "version": 2
   },
   "file_extension": ".py",
   "mimetype": "text/x-python",
   "name": "python",
   "nbconvert_exporter": "python",
   "pygments_lexer": "ipython2",
   "version": "2.7.6"
  }
 },
 "nbformat": 4,
 "nbformat_minor": 5
}
